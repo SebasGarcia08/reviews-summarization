{
 "cells": [
  {
   "cell_type": "code",
   "execution_count": 1,
   "metadata": {
    "ExecuteTime": {
     "end_time": "2021-03-17T03:51:39.193644Z",
     "start_time": "2021-03-17T03:51:38.740990Z"
    }
   },
   "outputs": [],
   "source": [
    "import selenium\n",
    "from selenium import webdriver\n",
    "from selenium.webdriver.support.ui import WebDriverWait\n",
    "from selenium.webdriver.support import expected_conditions as EC\n",
    "from selenium import webdriver\n",
    "from selenium.webdriver.chrome.options import Options\n",
    "from selenium.webdriver.common.by import By\n",
    "from selenium.common.exceptions import TimeoutException, NoSuchElementException, WebDriverException\n",
    "\n",
    "import pandas as pd\n",
    "import numpy as np\n",
    "\n",
    "import sys\n",
    "import csv\n",
    "import time\n",
    "import random\n",
    "import logging\n",
    "import traceback\n",
    "import os\n",
    "\n",
    "# default tripadvisor website of restaurant\n",
    "PATH = \"/usr/bin/chromedriver\""
   ]
  },
  {
   "cell_type": "code",
   "execution_count": 2,
   "metadata": {
    "ExecuteTime": {
     "end_time": "2021-03-17T03:51:40.643867Z",
     "start_time": "2021-03-17T03:51:40.639105Z"
    },
    "scrolled": true
   },
   "outputs": [],
   "source": [
    "logging.basicConfig(\n",
    "    format='%(asctime)s %(levelname)-8s %(message)s',\n",
    "    datefmt='%Y-%m-%d %H:%M:%S'\n",
    ")\n",
    "logger = logging.getLogger(__name__)\n",
    "logger.setLevel(logging.INFO)"
   ]
  },
  {
   "cell_type": "code",
   "execution_count": 3,
   "metadata": {
    "ExecuteTime": {
     "end_time": "2021-03-17T03:51:41.409824Z",
     "start_time": "2021-03-17T03:51:41.405696Z"
    }
   },
   "outputs": [],
   "source": [
    "def expand_reviews(locator, base_element):\n",
    "    element = WebDriverWait(base_element, timeout=10).until(\n",
    "        EC.presence_of_element_located(locator)\n",
    "    )\n",
    "    if element is not None:\n",
    "        element.click()"
   ]
  },
  {
   "cell_type": "code",
   "execution_count": 4,
   "metadata": {
    "ExecuteTime": {
     "end_time": "2021-03-17T03:51:42.440083Z",
     "start_time": "2021-03-17T03:51:42.435883Z"
    }
   },
   "outputs": [],
   "source": [
    "def get_field(jth_container, xpath, element_name):\n",
    "    try:\n",
    "        field = jth_container.find_element_by_xpath(xpath)\n",
    "    except Exception as e:\n",
    "        logger.error(f\"Could not get {element_name}\")\n",
    "        logger.error(e)\n",
    "        field = None\n",
    "    return field"
   ]
  },
  {
   "cell_type": "code",
   "execution_count": 5,
   "metadata": {
    "ExecuteTime": {
     "end_time": "2021-03-17T03:51:44.478281Z",
     "start_time": "2021-03-17T03:51:44.467843Z"
    }
   },
   "outputs": [],
   "source": [
    "def get_fields(jth_container):\n",
    "    title = get_field(jth_container, \".//span[@class='noQuotes']\", \"title\")\n",
    "    if title is not None:\n",
    "        title = title.text\n",
    "\n",
    "    date = get_field(jth_container, \".//span[contains(@class, 'ratingDate')]\", \"date\")\n",
    "    if date is not None:\n",
    "        try:\n",
    "            date = date.get_attribute(\"title\")\n",
    "        except Exception as e:\n",
    "            logger.error(\"Could not load date\")\n",
    "            logger.error(e)\n",
    "\n",
    "    rating = get_field(jth_container, \".//span[contains(@class, 'ui_bubble_rating bubble_')]\", \"rating\")\n",
    "    if rating is not None:\n",
    "        rating = rating.get_attribute(\"class\").split(\"_\")[3]\n",
    "    try:\n",
    "        try:\n",
    "            review = jth_container.find_element_by_xpath(\n",
    "                    \".//span[@class='postSnippet']\").text.replace(\"\\n\", \" \")\n",
    "        except:\n",
    "            review = jth_container.find_element_by_xpath(\n",
    "                    \".//p[@class='partial_entry']\").text.replace(\"\\n\", \" \")\n",
    "    except Exception as e:\n",
    "        review = None\n",
    "        logger.error(\"Could not get review\")\n",
    "        logger.error(e)\n",
    "    \n",
    "    return [date, rating, title, review]"
   ]
  },
  {
   "cell_type": "code",
   "execution_count": 6,
   "metadata": {
    "ExecuteTime": {
     "end_time": "2021-03-17T03:51:50.904751Z",
     "start_time": "2021-03-17T03:51:50.884847Z"
    }
   },
   "outputs": [],
   "source": [
    "def scrape_url(url, csvWriter, restaurant, debug=False, driver_args = None, max_num_retries=3):\n",
    "    num_retries = 0\n",
    "    finished = False\n",
    "    \n",
    "    while not finished and num_retries < max_num_retries:\n",
    "        try:\n",
    "            # Import the webdriver\n",
    "            if driver_args is not None:\n",
    "                driver = webdriver.Chrome(PATH, **driver_args)\n",
    "            else:\n",
    "                driver = webdriver.Chrome(PATH)        \n",
    "            driver.get(url)\n",
    "\n",
    "            reviews_div = WebDriverWait(driver, timeout=10).until(\n",
    "                EC.presence_of_element_located((By.ID, \"REVIEWS\"))\n",
    "            )\n",
    "\n",
    "            try:\n",
    "                num_pages_el = WebDriverWait(reviews_div, timeout=10).until(\n",
    "                    EC.presence_of_element_located((By.CLASS_NAME, \"pageNum.last\"))\n",
    "                )\n",
    "\n",
    "                num_pages = int(num_pages_el.text)\n",
    "                logger.info(f\"Found a maximum of {num_pages} pages\")\n",
    "            except Exception as e:\n",
    "                logger.error(\n",
    "                    \"Could not find maximum page. This page may only have one page of reviews\")\n",
    "                logger.error(e)\n",
    "                num_pages = 1\n",
    "\n",
    "            # change the value inside the range to save more or less reviews\n",
    "            for i in range(0, num_pages):\n",
    "\n",
    "                #     # expand the review\n",
    "                more_span = \"//span[@class='taLnk ulBlueLinks']\"\n",
    "                expand_locator = (By.XPATH, more_span)\n",
    "\n",
    "                try:\n",
    "                    expand_reviews(expand_locator, base_element=reviews_div)\n",
    "                except Exception as e:\n",
    "                    try:\n",
    "                        expand_reviews(expand_locator, base_element=reviews_div)\n",
    "                    except:\n",
    "                        logger.info(\"Could not find 'more' button in order to expand reviews\")\n",
    "\n",
    "            #     # Wait for the expansion to take place\n",
    "\n",
    "                # Make sure that all the reviews are loaded\n",
    "                time.sleep(2)\n",
    "                num_reviews_per_page = 10\n",
    "                container = driver.find_elements_by_xpath(\n",
    "                    \".//div[@class='review-container']\")\n",
    "                \n",
    "                # Check that all 10 pages are loaded if we are not in the last page\n",
    "                if len(container) < num_reviews_per_page and i < (num_pages - 1):\n",
    "                    max_num_tries = 5\n",
    "                    num_tries = 0\n",
    "\n",
    "                    while len(container) != num_reviews_per_page and num_tries < max_num_tries:\n",
    "                        time.sleep(1)\n",
    "                        try:\n",
    "                            container = driver.find_elements_by_xpath(\n",
    "                                \".//div[@class='review-container']\")\n",
    "                        except Exception as e:\n",
    "                            logger.log(f\"Could not load container with 10 reviwes, retrying {num_tries} of {max_num_tries}\")\n",
    "                            logger.log(e)\n",
    "                            pass\n",
    "                        num_tries += 1\n",
    "\n",
    "                for j in range(len(container)):\n",
    "                    \n",
    "                    date, rating, title, review = get_fields(container[j])\n",
    "\n",
    "                    if debug:\n",
    "                        print([restaurant, date, rating, title, review])\n",
    "\n",
    "                    csvWriter.writerow([restaurant, date, rating, title, review, url, str(i+1)])\n",
    "\n",
    "                if i < (num_pages-1):\n",
    "                    # change the page\n",
    "                    try:\n",
    "                        WebDriverWait(reviews_div, timeout=5).until( \n",
    "                            EC.element_to_be_clickable((By.XPATH, './/a[@class=\"nav next ui_button primary\"]'))\n",
    "                        ).click()\n",
    "    #                     driver.find_element_by_xpath(\n",
    "    #                         './/a[@class=\"nav next ui_button primary\"]').click()\n",
    "                        time.sleep(random.randint(1, 3))\n",
    "                    except Exception as e:\n",
    "                        logger.error(\"Could not find and click next button even without beeing in the last page and waited to load\")\n",
    "                        logger.error(e)\n",
    "                else:\n",
    "                    logger.info(\"Reached end of all pages\")\n",
    "                    finished = True\n",
    "                                     \n",
    "        except TimeoutException as e:\n",
    "            logger.error(f\"Could not load this page, retrying... {num_retries+1} of {max_num_retries}\")\n",
    "            logger.error(e)\n",
    "            num_retries += 1\n",
    "            time.sleep(random.randint(1, 60))\n",
    "        \n",
    "        driver.close()\n",
    "        time.sleep(random.randint(1, 3))"
   ]
  },
  {
   "cell_type": "code",
   "execution_count": 7,
   "metadata": {
    "ExecuteTime": {
     "end_time": "2021-03-17T03:51:52.164453Z",
     "start_time": "2021-03-17T03:51:52.137775Z"
    }
   },
   "outputs": [
    {
     "data": {
      "text/html": [
       "<div>\n",
       "<style scoped>\n",
       "    .dataframe tbody tr th:only-of-type {\n",
       "        vertical-align: middle;\n",
       "    }\n",
       "\n",
       "    .dataframe tbody tr th {\n",
       "        vertical-align: top;\n",
       "    }\n",
       "\n",
       "    .dataframe thead th {\n",
       "        text-align: right;\n",
       "    }\n",
       "</style>\n",
       "<table border=\"1\" class=\"dataframe\">\n",
       "  <thead>\n",
       "    <tr style=\"text-align: right;\">\n",
       "      <th></th>\n",
       "      <th>NYC_extract.DBA</th>\n",
       "      <th>NYC_extract.TripAdvisor.URL</th>\n",
       "      <th>NYC_extract.INSPECTION.DATE</th>\n",
       "      <th>NYC_extract.VIOLATION.DESCRIPTION</th>\n",
       "      <th>NYC_extract.SCORE</th>\n",
       "      <th>NYC_extract.GRADE</th>\n",
       "      <th>NYC_initial.Latitude</th>\n",
       "      <th>NYC_initial.Longitude</th>\n",
       "      <th>NYC_list_URL_final$NYC_extract.DBA</th>\n",
       "    </tr>\n",
       "  </thead>\n",
       "  <tbody>\n",
       "    <tr>\n",
       "      <th>946</th>\n",
       "      <td>NOEL'S PIZZA</td>\n",
       "      <td>https://www.tripadvisor.com/Restaurant_Review-...</td>\n",
       "      <td>11/02/2016</td>\n",
       "      <td>Facility not vermin proof. Harborage or condit...</td>\n",
       "      <td>14</td>\n",
       "      <td>NaN</td>\n",
       "      <td>40.786901</td>\n",
       "      <td>-73.942033</td>\n",
       "      <td>NOEL'S PIZZA</td>\n",
       "    </tr>\n",
       "    <tr>\n",
       "      <th>17922</th>\n",
       "      <td>WEST SIDE STEAKHOUSE</td>\n",
       "      <td>https://www.tripadvisor.com/Restaurant_Review-...</td>\n",
       "      <td>06/06/2017</td>\n",
       "      <td>Food not cooled by an approved method whereby ...</td>\n",
       "      <td>13</td>\n",
       "      <td>A</td>\n",
       "      <td>40.764325</td>\n",
       "      <td>-73.958543</td>\n",
       "      <td>WEST SIDE STEAKHOUSE</td>\n",
       "    </tr>\n",
       "    <tr>\n",
       "      <th>19584</th>\n",
       "      <td>BAKER'S PIZZA</td>\n",
       "      <td>https://www.tripadvisor.com/Restaurant_Review-...</td>\n",
       "      <td>03/07/2017</td>\n",
       "      <td>Hot food item not held at or above 140Âº F.</td>\n",
       "      <td>24</td>\n",
       "      <td>NaN</td>\n",
       "      <td>40.764257</td>\n",
       "      <td>-73.982997</td>\n",
       "      <td>BAKER'S PIZZA</td>\n",
       "    </tr>\n",
       "    <tr>\n",
       "      <th>19791</th>\n",
       "      <td>PEE DEE</td>\n",
       "      <td>https://www.tripadvisor.com/Restaurant_Review-...</td>\n",
       "      <td>04/07/2017</td>\n",
       "      <td>Facility not vermin proof. Harborage or condit...</td>\n",
       "      <td>27</td>\n",
       "      <td>NaN</td>\n",
       "      <td>40.785510</td>\n",
       "      <td>-73.972895</td>\n",
       "      <td>PEE DEE</td>\n",
       "    </tr>\n",
       "    <tr>\n",
       "      <th>19956</th>\n",
       "      <td>ABITINO'S PIZZA</td>\n",
       "      <td>https://www.tripadvisor.com/Restaurant_Review-...</td>\n",
       "      <td>04/07/2017</td>\n",
       "      <td>Cold food item held above 41Âº F (smoked fish ...</td>\n",
       "      <td>31</td>\n",
       "      <td>NaN</td>\n",
       "      <td>40.743826</td>\n",
       "      <td>-73.999556</td>\n",
       "      <td>ABITINO'S PIZZA</td>\n",
       "    </tr>\n",
       "  </tbody>\n",
       "</table>\n",
       "</div>"
      ],
      "text/plain": [
       "            NYC_extract.DBA  \\\n",
       "946            NOEL'S PIZZA   \n",
       "17922  WEST SIDE STEAKHOUSE   \n",
       "19584         BAKER'S PIZZA   \n",
       "19791               PEE DEE   \n",
       "19956       ABITINO'S PIZZA   \n",
       "\n",
       "                             NYC_extract.TripAdvisor.URL  \\\n",
       "946    https://www.tripadvisor.com/Restaurant_Review-...   \n",
       "17922  https://www.tripadvisor.com/Restaurant_Review-...   \n",
       "19584  https://www.tripadvisor.com/Restaurant_Review-...   \n",
       "19791  https://www.tripadvisor.com/Restaurant_Review-...   \n",
       "19956  https://www.tripadvisor.com/Restaurant_Review-...   \n",
       "\n",
       "      NYC_extract.INSPECTION.DATE  \\\n",
       "946                    11/02/2016   \n",
       "17922                  06/06/2017   \n",
       "19584                  03/07/2017   \n",
       "19791                  04/07/2017   \n",
       "19956                  04/07/2017   \n",
       "\n",
       "                       NYC_extract.VIOLATION.DESCRIPTION  NYC_extract.SCORE  \\\n",
       "946    Facility not vermin proof. Harborage or condit...                 14   \n",
       "17922  Food not cooled by an approved method whereby ...                 13   \n",
       "19584        Hot food item not held at or above 140Âº F.                 24   \n",
       "19791  Facility not vermin proof. Harborage or condit...                 27   \n",
       "19956  Cold food item held above 41Âº F (smoked fish ...                 31   \n",
       "\n",
       "      NYC_extract.GRADE  NYC_initial.Latitude  NYC_initial.Longitude  \\\n",
       "946                 NaN             40.786901             -73.942033   \n",
       "17922                 A             40.764325             -73.958543   \n",
       "19584               NaN             40.764257             -73.982997   \n",
       "19791               NaN             40.785510             -73.972895   \n",
       "19956               NaN             40.743826             -73.999556   \n",
       "\n",
       "      NYC_list_URL_final$NYC_extract.DBA  \n",
       "946                         NOEL'S PIZZA  \n",
       "17922               WEST SIDE STEAKHOUSE  \n",
       "19584                      BAKER'S PIZZA  \n",
       "19791                            PEE DEE  \n",
       "19956                    ABITINO'S PIZZA  "
      ]
     },
     "execution_count": 7,
     "metadata": {},
     "output_type": "execute_result"
    }
   ],
   "source": [
    "df = pd.read_csv(\"../datasets/final_list_URL_TripAdvisor_noduplicated.csv\")\n",
    "df.head()"
   ]
  },
  {
   "cell_type": "code",
   "execution_count": 8,
   "metadata": {
    "ExecuteTime": {
     "end_time": "2021-03-17T03:51:56.335667Z",
     "start_time": "2021-03-17T03:51:56.320092Z"
    }
   },
   "outputs": [
    {
     "data": {
      "text/html": [
       "<div>\n",
       "<style scoped>\n",
       "    .dataframe tbody tr th:only-of-type {\n",
       "        vertical-align: middle;\n",
       "    }\n",
       "\n",
       "    .dataframe tbody tr th {\n",
       "        vertical-align: top;\n",
       "    }\n",
       "\n",
       "    .dataframe thead th {\n",
       "        text-align: right;\n",
       "    }\n",
       "</style>\n",
       "<table border=\"1\" class=\"dataframe\">\n",
       "  <thead>\n",
       "    <tr style=\"text-align: right;\">\n",
       "      <th></th>\n",
       "      <th>NYC_extract.TripAdvisor.URL</th>\n",
       "      <th>NYC_extract.DBA</th>\n",
       "    </tr>\n",
       "  </thead>\n",
       "  <tbody>\n",
       "    <tr>\n",
       "      <th>946</th>\n",
       "      <td>https://www.tripadvisor.com/Restaurant_Review-...</td>\n",
       "      <td>NOEL'S PIZZA</td>\n",
       "    </tr>\n",
       "    <tr>\n",
       "      <th>17922</th>\n",
       "      <td>https://www.tripadvisor.com/Restaurant_Review-...</td>\n",
       "      <td>WEST SIDE STEAKHOUSE</td>\n",
       "    </tr>\n",
       "    <tr>\n",
       "      <th>19584</th>\n",
       "      <td>https://www.tripadvisor.com/Restaurant_Review-...</td>\n",
       "      <td>BAKER'S PIZZA</td>\n",
       "    </tr>\n",
       "    <tr>\n",
       "      <th>19791</th>\n",
       "      <td>https://www.tripadvisor.com/Restaurant_Review-...</td>\n",
       "      <td>PEE DEE</td>\n",
       "    </tr>\n",
       "    <tr>\n",
       "      <th>19956</th>\n",
       "      <td>https://www.tripadvisor.com/Restaurant_Review-...</td>\n",
       "      <td>ABITINO'S PIZZA</td>\n",
       "    </tr>\n",
       "    <tr>\n",
       "      <th>...</th>\n",
       "      <td>...</td>\n",
       "      <td>...</td>\n",
       "    </tr>\n",
       "    <tr>\n",
       "      <th>132689</th>\n",
       "      <td>https://www.tripadvisor.com/Restaurant_Review-...</td>\n",
       "      <td>CIELO AT THE MAYFAIR</td>\n",
       "    </tr>\n",
       "    <tr>\n",
       "      <th>132694</th>\n",
       "      <td>https://www.tripadvisor.com/Restaurant_Review-...</td>\n",
       "      <td>ZIA MARIA LITTLE ITALY</td>\n",
       "    </tr>\n",
       "    <tr>\n",
       "      <th>132713</th>\n",
       "      <td>https://www.tripadvisor.com/Restaurant_Review-...</td>\n",
       "      <td>ADRIENNE'S PIZZA BAR</td>\n",
       "    </tr>\n",
       "    <tr>\n",
       "      <th>97439</th>\n",
       "      <td>https://www.tripadvisor.com/Restaurant_Review-...</td>\n",
       "      <td>DON PEPI PIZZA</td>\n",
       "    </tr>\n",
       "    <tr>\n",
       "      <th>99140</th>\n",
       "      <td>https://www.tripadvisor.com/Restaurant_Review-...</td>\n",
       "      <td>DOMINOS PIZZA</td>\n",
       "    </tr>\n",
       "  </tbody>\n",
       "</table>\n",
       "<p>579 rows × 2 columns</p>\n",
       "</div>"
      ],
      "text/plain": [
       "                              NYC_extract.TripAdvisor.URL  \\\n",
       "946     https://www.tripadvisor.com/Restaurant_Review-...   \n",
       "17922   https://www.tripadvisor.com/Restaurant_Review-...   \n",
       "19584   https://www.tripadvisor.com/Restaurant_Review-...   \n",
       "19791   https://www.tripadvisor.com/Restaurant_Review-...   \n",
       "19956   https://www.tripadvisor.com/Restaurant_Review-...   \n",
       "...                                                   ...   \n",
       "132689  https://www.tripadvisor.com/Restaurant_Review-...   \n",
       "132694  https://www.tripadvisor.com/Restaurant_Review-...   \n",
       "132713  https://www.tripadvisor.com/Restaurant_Review-...   \n",
       "97439   https://www.tripadvisor.com/Restaurant_Review-...   \n",
       "99140   https://www.tripadvisor.com/Restaurant_Review-...   \n",
       "\n",
       "               NYC_extract.DBA  \n",
       "946               NOEL'S PIZZA  \n",
       "17922     WEST SIDE STEAKHOUSE  \n",
       "19584            BAKER'S PIZZA  \n",
       "19791                  PEE DEE  \n",
       "19956          ABITINO'S PIZZA  \n",
       "...                        ...  \n",
       "132689    CIELO AT THE MAYFAIR  \n",
       "132694  ZIA MARIA LITTLE ITALY  \n",
       "132713    ADRIENNE'S PIZZA BAR  \n",
       "97439           DON PEPI PIZZA  \n",
       "99140            DOMINOS PIZZA  \n",
       "\n",
       "[579 rows x 2 columns]"
      ]
     },
     "execution_count": 8,
     "metadata": {},
     "output_type": "execute_result"
    }
   ],
   "source": [
    "idxs = df[['NYC_extract.TripAdvisor.URL']].drop_duplicates().index\n",
    "df = df.loc[idxs, ['NYC_extract.TripAdvisor.URL', \"NYC_extract.DBA\"]]\n",
    "df"
   ]
  },
  {
   "cell_type": "code",
   "execution_count": 10,
   "metadata": {
    "ExecuteTime": {
     "end_time": "2021-03-17T03:52:43.519940Z",
     "start_time": "2021-03-17T03:52:43.504994Z"
    }
   },
   "outputs": [
    {
     "data": {
      "text/html": [
       "<div>\n",
       "<style scoped>\n",
       "    .dataframe tbody tr th:only-of-type {\n",
       "        vertical-align: middle;\n",
       "    }\n",
       "\n",
       "    .dataframe tbody tr th {\n",
       "        vertical-align: top;\n",
       "    }\n",
       "\n",
       "    .dataframe thead th {\n",
       "        text-align: right;\n",
       "    }\n",
       "</style>\n",
       "<table border=\"1\" class=\"dataframe\">\n",
       "  <thead>\n",
       "    <tr style=\"text-align: right;\">\n",
       "      <th></th>\n",
       "      <th>NYC_extract.TripAdvisor.URL</th>\n",
       "      <th>NYC_extract.DBA</th>\n",
       "    </tr>\n",
       "  </thead>\n",
       "  <tbody>\n",
       "    <tr>\n",
       "      <th>81742</th>\n",
       "      <td>couldnt find - repeated</td>\n",
       "      <td>OLGA'S PIZZA</td>\n",
       "    </tr>\n",
       "  </tbody>\n",
       "</table>\n",
       "</div>"
      ],
      "text/plain": [
       "      NYC_extract.TripAdvisor.URL NYC_extract.DBA\n",
       "81742     couldnt find - repeated    OLGA'S PIZZA"
      ]
     },
     "execution_count": 10,
     "metadata": {},
     "output_type": "execute_result"
    }
   ],
   "source": [
    "logs_lines = []\n",
    "\n",
    "for path in os.listdir(\"./scraping_runs/\"):\n",
    "    logs_lines += open(f\"./scraping_runs/{path}\").readlines()\n",
    "    \n",
    "urls_read = set(l.replace(\"\\n\",\"\") for l in logs_lines if l.startswith(\"http\"))\n",
    "pending_urls = set(df[\"NYC_extract.TripAdvisor.URL\"].values) - urls_read\n",
    "df = df[df[\"NYC_extract.TripAdvisor.URL\"].isin(pending_urls)]\n",
    "df"
   ]
  },
  {
   "cell_type": "code",
   "execution_count": 11,
   "metadata": {
    "ExecuteTime": {
     "end_time": "2021-03-17T03:54:25.379786Z",
     "start_time": "2021-03-17T03:54:25.367043Z"
    }
   },
   "outputs": [
    {
     "data": {
      "text/html": [
       "<div>\n",
       "<style scoped>\n",
       "    .dataframe tbody tr th:only-of-type {\n",
       "        vertical-align: middle;\n",
       "    }\n",
       "\n",
       "    .dataframe tbody tr th {\n",
       "        vertical-align: top;\n",
       "    }\n",
       "\n",
       "    .dataframe thead th {\n",
       "        text-align: right;\n",
       "    }\n",
       "</style>\n",
       "<table border=\"1\" class=\"dataframe\">\n",
       "  <thead>\n",
       "    <tr style=\"text-align: right;\">\n",
       "      <th></th>\n",
       "      <th>NYC_extract.TripAdvisor.URL</th>\n",
       "      <th>NYC_extract.DBA</th>\n",
       "    </tr>\n",
       "  </thead>\n",
       "  <tbody>\n",
       "    <tr>\n",
       "      <th>81742</th>\n",
       "      <td>couldnt find - repeated</td>\n",
       "      <td>OLGA'S PIZZA</td>\n",
       "    </tr>\n",
       "  </tbody>\n",
       "</table>\n",
       "</div>"
      ],
      "text/plain": [
       "      NYC_extract.TripAdvisor.URL NYC_extract.DBA\n",
       "81742     couldnt find - repeated    OLGA'S PIZZA"
      ]
     },
     "execution_count": 11,
     "metadata": {},
     "output_type": "execute_result"
    }
   ],
   "source": []
  },
  {
   "cell_type": "code",
   "execution_count": 133,
   "metadata": {
    "ExecuteTime": {
     "end_time": "2021-03-16T22:49:52.624404Z",
     "start_time": "2021-03-16T21:06:13.328047Z"
    }
   },
   "outputs": [
    {
     "name": "stdout",
     "output_type": "stream",
     "text": [
      "https://www.tripadvisor.com/Restaurant_Review-g60763-d3544467-Reviews-La_Bella_Vita-New_York_City_New_York.html\n"
     ]
    },
    {
     "name": "stderr",
     "output_type": "stream",
     "text": [
      "2021-03-16 16:06:19 INFO     Found a maximum of 37 pages\n",
      "2021-03-16 16:06:31 INFO     Could not find 'more' button in order to expand reviews\n",
      "2021-03-16 16:09:41 INFO     Reached end of all pages\n"
     ]
    },
    {
     "name": "stdout",
     "output_type": "stream",
     "text": [
      "https://www.tripadvisor.com/Restaurant_Review-g60763-d1318683-Reviews-Luna_Piena_Ristorante-New_York_City_New_York.html\n"
     ]
    },
    {
     "name": "stderr",
     "output_type": "stream",
     "text": [
      "2021-03-16 16:09:49 INFO     Found a maximum of 26 pages\n",
      "2021-03-16 16:12:05 INFO     Reached end of all pages\n"
     ]
    },
    {
     "name": "stdout",
     "output_type": "stream",
     "text": [
      "https://www.tripadvisor.com/Restaurant_Review-g60763-d1023214-Reviews-Quartino_Bottega_Organica-New_York_City_New_York.html\n"
     ]
    },
    {
     "name": "stderr",
     "output_type": "stream",
     "text": [
      "2021-03-16 16:12:13 INFO     Found a maximum of 6 pages\n",
      "2021-03-16 16:12:42 INFO     Reached end of all pages\n"
     ]
    },
    {
     "name": "stdout",
     "output_type": "stream",
     "text": [
      "https://www.tripadvisor.com/Restaurant_Review-g60763-d12945910-Reviews-Mani_in_Pasta-New_York_City_New_York.html\n"
     ]
    },
    {
     "name": "stderr",
     "output_type": "stream",
     "text": [
      "2021-03-16 16:12:50 INFO     Found a maximum of 2 pages\n",
      "2021-03-16 16:12:58 INFO     Reached end of all pages\n"
     ]
    },
    {
     "name": "stdout",
     "output_type": "stream",
     "text": [
      "https://www.tripadvisor.com/Restaurant_Review-g60763-d546786-Reviews-La_Masseria-New_York_City_New_York.html\n"
     ]
    },
    {
     "name": "stderr",
     "output_type": "stream",
     "text": [
      "2021-03-16 16:13:10 INFO     Found a maximum of 147 pages\n",
      "2021-03-16 16:26:44 INFO     Reached end of all pages\n"
     ]
    },
    {
     "name": "stdout",
     "output_type": "stream",
     "text": [
      "https://www.tripadvisor.com/Restaurant_Review-g60763-d3737291-Reviews-Firenze_Ristorante-New_York_City_New_York.html\n"
     ]
    },
    {
     "name": "stderr",
     "output_type": "stream",
     "text": [
      "2021-03-16 16:26:55 INFO     Found a maximum of 9 pages\n",
      "2021-03-16 16:27:45 INFO     Reached end of all pages\n"
     ]
    },
    {
     "name": "stdout",
     "output_type": "stream",
     "text": [
      "https://www.tripadvisor.com/Restaurant_Review-g60763-d521117-Reviews-Pietro_s-New_York_City_New_York.html\n"
     ]
    },
    {
     "name": "stderr",
     "output_type": "stream",
     "text": [
      "2021-03-16 16:27:54 INFO     Found a maximum of 16 pages\n",
      "2021-03-16 16:29:15 INFO     Reached end of all pages\n"
     ]
    },
    {
     "name": "stdout",
     "output_type": "stream",
     "text": [
      "https://www.tripadvisor.com/Restaurant_Review-g60763-d5210361-Reviews-Armonie-New_York_City_New_York.html\n"
     ]
    },
    {
     "name": "stderr",
     "output_type": "stream",
     "text": [
      "2021-03-16 16:29:34 ERROR    Could not find maximum page. This page may only have one page of reviews\n",
      "2021-03-16 16:29:34 ERROR    Message: \n",
      "\n",
      "2021-03-16 16:29:37 INFO     Reached end of all pages\n"
     ]
    },
    {
     "name": "stdout",
     "output_type": "stream",
     "text": [
      "https://www.tripadvisor.com/Attraction_Review-g60763-d5124083-Reviews-Grand_Central_Market-New_York_City_New_York.html\n"
     ]
    },
    {
     "name": "stderr",
     "output_type": "stream",
     "text": [
      "2021-03-16 16:29:59 ERROR    Could not find maximum page. This page may only have one page of reviews\n",
      "2021-03-16 16:29:59 ERROR    Message: \n",
      "\n",
      "2021-03-16 16:30:20 INFO     Could not find 'more' button in order to expand reviews\n",
      "2021-03-16 16:30:22 INFO     Reached end of all pages\n"
     ]
    },
    {
     "name": "stdout",
     "output_type": "stream",
     "text": [
      "https://www.tripadvisor.com/Restaurant_Review-g60763-d1731141-Reviews-Piccola_Cucina-New_York_City_New_York.html\n"
     ]
    },
    {
     "name": "stderr",
     "output_type": "stream",
     "text": [
      "2021-03-16 16:30:30 INFO     Found a maximum of 56 pages\n",
      "2021-03-16 16:35:28 INFO     Reached end of all pages\n"
     ]
    },
    {
     "name": "stdout",
     "output_type": "stream",
     "text": [
      "https://www.tripadvisor.com/Restaurant_Review-g60763-d6912446-Reviews-Antica_Ristorante-New_York_City_New_York.html\n"
     ]
    },
    {
     "name": "stderr",
     "output_type": "stream",
     "text": [
      "2021-03-16 16:35:43 INFO     Found a maximum of 18 pages\n",
      "2021-03-16 16:37:18 INFO     Reached end of all pages\n"
     ]
    },
    {
     "name": "stdout",
     "output_type": "stream",
     "text": [
      "https://www.tripadvisor.com/Restaurant_Review-g60763-d1878436-Reviews-Harry_s_Italian_Pizza_Bar-New_York_City_New_York.html\n"
     ]
    },
    {
     "name": "stderr",
     "output_type": "stream",
     "text": [
      "2021-03-16 16:37:27 INFO     Found a maximum of 31 pages\n",
      "2021-03-16 16:40:16 INFO     Reached end of all pages\n"
     ]
    },
    {
     "name": "stdout",
     "output_type": "stream",
     "text": [
      "https://www.tripadvisor.com/Restaurant_Review-g60763-d423968-Reviews-Serafina_Fabulous_Pizza_79th-New_York_City_New_York.html\n"
     ]
    },
    {
     "name": "stderr",
     "output_type": "stream",
     "text": [
      "2021-03-16 16:40:23 INFO     Found a maximum of 21 pages\n",
      "2021-03-16 16:42:17 INFO     Reached end of all pages\n"
     ]
    },
    {
     "name": "stdout",
     "output_type": "stream",
     "text": [
      "https://www.tripadvisor.com/Restaurant_Review-g60763-d968445-Reviews-Bocca_di_Bacco-New_York_City_New_York.html\n"
     ]
    },
    {
     "name": "stderr",
     "output_type": "stream",
     "text": [
      "2021-03-16 16:42:26 INFO     Found a maximum of 48 pages\n",
      "2021-03-16 16:46:40 INFO     Reached end of all pages\n"
     ]
    },
    {
     "name": "stdout",
     "output_type": "stream",
     "text": [
      "https://www.tripadvisor.com/Restaurant_Review-g60763-d2272739-Reviews-Giardino_D_oro-New_York_City_New_York.html\n"
     ]
    },
    {
     "name": "stderr",
     "output_type": "stream",
     "text": [
      "2021-03-16 16:46:47 INFO     Found a maximum of 7 pages\n",
      "2021-03-16 16:47:19 INFO     Reached end of all pages\n"
     ]
    },
    {
     "name": "stdout",
     "output_type": "stream",
     "text": [
      "https://www.tripadvisor.com/Restaurant_Review-g60763-d1308338-Reviews-Antonucci-New_York_City_New_York.html\n"
     ]
    },
    {
     "name": "stderr",
     "output_type": "stream",
     "text": [
      "2021-03-16 16:47:29 INFO     Found a maximum of 13 pages\n",
      "2021-03-16 16:48:38 INFO     Reached end of all pages\n"
     ]
    },
    {
     "name": "stdout",
     "output_type": "stream",
     "text": [
      "https://www.tripadvisor.com/Restaurant_Review-g60763-d1878682-Reviews-Olio_e_Piu-New_York_City_New_York.html\n"
     ]
    },
    {
     "name": "stderr",
     "output_type": "stream",
     "text": [
      "2021-03-16 16:48:48 INFO     Found a maximum of 205 pages\n",
      "2021-03-16 16:51:08 INFO     Could not find 'more' button in order to expand reviews\n",
      "2021-03-16 16:54:17 INFO     Could not find 'more' button in order to expand reviews\n",
      "2021-03-16 16:57:12 INFO     Could not find 'more' button in order to expand reviews\n",
      "2021-03-16 16:57:49 INFO     Could not find 'more' button in order to expand reviews\n",
      "2021-03-16 16:59:44 INFO     Could not find 'more' button in order to expand reviews\n",
      "2021-03-16 17:01:39 INFO     Could not find 'more' button in order to expand reviews\n",
      "2021-03-16 17:03:18 INFO     Could not find 'more' button in order to expand reviews\n",
      "2021-03-16 17:09:26 INFO     Reached end of all pages\n"
     ]
    },
    {
     "name": "stdout",
     "output_type": "stream",
     "text": [
      "https://www.tripadvisor.com/Restaurant_Review-g60763-d477302-Reviews-Umberto_s_Clam_House-New_York_City_New_York.html\n"
     ]
    },
    {
     "name": "stderr",
     "output_type": "stream",
     "text": [
      "2021-03-16 17:09:37 INFO     Found a maximum of 33 pages\n",
      "2021-03-16 17:12:32 INFO     Reached end of all pages\n"
     ]
    },
    {
     "name": "stdout",
     "output_type": "stream",
     "text": [
      "https://www.tripadvisor.com/Restaurant_Review-g60763-d13285712-Reviews-Mimmo-New_York_City_New_York.html\n"
     ]
    },
    {
     "name": "stderr",
     "output_type": "stream",
     "text": [
      "2021-03-16 17:12:41 INFO     Found a maximum of 2 pages\n",
      "2021-03-16 17:12:49 INFO     Reached end of all pages\n"
     ]
    },
    {
     "name": "stdout",
     "output_type": "stream",
     "text": [
      "https://www.tripadvisor.com/RestaurantsNear-g60763-d479379-Angelo_s_of_Mulberry_Street-New_York_City_New_York.html\n"
     ]
    },
    {
     "name": "stderr",
     "output_type": "stream",
     "text": [
      "2021-03-16 17:13:07 ERROR    Could not load this page, retrying... 1 of 3\n",
      "2021-03-16 17:13:07 ERROR    Message: \n",
      "\n",
      "2021-03-16 17:13:45 ERROR    Could not load this page, retrying... 2 of 3\n",
      "2021-03-16 17:13:45 ERROR    Message: \n",
      "\n",
      "2021-03-16 17:14:53 ERROR    Could not load this page, retrying... 3 of 3\n",
      "2021-03-16 17:14:53 ERROR    Message: \n",
      "\n"
     ]
    },
    {
     "name": "stdout",
     "output_type": "stream",
     "text": [
      "https://www.tripadvisor.com/Restaurant_Review-g60763-d6486923-Reviews-Pisillo_Italian_Panini-New_York_City_New_York.html\n"
     ]
    },
    {
     "name": "stderr",
     "output_type": "stream",
     "text": [
      "2021-03-16 17:15:38 INFO     Found a maximum of 43 pages\n",
      "2021-03-16 17:19:18 INFO     Could not find 'more' button in order to expand reviews\n",
      "2021-03-16 17:19:22 ERROR    Could not find and click next button even without beeing in the last page and waited to load\n",
      "2021-03-16 17:19:22 ERROR    Message: element click intercepted: Element <a data-page-number=\"42\" data-offset=\"410\" class=\"nav next ui_button primary\" onclick=\"widgetEvCall('handlers.paginate', event, this); widgetEvCall('handlers.trackClick', event, this, 'pagination_next', '42');\" href=\"/Restaurant_Review-g60763-d6486923-Reviews-or410-Pisillo_Italian_Panini-New_York_City_New_York.html\">...</a> is not clickable at point (702, 582). Other element would receive the click: <div id=\"taplc_hotels_loading_box_rr_resp_0\" class=\"ppr_rup ppr_priv_hotels_loading_box\" data-placement-name=\"hotels_loading_box:rr_resp\" style=\"display: block;\">...</div>\n",
      "  (Session info: headless chrome=89.0.4389.82)\n",
      "\n",
      "2021-03-16 17:19:24 INFO     Could not find 'more' button in order to expand reviews\n",
      "2021-03-16 17:19:27 INFO     Reached end of all pages\n"
     ]
    },
    {
     "name": "stdout",
     "output_type": "stream",
     "text": [
      "https://www.tripadvisor.com/Restaurant_Review-g60763-d814362-Reviews-Aurora_SoHo-New_York_City_New_York.html\n"
     ]
    },
    {
     "name": "stderr",
     "output_type": "stream",
     "text": [
      "2021-03-16 17:19:38 INFO     Found a maximum of 26 pages\n",
      "2021-03-16 17:19:44 INFO     Could not find 'more' button in order to expand reviews\n",
      "2021-03-16 17:21:59 INFO     Reached end of all pages\n"
     ]
    },
    {
     "name": "stdout",
     "output_type": "stream",
     "text": [
      "https://www.tripadvisor.com/Restaurant_Review-g60763-d17195500-Reviews-Marcellino_Trattoria_Pizzeria-New_York_City_New_York.html\n"
     ]
    },
    {
     "name": "stderr",
     "output_type": "stream",
     "text": [
      "2021-03-16 17:22:05 INFO     Found a maximum of 3 pages\n",
      "2021-03-16 17:22:21 INFO     Reached end of all pages\n"
     ]
    },
    {
     "name": "stdout",
     "output_type": "stream",
     "text": [
      "https://www.tripadvisor.com/Restaurant_Review-g60763-d459100-Reviews-Trattoria_Belvedere-New_York_City_New_York.html\n"
     ]
    },
    {
     "name": "stderr",
     "output_type": "stream",
     "text": [
      "2021-03-16 17:22:29 INFO     Found a maximum of 17 pages\n",
      "2021-03-16 17:24:01 INFO     Reached end of all pages\n"
     ]
    },
    {
     "name": "stdout",
     "output_type": "stream",
     "text": [
      "https://www.tripadvisor.com/Restaurant_Review-g60763-d15561701-Reviews-Princi_Bakery-New_York_City_New_York.html\n"
     ]
    },
    {
     "name": "stderr",
     "output_type": "stream",
     "text": [
      "2021-03-16 17:24:10 INFO     Found a maximum of 2 pages\n",
      "2021-03-16 17:24:18 INFO     Reached end of all pages\n"
     ]
    },
    {
     "name": "stdout",
     "output_type": "stream",
     "text": [
      "https://www.tripadvisor.com/Restaurant_Review-g60763-d1057341-Reviews-Nizza-New_York_City_New_York.html\n"
     ]
    },
    {
     "name": "stderr",
     "output_type": "stream",
     "text": [
      "2021-03-16 17:24:27 INFO     Found a maximum of 85 pages\n",
      "2021-03-16 17:32:04 INFO     Reached end of all pages\n"
     ]
    },
    {
     "name": "stdout",
     "output_type": "stream",
     "text": [
      "https://www.tripadvisor.com/Restaurant_Review-g60763-d1749407-Reviews-Petrarca_Cucina_e_Vino-New_York_City_New_York.html\n"
     ]
    },
    {
     "name": "stderr",
     "output_type": "stream",
     "text": [
      "2021-03-16 17:32:15 INFO     Found a maximum of 14 pages\n",
      "2021-03-16 17:33:29 INFO     Reached end of all pages\n"
     ]
    },
    {
     "name": "stdout",
     "output_type": "stream",
     "text": [
      "https://www.tripadvisor.com/Restaurant_Review-g60763-d7934469-Reviews-Nocciola_Ristorante-New_York_City_New_York.html\n"
     ]
    },
    {
     "name": "stderr",
     "output_type": "stream",
     "text": [
      "2021-03-16 17:33:37 INFO     Found a maximum of 4 pages\n",
      "2021-03-16 17:33:58 INFO     Reached end of all pages\n"
     ]
    },
    {
     "name": "stdout",
     "output_type": "stream",
     "text": [
      "https://www.tripadvisor.com/Restaurant_Review-g60763-d946843-Reviews-Cacio_e_Vino-New_York_City_New_York.html\n"
     ]
    },
    {
     "name": "stderr",
     "output_type": "stream",
     "text": [
      "2021-03-16 17:34:08 INFO     Found a maximum of 11 pages\n",
      "2021-03-16 17:35:02 INFO     Reached end of all pages\n"
     ]
    },
    {
     "name": "stdout",
     "output_type": "stream",
     "text": [
      "https://www.tripadvisor.com/Restaurant_Review-g60763-d5825911-Reviews-Cibo_e_Vino-New_York_City_New_York.html\n"
     ]
    },
    {
     "name": "stderr",
     "output_type": "stream",
     "text": [
      "2021-03-16 17:35:10 INFO     Found a maximum of 11 pages\n",
      "2021-03-16 17:36:03 INFO     Reached end of all pages\n"
     ]
    },
    {
     "name": "stdout",
     "output_type": "stream",
     "text": [
      "https://www.tripadvisor.com/Restaurant_Review-g60763-d10934435-Reviews-Antico_Noe-New_York_City_New_York.html\n"
     ]
    },
    {
     "name": "stderr",
     "output_type": "stream",
     "text": [
      "2021-03-16 17:36:21 ERROR    Could not find maximum page. This page may only have one page of reviews\n",
      "2021-03-16 17:36:21 ERROR    Message: \n",
      "\n",
      "2021-03-16 17:36:24 INFO     Reached end of all pages\n"
     ]
    },
    {
     "name": "stdout",
     "output_type": "stream",
     "text": [
      "https://www.tripadvisor.com/Restaurant_Review-g60763-d11843586-Reviews-Allora_Ristorante-New_York_City_New_York.html\n"
     ]
    },
    {
     "name": "stderr",
     "output_type": "stream",
     "text": [
      "2021-03-16 17:36:40 INFO     Found a maximum of 13 pages\n",
      "2021-03-16 17:37:49 INFO     Reached end of all pages\n"
     ]
    },
    {
     "name": "stdout",
     "output_type": "stream",
     "text": [
      "https://www.tripadvisor.com/Restaurant_Review-g60763-d3747414-Reviews-Cielo_at_the_Mayfair-New_York_City_New_York.html\n"
     ]
    },
    {
     "name": "stderr",
     "output_type": "stream",
     "text": [
      "2021-03-16 17:37:58 INFO     Found a maximum of 26 pages\n",
      "2021-03-16 17:40:15 INFO     Reached end of all pages\n"
     ]
    },
    {
     "name": "stdout",
     "output_type": "stream",
     "text": [
      "https://www.tripadvisor.com/Restaurant_Review-g60763-d15151690-Reviews-Zia_Maria_Little_Italy-New_York_City_New_York.html\n"
     ]
    },
    {
     "name": "stderr",
     "output_type": "stream",
     "text": [
      "2021-03-16 17:40:23 INFO     Found a maximum of 5 pages\n",
      "2021-03-16 17:40:49 INFO     Reached end of all pages\n"
     ]
    },
    {
     "name": "stdout",
     "output_type": "stream",
     "text": [
      "https://www.tripadvisor.com/Restaurant_Review-g60763-d2397895-Reviews-Adrienne_s_Pizzabar-New_York_City_New_York.html\n"
     ]
    },
    {
     "name": "stderr",
     "output_type": "stream",
     "text": [
      "2021-03-16 17:41:19 INFO     Found a maximum of 56 pages\n",
      "2021-03-16 17:46:22 INFO     Reached end of all pages\n"
     ]
    },
    {
     "name": "stdout",
     "output_type": "stream",
     "text": [
      "https://www.tripadvisor.com/Restaurant_Review-g60763-d2362951-Reviews-Famous_Famiglia_Pizzeria-New_York_City_New_York.html\n"
     ]
    },
    {
     "name": "stderr",
     "output_type": "stream",
     "text": [
      "2021-03-16 17:46:30 INFO     Found a maximum of 34 pages\n",
      "2021-03-16 17:49:48 INFO     Could not find 'more' button in order to expand reviews\n",
      "2021-03-16 17:49:50 INFO     Reached end of all pages\n"
     ]
    }
   ],
   "source": [
    "# default path to file to store data\n",
    "path_to_file = \"../datasets/scraped_final_list_URL_TripAdvisor.csv\"\n",
    "\n",
    "# Open the file to save the review\n",
    "csvFile = open(path_to_file, 'a', encoding=\"utf-8\")\n",
    "csvWriter = csv.writer(csvFile)\n",
    "\n",
    "for i, row in df.iterrows():\n",
    "    url = row[\"NYC_extract.TripAdvisor.URL\"]\n",
    "    if not url.startswith(\"http\"):\n",
    "        continue\n",
    "    print(url)\n",
    "\n",
    "    opts = Options()\n",
    "    opts.add_argument('--no-sandbox')\n",
    "    opts.add_argument('--headless')\n",
    "    opts.add_argument('--disable-dev-shm-usage')\n",
    "    driver_args = { \"options\" : opts }\n",
    "\n",
    "    restaruant_name = row[\"NYC_extract.DBA\"]\n",
    "    \n",
    "    scrape_url(url, csvWriter, restaurant=restaruant_name, debug=False, \n",
    "               driver_args=driver_args)"
   ]
  },
  {
   "cell_type": "code",
   "execution_count": 1,
   "outputs": [
    {
     "data": {
      "text/plain": "    restaurant_name               date  rating  \\\n0              test   December 3, 2020      50   \n1              test       June 9, 2020      40   \n2              test     March 12, 2020      50   \n3              test   February 7, 2020      50   \n4              test   February 1, 2020      50   \n..              ...                ...     ...   \n329            test     March 24, 2011      30   \n330            test     March 24, 2011      10   \n331            test  September 4, 2009      20   \n332            test     August 3, 2009      40   \n333            test   December 6, 2007      30   \n\n                                                 title  \\\n0                             My Pal Tommy the Nose !!   \n1                          The food is definitely good   \n2                         Umberto was a great host and   \n3                                             Oh yeah!   \n4                                              Awesome   \n..                                                 ...   \n329               Good Italian - Wine was old and flat   \n330                        fugetaboutit - don't bother   \n331                                         Watch out!   \n332                          Great late night dinner!!   \n333  It was just average. I think the waiter was Ge...   \n\n                                                review  num_likes  \\\n0    Tommy is a great host of Umbertos for years. H...          1   \n1    The service was appropriately given to us. The...          1   \n2    Umberto was a great host and the food was exce...          0   \n3    Nice bread and water to start, nice little bot...          0   \n4    We were no planning to dine here but at the la...          1   \n..                                                 ...        ...   \n329  Food was good. Some of the best calamari I've ...          0   \n330  meal was mediocre - at best - but what made ou...          2   \n331  Our food was fine, but we were charged extra f...          0   \n332  After our nightmare at the Hotel Pennysylvania...          0   \n333  It was just average. I think the waiter was Ge...          0   \n\n                                                   url  num_page  total_pages  \n0    https://www.tripadvisor.com/Restaurant_Review-...         1          NaN  \n1    https://www.tripadvisor.com/Restaurant_Review-...         1          NaN  \n2    https://www.tripadvisor.com/Restaurant_Review-...         1          NaN  \n3    https://www.tripadvisor.com/Restaurant_Review-...         1          NaN  \n4    https://www.tripadvisor.com/Restaurant_Review-...         1          NaN  \n..                                                 ...       ...          ...  \n329  https://www.tripadvisor.com/Restaurant_Review-...        32          NaN  \n330  https://www.tripadvisor.com/Restaurant_Review-...        33          NaN  \n331  https://www.tripadvisor.com/Restaurant_Review-...        33          NaN  \n332  https://www.tripadvisor.com/Restaurant_Review-...        33          NaN  \n333  https://www.tripadvisor.com/Restaurant_Review-...        33          NaN  \n\n[334 rows x 9 columns]",
      "text/html": "<div>\n<style scoped>\n    .dataframe tbody tr th:only-of-type {\n        vertical-align: middle;\n    }\n\n    .dataframe tbody tr th {\n        vertical-align: top;\n    }\n\n    .dataframe thead th {\n        text-align: right;\n    }\n</style>\n<table border=\"1\" class=\"dataframe\">\n  <thead>\n    <tr style=\"text-align: right;\">\n      <th></th>\n      <th>restaurant_name</th>\n      <th>date</th>\n      <th>rating</th>\n      <th>title</th>\n      <th>review</th>\n      <th>num_likes</th>\n      <th>url</th>\n      <th>num_page</th>\n      <th>total_pages</th>\n    </tr>\n  </thead>\n  <tbody>\n    <tr>\n      <th>0</th>\n      <td>test</td>\n      <td>December 3, 2020</td>\n      <td>50</td>\n      <td>My Pal Tommy the Nose !!</td>\n      <td>Tommy is a great host of Umbertos for years. H...</td>\n      <td>1</td>\n      <td>https://www.tripadvisor.com/Restaurant_Review-...</td>\n      <td>1</td>\n      <td>NaN</td>\n    </tr>\n    <tr>\n      <th>1</th>\n      <td>test</td>\n      <td>June 9, 2020</td>\n      <td>40</td>\n      <td>The food is definitely good</td>\n      <td>The service was appropriately given to us. The...</td>\n      <td>1</td>\n      <td>https://www.tripadvisor.com/Restaurant_Review-...</td>\n      <td>1</td>\n      <td>NaN</td>\n    </tr>\n    <tr>\n      <th>2</th>\n      <td>test</td>\n      <td>March 12, 2020</td>\n      <td>50</td>\n      <td>Umberto was a great host and</td>\n      <td>Umberto was a great host and the food was exce...</td>\n      <td>0</td>\n      <td>https://www.tripadvisor.com/Restaurant_Review-...</td>\n      <td>1</td>\n      <td>NaN</td>\n    </tr>\n    <tr>\n      <th>3</th>\n      <td>test</td>\n      <td>February 7, 2020</td>\n      <td>50</td>\n      <td>Oh yeah!</td>\n      <td>Nice bread and water to start, nice little bot...</td>\n      <td>0</td>\n      <td>https://www.tripadvisor.com/Restaurant_Review-...</td>\n      <td>1</td>\n      <td>NaN</td>\n    </tr>\n    <tr>\n      <th>4</th>\n      <td>test</td>\n      <td>February 1, 2020</td>\n      <td>50</td>\n      <td>Awesome</td>\n      <td>We were no planning to dine here but at the la...</td>\n      <td>1</td>\n      <td>https://www.tripadvisor.com/Restaurant_Review-...</td>\n      <td>1</td>\n      <td>NaN</td>\n    </tr>\n    <tr>\n      <th>...</th>\n      <td>...</td>\n      <td>...</td>\n      <td>...</td>\n      <td>...</td>\n      <td>...</td>\n      <td>...</td>\n      <td>...</td>\n      <td>...</td>\n      <td>...</td>\n    </tr>\n    <tr>\n      <th>329</th>\n      <td>test</td>\n      <td>March 24, 2011</td>\n      <td>30</td>\n      <td>Good Italian - Wine was old and flat</td>\n      <td>Food was good. Some of the best calamari I've ...</td>\n      <td>0</td>\n      <td>https://www.tripadvisor.com/Restaurant_Review-...</td>\n      <td>32</td>\n      <td>NaN</td>\n    </tr>\n    <tr>\n      <th>330</th>\n      <td>test</td>\n      <td>March 24, 2011</td>\n      <td>10</td>\n      <td>fugetaboutit - don't bother</td>\n      <td>meal was mediocre - at best - but what made ou...</td>\n      <td>2</td>\n      <td>https://www.tripadvisor.com/Restaurant_Review-...</td>\n      <td>33</td>\n      <td>NaN</td>\n    </tr>\n    <tr>\n      <th>331</th>\n      <td>test</td>\n      <td>September 4, 2009</td>\n      <td>20</td>\n      <td>Watch out!</td>\n      <td>Our food was fine, but we were charged extra f...</td>\n      <td>0</td>\n      <td>https://www.tripadvisor.com/Restaurant_Review-...</td>\n      <td>33</td>\n      <td>NaN</td>\n    </tr>\n    <tr>\n      <th>332</th>\n      <td>test</td>\n      <td>August 3, 2009</td>\n      <td>40</td>\n      <td>Great late night dinner!!</td>\n      <td>After our nightmare at the Hotel Pennysylvania...</td>\n      <td>0</td>\n      <td>https://www.tripadvisor.com/Restaurant_Review-...</td>\n      <td>33</td>\n      <td>NaN</td>\n    </tr>\n    <tr>\n      <th>333</th>\n      <td>test</td>\n      <td>December 6, 2007</td>\n      <td>30</td>\n      <td>It was just average. I think the waiter was Ge...</td>\n      <td>It was just average. I think the waiter was Ge...</td>\n      <td>0</td>\n      <td>https://www.tripadvisor.com/Restaurant_Review-...</td>\n      <td>33</td>\n      <td>NaN</td>\n    </tr>\n  </tbody>\n</table>\n<p>334 rows × 9 columns</p>\n</div>"
     },
     "execution_count": 1,
     "metadata": {},
     "output_type": "execute_result"
    }
   ],
   "source": [
    "import pandas as pd\n",
    "df = pd.read_csv(\"../datasets/test.csv\", sep=\"\\t\")\n",
    "df"
   ],
   "metadata": {
    "collapsed": false,
    "pycharm": {
     "name": "#%%\n"
    }
   }
  }
 ],
 "metadata": {
  "kernelspec": {
   "display_name": "Python 3",
   "language": "python",
   "name": "python3"
  },
  "language_info": {
   "codemirror_mode": {
    "name": "ipython",
    "version": 3
   },
   "file_extension": ".py",
   "mimetype": "text/x-python",
   "name": "python",
   "nbconvert_exporter": "python",
   "pygments_lexer": "ipython3",
   "version": "3.7.10"
  },
  "latex_envs": {
   "LaTeX_envs_menu_present": true,
   "autoclose": false,
   "autocomplete": true,
   "bibliofile": "biblio.bib",
   "cite_by": "apalike",
   "current_citInitial": 1,
   "eqLabelWithNumbers": true,
   "eqNumInitial": 1,
   "hotkeys": {
    "equation": "Ctrl-E",
    "itemize": "Ctrl-I"
   },
   "labels_anchors": false,
   "latex_user_defs": false,
   "report_style_numbering": false,
   "user_envs_cfg": false
  },
  "notify_time": "30",
  "toc": {
   "base_numbering": 1,
   "nav_menu": {},
   "number_sections": true,
   "sideBar": true,
   "skip_h1_title": false,
   "title_cell": "Table of Contents",
   "title_sidebar": "Contents",
   "toc_cell": false,
   "toc_position": {},
   "toc_section_display": true,
   "toc_window_display": false
  }
 },
 "nbformat": 4,
 "nbformat_minor": 4
}