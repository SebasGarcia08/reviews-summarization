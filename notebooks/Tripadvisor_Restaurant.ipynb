{
 "cells": [
  {
   "cell_type": "code",
   "execution_count": 38,
   "metadata": {
    "ExecuteTime": {
     "end_time": "2021-03-15T20:45:27.328560Z",
     "start_time": "2021-03-15T20:45:27.322399Z"
    }
   },
   "outputs": [],
   "source": [
    "from selenium import webdriver\n",
    "from selenium.webdriver.support.ui import WebDriverWait\n",
    "from selenium.webdriver.support import expected_conditions as EC\n",
    "from selenium import webdriver\n",
    "from selenium.webdriver.chrome.options import Options\n",
    "from selenium.webdriver.common.by import By\n",
    "\n",
    "import pandas as pd\n",
    "import numpy as np\n",
    "\n",
    "import sys\n",
    "import csv\n",
    "import time\n",
    "import random\n",
    "import logging\n",
    "import traceback\n",
    "import os\n",
    "\n",
    "# default tripadvisor website of restaurant\n",
    "PATH = \"/usr/bin/chromedriver\""
   ]
  },
  {
   "cell_type": "code",
   "execution_count": 39,
   "metadata": {
    "ExecuteTime": {
     "end_time": "2021-03-15T20:45:27.795696Z",
     "start_time": "2021-03-15T20:45:27.792786Z"
    },
    "scrolled": true
   },
   "outputs": [],
   "source": [
    "logging.basicConfig()\n",
    "logger = logging.getLogger(__name__)\n",
    "logger.setLevel(logging.INFO)"
   ]
  },
  {
   "cell_type": "code",
   "execution_count": 40,
   "metadata": {
    "ExecuteTime": {
     "end_time": "2021-03-15T20:45:28.394470Z",
     "start_time": "2021-03-15T20:45:28.360375Z"
    }
   },
   "outputs": [],
   "source": [
    "def expand_reviews(locator, base_element):\n",
    "    element = WebDriverWait(base_element, timeout=10).until(\n",
    "        EC.presence_of_element_located(locator)\n",
    "    )\n",
    "    if element is not None:\n",
    "        element.click()\n",
    "\n",
    "\n",
    "def scrape_url(url, csvWriter, restaurant, debug=False, driver_args = None):\n",
    "\n",
    "    # Import the webdriver\n",
    "    if driver_args is not None:\n",
    "        driver = webdriver.Chrome(PATH, **driver_args)\n",
    "    else:\n",
    "        driver = webdriver.Chrome(PATH)        \n",
    "    driver.get(url)\n",
    "\n",
    "    try:\n",
    "        reviews_div = WebDriverWait(driver, timeout=10).until(\n",
    "            EC.presence_of_element_located((By.ID, \"REVIEWS\"))\n",
    "        )\n",
    "\n",
    "        try:\n",
    "            num_pages_el = WebDriverWait(reviews_div, timeout=10).until(\n",
    "                EC.presence_of_element_located((By.CLASS_NAME, \"pageNum.last\"))\n",
    "            )\n",
    "\n",
    "            num_pages = int(num_pages_el.text)\n",
    "            logger.info(f\"Found a maximum of {num_pages} pages\")\n",
    "        except Exception as e:\n",
    "            logger.error(\n",
    "                \"Could find maximum page. This page may only have one page of reviews\")\n",
    "            logger.error(e)\n",
    "            num_pages = 10\n",
    "\n",
    "        # change the value inside the range to save more or less reviews\n",
    "        for i in range(0, num_pages):\n",
    "\n",
    "            #     # expand the review\n",
    "            more_span = \"//span[@class='taLnk ulBlueLinks']\"\n",
    "            expand_locator = (By.XPATH, more_span)\n",
    "\n",
    "            try:\n",
    "                expand_reviews(expand_locator, base_element=reviews_div)\n",
    "            except Exception as e:\n",
    "                try:\n",
    "                    expand_reviews(expand_locator, base_element=reviews_div)\n",
    "                except:\n",
    "                    logger.info(\"Could not expand reviews\")\n",
    "\n",
    "        #     # Wait for the expansion to take place\n",
    "\n",
    "            # Make sure that all the reviews are loaded\n",
    "            time.sleep(2)\n",
    "            num_reviews_per_page = 10\n",
    "            container = driver.find_elements_by_xpath(\n",
    "                \".//div[@class='review-container']\")\n",
    "\n",
    "            if len(container) < num_reviews_per_page and i < (num_pages - 1):\n",
    "                max_num_tries = 5\n",
    "                num_tries = 0\n",
    "\n",
    "                while len(container) != num_reviews_per_page and num_tries < max_num_tries:\n",
    "                    time.sleep(1)\n",
    "                    try:\n",
    "                        container = driver.find_elements_by_xpath(\n",
    "                            \".//div[@class='review-container']\")\n",
    "                    except:\n",
    "                        pass\n",
    "                    num_tries += 1\n",
    "\n",
    "            for j in range(len(container)):\n",
    "                title = container[j].find_element_by_xpath(\n",
    "                    \".//span[@class='noQuotes']\").text\n",
    "                date = container[j].find_element_by_xpath(\n",
    "                    \".//span[contains(@class, 'ratingDate')]\").get_attribute(\"title\")\n",
    "                rating = container[j].find_element_by_xpath(\n",
    "                    \".//span[contains(@class, 'ui_bubble_rating bubble_')]\").get_attribute(\"class\").split(\"_\")[3]\n",
    "                try:\n",
    "                    review = container[j].find_element_by_xpath(\n",
    "                        \".//span[@class='postSnippet']\").text.replace(\"\\n\", \" \")\n",
    "                except:\n",
    "                    review = container[j].find_element_by_xpath(\n",
    "                        \".//p[@class='partial_entry']\").text.replace(\"\\n\", \" \")\n",
    "\n",
    "                if debug:\n",
    "                    print([restaurant, date, rating, title, review])\n",
    "\n",
    "                csvWriter.writerow([restaurant, date, rating, title, review, url, str(i+1)])\n",
    "\n",
    "            if i < (num_pages-1):\n",
    "                # change the page\n",
    "                driver.find_element_by_xpath(\n",
    "                    './/a[@class=\"nav next ui_button primary\"]').click()\n",
    "                time.sleep(random.randint(1, 4))\n",
    "            else:\n",
    "                logger.info(\"Reached end of page\")\n",
    "\n",
    "    except Exception as e:\n",
    "        logger.error(\"Could not load this page\")\n",
    "        logger.error(e)\n",
    "\n",
    "    driver.close()\n",
    "    time.sleep(random.randint(1, 3))"
   ]
  },
  {
   "cell_type": "code",
   "execution_count": 41,
   "metadata": {
    "ExecuteTime": {
     "end_time": "2021-03-15T20:45:29.405240Z",
     "start_time": "2021-03-15T20:45:29.366808Z"
    }
   },
   "outputs": [
    {
     "data": {
      "text/html": [
       "<div>\n",
       "<style scoped>\n",
       "    .dataframe tbody tr th:only-of-type {\n",
       "        vertical-align: middle;\n",
       "    }\n",
       "\n",
       "    .dataframe tbody tr th {\n",
       "        vertical-align: top;\n",
       "    }\n",
       "\n",
       "    .dataframe thead th {\n",
       "        text-align: right;\n",
       "    }\n",
       "</style>\n",
       "<table border=\"1\" class=\"dataframe\">\n",
       "  <thead>\n",
       "    <tr style=\"text-align: right;\">\n",
       "      <th></th>\n",
       "      <th>NYC_extract.DBA</th>\n",
       "      <th>NYC_extract.TripAdvisor.URL</th>\n",
       "      <th>NYC_extract.INSPECTION.DATE</th>\n",
       "      <th>NYC_extract.VIOLATION.DESCRIPTION</th>\n",
       "      <th>NYC_extract.SCORE</th>\n",
       "      <th>NYC_extract.GRADE</th>\n",
       "    </tr>\n",
       "  </thead>\n",
       "  <tbody>\n",
       "    <tr>\n",
       "      <th>946</th>\n",
       "      <td>NOEL'S PIZZA</td>\n",
       "      <td>https://www.tripadvisor.com/Restaurant_Review-...</td>\n",
       "      <td>11/02/2016</td>\n",
       "      <td>Facility not vermin proof. Harborage or condit...</td>\n",
       "      <td>14</td>\n",
       "      <td>NaN</td>\n",
       "    </tr>\n",
       "    <tr>\n",
       "      <th>17922</th>\n",
       "      <td>WEST SIDE STEAKHOUSE</td>\n",
       "      <td>https://www.tripadvisor.com/Restaurant_Review-...</td>\n",
       "      <td>06/06/2017</td>\n",
       "      <td>Food not cooled by an approved method whereby ...</td>\n",
       "      <td>13</td>\n",
       "      <td>A</td>\n",
       "    </tr>\n",
       "    <tr>\n",
       "      <th>19584</th>\n",
       "      <td>BAKER'S PIZZA</td>\n",
       "      <td>https://www.tripadvisor.com/Restaurant_Review-...</td>\n",
       "      <td>03/07/2017</td>\n",
       "      <td>Hot food item not held at or above 140Âº F.</td>\n",
       "      <td>24</td>\n",
       "      <td>NaN</td>\n",
       "    </tr>\n",
       "    <tr>\n",
       "      <th>19648</th>\n",
       "      <td>BAKER'S PIZZA</td>\n",
       "      <td>https://www.tripadvisor.com/Restaurant_Review-...</td>\n",
       "      <td>03/07/2017</td>\n",
       "      <td>Filth flies or food/refuse/sewage-associated (...</td>\n",
       "      <td>24</td>\n",
       "      <td>NaN</td>\n",
       "    </tr>\n",
       "    <tr>\n",
       "      <th>19791</th>\n",
       "      <td>PEE DEE</td>\n",
       "      <td>https://www.tripadvisor.com/Restaurant_Review-...</td>\n",
       "      <td>04/07/2017</td>\n",
       "      <td>Facility not vermin proof. Harborage or condit...</td>\n",
       "      <td>27</td>\n",
       "      <td>NaN</td>\n",
       "    </tr>\n",
       "  </tbody>\n",
       "</table>\n",
       "</div>"
      ],
      "text/plain": [
       "            NYC_extract.DBA  \\\n",
       "946            NOEL'S PIZZA   \n",
       "17922  WEST SIDE STEAKHOUSE   \n",
       "19584         BAKER'S PIZZA   \n",
       "19648         BAKER'S PIZZA   \n",
       "19791               PEE DEE   \n",
       "\n",
       "                             NYC_extract.TripAdvisor.URL  \\\n",
       "946    https://www.tripadvisor.com/Restaurant_Review-...   \n",
       "17922  https://www.tripadvisor.com/Restaurant_Review-...   \n",
       "19584  https://www.tripadvisor.com/Restaurant_Review-...   \n",
       "19648  https://www.tripadvisor.com/Restaurant_Review-...   \n",
       "19791  https://www.tripadvisor.com/Restaurant_Review-...   \n",
       "\n",
       "      NYC_extract.INSPECTION.DATE  \\\n",
       "946                    11/02/2016   \n",
       "17922                  06/06/2017   \n",
       "19584                  03/07/2017   \n",
       "19648                  03/07/2017   \n",
       "19791                  04/07/2017   \n",
       "\n",
       "                       NYC_extract.VIOLATION.DESCRIPTION  NYC_extract.SCORE  \\\n",
       "946    Facility not vermin proof. Harborage or condit...                 14   \n",
       "17922  Food not cooled by an approved method whereby ...                 13   \n",
       "19584        Hot food item not held at or above 140Âº F.                 24   \n",
       "19648  Filth flies or food/refuse/sewage-associated (...                 24   \n",
       "19791  Facility not vermin proof. Harborage or condit...                 27   \n",
       "\n",
       "      NYC_extract.GRADE  \n",
       "946                 NaN  \n",
       "17922                 A  \n",
       "19584               NaN  \n",
       "19648               NaN  \n",
       "19791               NaN  "
      ]
     },
     "execution_count": 41,
     "metadata": {},
     "output_type": "execute_result"
    }
   ],
   "source": [
    "df = pd.read_csv(\"../datasets/final_list_URL_TripAdvisor.csv\", sep=\";\")\n",
    "df.head()"
   ]
  },
  {
   "cell_type": "code",
   "execution_count": 42,
   "metadata": {
    "ExecuteTime": {
     "end_time": "2021-03-15T20:45:33.307558Z",
     "start_time": "2021-03-15T20:45:33.285076Z"
    }
   },
   "outputs": [
    {
     "data": {
      "text/html": [
       "<div>\n",
       "<style scoped>\n",
       "    .dataframe tbody tr th:only-of-type {\n",
       "        vertical-align: middle;\n",
       "    }\n",
       "\n",
       "    .dataframe tbody tr th {\n",
       "        vertical-align: top;\n",
       "    }\n",
       "\n",
       "    .dataframe thead th {\n",
       "        text-align: right;\n",
       "    }\n",
       "</style>\n",
       "<table border=\"1\" class=\"dataframe\">\n",
       "  <thead>\n",
       "    <tr style=\"text-align: right;\">\n",
       "      <th></th>\n",
       "      <th>NYC_extract.TripAdvisor.URL</th>\n",
       "      <th>NYC_extract.DBA</th>\n",
       "    </tr>\n",
       "  </thead>\n",
       "  <tbody>\n",
       "    <tr>\n",
       "      <th>946</th>\n",
       "      <td>https://www.tripadvisor.com/Restaurant_Review-...</td>\n",
       "      <td>NOEL'S PIZZA</td>\n",
       "    </tr>\n",
       "    <tr>\n",
       "      <th>17922</th>\n",
       "      <td>https://www.tripadvisor.com/Restaurant_Review-...</td>\n",
       "      <td>WEST SIDE STEAKHOUSE</td>\n",
       "    </tr>\n",
       "    <tr>\n",
       "      <th>19584</th>\n",
       "      <td>https://www.tripadvisor.com/Restaurant_Review-...</td>\n",
       "      <td>BAKER'S PIZZA</td>\n",
       "    </tr>\n",
       "    <tr>\n",
       "      <th>19791</th>\n",
       "      <td>https://www.tripadvisor.com/Restaurant_Review-...</td>\n",
       "      <td>PEE DEE</td>\n",
       "    </tr>\n",
       "    <tr>\n",
       "      <th>19956</th>\n",
       "      <td>https://www.tripadvisor.com/Restaurant_Review-...</td>\n",
       "      <td>ABITINO'S PIZZA</td>\n",
       "    </tr>\n",
       "    <tr>\n",
       "      <th>...</th>\n",
       "      <td>...</td>\n",
       "      <td>...</td>\n",
       "    </tr>\n",
       "    <tr>\n",
       "      <th>223934</th>\n",
       "      <td>https://www.tripadvisor.com/Restaurant_Review-...</td>\n",
       "      <td>FAMOUS ORIGINAL RAY'S PIZZA</td>\n",
       "    </tr>\n",
       "    <tr>\n",
       "      <th>224460</th>\n",
       "      <td>https://www.tripadvisor.com/Restaurant_Review-...</td>\n",
       "      <td>PRONTO PIZZA</td>\n",
       "    </tr>\n",
       "    <tr>\n",
       "      <th>226121</th>\n",
       "      <td>https://www.tripadvisor.com/Restaurant_Review-...</td>\n",
       "      <td>TWO BOOTS</td>\n",
       "    </tr>\n",
       "    <tr>\n",
       "      <th>227187</th>\n",
       "      <td>https://www.tripadvisor.com/Restaurant_Review-...</td>\n",
       "      <td>NICK &amp; STEF'S STEAKHOUSE</td>\n",
       "    </tr>\n",
       "    <tr>\n",
       "      <th>228132</th>\n",
       "      <td>https://www.tripadvisor.com/Restaurant_Review-...</td>\n",
       "      <td>LA VERA PIZZA</td>\n",
       "    </tr>\n",
       "  </tbody>\n",
       "</table>\n",
       "<p>650 rows × 2 columns</p>\n",
       "</div>"
      ],
      "text/plain": [
       "                              NYC_extract.TripAdvisor.URL  \\\n",
       "946     https://www.tripadvisor.com/Restaurant_Review-...   \n",
       "17922   https://www.tripadvisor.com/Restaurant_Review-...   \n",
       "19584   https://www.tripadvisor.com/Restaurant_Review-...   \n",
       "19791   https://www.tripadvisor.com/Restaurant_Review-...   \n",
       "19956   https://www.tripadvisor.com/Restaurant_Review-...   \n",
       "...                                                   ...   \n",
       "223934  https://www.tripadvisor.com/Restaurant_Review-...   \n",
       "224460  https://www.tripadvisor.com/Restaurant_Review-...   \n",
       "226121  https://www.tripadvisor.com/Restaurant_Review-...   \n",
       "227187  https://www.tripadvisor.com/Restaurant_Review-...   \n",
       "228132  https://www.tripadvisor.com/Restaurant_Review-...   \n",
       "\n",
       "                    NYC_extract.DBA  \n",
       "946                    NOEL'S PIZZA  \n",
       "17922          WEST SIDE STEAKHOUSE  \n",
       "19584                 BAKER'S PIZZA  \n",
       "19791                       PEE DEE  \n",
       "19956               ABITINO'S PIZZA  \n",
       "...                             ...  \n",
       "223934  FAMOUS ORIGINAL RAY'S PIZZA  \n",
       "224460                 PRONTO PIZZA  \n",
       "226121                    TWO BOOTS  \n",
       "227187     NICK & STEF'S STEAKHOUSE  \n",
       "228132                LA VERA PIZZA  \n",
       "\n",
       "[650 rows x 2 columns]"
      ]
     },
     "execution_count": 42,
     "metadata": {},
     "output_type": "execute_result"
    }
   ],
   "source": [
    "idxs = df[['NYC_extract.TripAdvisor.URL']].drop_duplicates().index\n",
    "df = df.loc[idxs, ['NYC_extract.TripAdvisor.URL', \"NYC_extract.DBA\"]]\n",
    "df"
   ]
  },
  {
   "cell_type": "code",
   "execution_count": 43,
   "metadata": {
    "ExecuteTime": {
     "end_time": "2021-03-15T20:45:34.392289Z",
     "start_time": "2021-03-15T20:45:34.369860Z"
    }
   },
   "outputs": [
    {
     "data": {
      "text/html": [
       "<div>\n",
       "<style scoped>\n",
       "    .dataframe tbody tr th:only-of-type {\n",
       "        vertical-align: middle;\n",
       "    }\n",
       "\n",
       "    .dataframe tbody tr th {\n",
       "        vertical-align: top;\n",
       "    }\n",
       "\n",
       "    .dataframe thead th {\n",
       "        text-align: right;\n",
       "    }\n",
       "</style>\n",
       "<table border=\"1\" class=\"dataframe\">\n",
       "  <thead>\n",
       "    <tr style=\"text-align: right;\">\n",
       "      <th></th>\n",
       "      <th>NYC_extract.TripAdvisor.URL</th>\n",
       "      <th>NYC_extract.DBA</th>\n",
       "    </tr>\n",
       "  </thead>\n",
       "  <tbody>\n",
       "    <tr>\n",
       "      <th>123245</th>\n",
       "      <td>https://www.tripadvisor.com/Restaurant_Review-...</td>\n",
       "      <td>LUZZO'S LA PIZZA NAPOLETANA</td>\n",
       "    </tr>\n",
       "    <tr>\n",
       "      <th>123263</th>\n",
       "      <td>https://www.tripadvisor.com/Restaurant_Review-...</td>\n",
       "      <td>IL CORTILE RESTAURANT</td>\n",
       "    </tr>\n",
       "    <tr>\n",
       "      <th>123270</th>\n",
       "      <td>https://www.tripadvisor.com/Restaurant_Review-...</td>\n",
       "      <td>GRADISCA RESTAURANT</td>\n",
       "    </tr>\n",
       "    <tr>\n",
       "      <th>123292</th>\n",
       "      <td>https://www.tripadvisor.com/Restaurant_Review-...</td>\n",
       "      <td>CACIO &amp; PEPE</td>\n",
       "    </tr>\n",
       "    <tr>\n",
       "      <th>123301</th>\n",
       "      <td>https://www.tripadvisor.com/Restaurant_Review-...</td>\n",
       "      <td>PATRIZIAS OF BROOKLYN</td>\n",
       "    </tr>\n",
       "    <tr>\n",
       "      <th>...</th>\n",
       "      <td>...</td>\n",
       "      <td>...</td>\n",
       "    </tr>\n",
       "    <tr>\n",
       "      <th>223934</th>\n",
       "      <td>https://www.tripadvisor.com/Restaurant_Review-...</td>\n",
       "      <td>FAMOUS ORIGINAL RAY'S PIZZA</td>\n",
       "    </tr>\n",
       "    <tr>\n",
       "      <th>224460</th>\n",
       "      <td>https://www.tripadvisor.com/Restaurant_Review-...</td>\n",
       "      <td>PRONTO PIZZA</td>\n",
       "    </tr>\n",
       "    <tr>\n",
       "      <th>226121</th>\n",
       "      <td>https://www.tripadvisor.com/Restaurant_Review-...</td>\n",
       "      <td>TWO BOOTS</td>\n",
       "    </tr>\n",
       "    <tr>\n",
       "      <th>227187</th>\n",
       "      <td>https://www.tripadvisor.com/Restaurant_Review-...</td>\n",
       "      <td>NICK &amp; STEF'S STEAKHOUSE</td>\n",
       "    </tr>\n",
       "    <tr>\n",
       "      <th>228132</th>\n",
       "      <td>https://www.tripadvisor.com/Restaurant_Review-...</td>\n",
       "      <td>LA VERA PIZZA</td>\n",
       "    </tr>\n",
       "  </tbody>\n",
       "</table>\n",
       "<p>304 rows × 2 columns</p>\n",
       "</div>"
      ],
      "text/plain": [
       "                              NYC_extract.TripAdvisor.URL  \\\n",
       "123245  https://www.tripadvisor.com/Restaurant_Review-...   \n",
       "123263  https://www.tripadvisor.com/Restaurant_Review-...   \n",
       "123270  https://www.tripadvisor.com/Restaurant_Review-...   \n",
       "123292  https://www.tripadvisor.com/Restaurant_Review-...   \n",
       "123301  https://www.tripadvisor.com/Restaurant_Review-...   \n",
       "...                                                   ...   \n",
       "223934  https://www.tripadvisor.com/Restaurant_Review-...   \n",
       "224460  https://www.tripadvisor.com/Restaurant_Review-...   \n",
       "226121  https://www.tripadvisor.com/Restaurant_Review-...   \n",
       "227187  https://www.tripadvisor.com/Restaurant_Review-...   \n",
       "228132  https://www.tripadvisor.com/Restaurant_Review-...   \n",
       "\n",
       "                    NYC_extract.DBA  \n",
       "123245  LUZZO'S LA PIZZA NAPOLETANA  \n",
       "123263        IL CORTILE RESTAURANT  \n",
       "123270          GRADISCA RESTAURANT  \n",
       "123292                 CACIO & PEPE  \n",
       "123301        PATRIZIAS OF BROOKLYN  \n",
       "...                             ...  \n",
       "223934  FAMOUS ORIGINAL RAY'S PIZZA  \n",
       "224460                 PRONTO PIZZA  \n",
       "226121                    TWO BOOTS  \n",
       "227187     NICK & STEF'S STEAKHOUSE  \n",
       "228132                LA VERA PIZZA  \n",
       "\n",
       "[304 rows x 2 columns]"
      ]
     },
     "execution_count": 43,
     "metadata": {},
     "output_type": "execute_result"
    }
   ],
   "source": [
    "logs_lines = []\n",
    "\n",
    "for path in os.listdir(\"./scraping_runs/\"):\n",
    "    logs_lines += open(f\"./scraping_runs/{path}\").readlines()\n",
    "    \n",
    "urls_read = set(l.replace(\"\\n\",\"\") for l in logs_lines if l.startswith(\"http\"))\n",
    "pending_urls = set(df[\"NYC_extract.TripAdvisor.URL\"].values) - urls_read\n",
    "df = df[df[\"NYC_extract.TripAdvisor.URL\"].isin(pending_urls)]\n",
    "df"
   ]
  },
  {
   "cell_type": "code",
   "execution_count": 47,
   "metadata": {
    "ExecuteTime": {
     "end_time": "2021-03-15T22:06:37.645233Z",
     "start_time": "2021-03-15T21:00:19.653268Z"
    }
   },
   "outputs": [
    {
     "name": "stdout",
     "output_type": "stream",
     "text": [
      "https://www.tripadvisor.com/Restaurant_Review-g60763-d779482-Reviews-Luzzo_s-New_York_City_New_York.html\n"
     ]
    },
    {
     "name": "stderr",
     "output_type": "stream",
     "text": [
      "INFO:__main__:Found a maximum of 23 pages\n",
      "ERROR:__main__:Could not load this page\n",
      "ERROR:__main__:Message: no such element: Unable to locate element: {\"method\":\"xpath\",\"selector\":\".//a[@class=\"nav next ui_button primary\"]\"}\n",
      "  (Session info: headless chrome=89.0.4389.82)\n",
      "\n"
     ]
    },
    {
     "name": "stdout",
     "output_type": "stream",
     "text": [
      "https://www.tripadvisor.com/Restaurant_Review-g60763-d424422-Reviews-Il_Cortile_Restaurant-New_York_City_New_York.html\n"
     ]
    },
    {
     "name": "stderr",
     "output_type": "stream",
     "text": [
      "INFO:__main__:Found a maximum of 70 pages\n",
      "ERROR:__main__:Could not load this page\n",
      "ERROR:__main__:Message: no such element: Unable to locate element: {\"method\":\"xpath\",\"selector\":\".//a[@class=\"nav next ui_button primary\"]\"}\n",
      "  (Session info: headless chrome=89.0.4389.82)\n",
      "\n"
     ]
    },
    {
     "name": "stdout",
     "output_type": "stream",
     "text": [
      "https://www.tripadvisor.com/Restaurant_Review-g60763-d445197-Reviews-Gradisca-New_York_City_New_York.html\n"
     ]
    },
    {
     "name": "stderr",
     "output_type": "stream",
     "text": [
      "INFO:__main__:Found a maximum of 12 pages\n",
      "ERROR:__main__:Could not load this page\n",
      "ERROR:__main__:Message: no such element: Unable to locate element: {\"method\":\"xpath\",\"selector\":\".//a[@class=\"nav next ui_button primary\"]\"}\n",
      "  (Session info: headless chrome=89.0.4389.82)\n",
      "\n"
     ]
    },
    {
     "name": "stdout",
     "output_type": "stream",
     "text": [
      "https://www.tripadvisor.com/Restaurant_Review-g60763-d599003-Reviews-Cacio_e_Pepe-New_York_City_New_York.html\n"
     ]
    },
    {
     "name": "stderr",
     "output_type": "stream",
     "text": [
      "INFO:__main__:Found a maximum of 15 pages\n",
      "ERROR:__main__:Could not load this page\n",
      "ERROR:__main__:Message: \n",
      "\n"
     ]
    },
    {
     "name": "stdout",
     "output_type": "stream",
     "text": [
      "https://www.tripadvisor.com/Restaurant_Review-g48127-d18825582-Reviews-Patrizia_s-Maspeth_Queens_New_York.html\n"
     ]
    },
    {
     "name": "stderr",
     "output_type": "stream",
     "text": [
      "ERROR:__main__:Could find maximum page. This page may only have one page of reviews\n",
      "ERROR:__main__:Message: \n",
      "\n",
      "ERROR:__main__:Could not load this page\n",
      "ERROR:__main__:Message: no such element: Unable to locate element: {\"method\":\"xpath\",\"selector\":\".//a[@class=\"nav next ui_button primary\"]\"}\n",
      "  (Session info: headless chrome=89.0.4389.82)\n",
      "\n"
     ]
    },
    {
     "name": "stdout",
     "output_type": "stream",
     "text": [
      "https://www.tripadvisor.com/Restaurant_Review-g60763-d8424752-Reviews-Bono_Trattoria-New_York_City_New_York.html\n"
     ]
    },
    {
     "name": "stderr",
     "output_type": "stream",
     "text": [
      "INFO:__main__:Found a maximum of 5 pages\n",
      "ERROR:__main__:Could not load this page\n",
      "ERROR:__main__:Message: no such element: Unable to locate element: {\"method\":\"xpath\",\"selector\":\".//a[@class=\"nav next ui_button primary\"]\"}\n",
      "  (Session info: headless chrome=89.0.4389.82)\n",
      "\n"
     ]
    },
    {
     "name": "stdout",
     "output_type": "stream",
     "text": [
      "https://www.tripadvisor.com/Restaurant_Review-g60763-d2086556-Reviews-Sofia_s-New_York_City_New_York.html\n"
     ]
    },
    {
     "name": "stderr",
     "output_type": "stream",
     "text": [
      "INFO:__main__:Found a maximum of 36 pages\n",
      "ERROR:__main__:Could not load this page\n",
      "ERROR:__main__:Message: no such element: Unable to locate element: {\"method\":\"xpath\",\"selector\":\".//a[@class=\"nav next ui_button primary\"]\"}\n",
      "  (Session info: headless chrome=89.0.4389.82)\n",
      "\n"
     ]
    },
    {
     "name": "stdout",
     "output_type": "stream",
     "text": [
      "https://www.tripadvisor.com/Restaurant_Review-g60763-d423264-Reviews-Palma-New_York_City_New_York.html\n"
     ]
    },
    {
     "name": "stderr",
     "output_type": "stream",
     "text": [
      "INFO:__main__:Found a maximum of 38 pages\n",
      "ERROR:__main__:Could not load this page\n",
      "ERROR:__main__:Message: no such element: Unable to locate element: {\"method\":\"xpath\",\"selector\":\".//a[@class=\"nav next ui_button primary\"]\"}\n",
      "  (Session info: headless chrome=89.0.4389.82)\n",
      "\n"
     ]
    },
    {
     "name": "stdout",
     "output_type": "stream",
     "text": [
      "https://www.tripadvisor.com/Restaurant_Review-g60763-d17433839-Reviews-Memoria-New_York_City_New_York.html\n"
     ]
    },
    {
     "name": "stderr",
     "output_type": "stream",
     "text": [
      "ERROR:__main__:Could find maximum page. This page may only have one page of reviews\n",
      "ERROR:__main__:Message: \n",
      "\n",
      "ERROR:__main__:Could not load this page\n",
      "ERROR:__main__:Message: no such element: Unable to locate element: {\"method\":\"xpath\",\"selector\":\".//a[@class=\"nav next ui_button primary\"]\"}\n",
      "  (Session info: headless chrome=89.0.4389.82)\n",
      "\n"
     ]
    },
    {
     "name": "stdout",
     "output_type": "stream",
     "text": [
      "https://www.tripadvisor.com/Restaurant_Review-g60763-d479364-Reviews-Basta_Pasta-New_York_City_New_York.html\n"
     ]
    },
    {
     "name": "stderr",
     "output_type": "stream",
     "text": [
      "INFO:__main__:Found a maximum of 23 pages\n",
      "ERROR:__main__:Could not load this page\n",
      "ERROR:__main__:Message: \n",
      "\n"
     ]
    },
    {
     "name": "stdout",
     "output_type": "stream",
     "text": [
      "https://www.tripadvisor.com/Restaurant_Review-g60763-d1557580-Reviews-Trattoria_Casa_di_Isacco-New_York_City_New_York.html\n"
     ]
    },
    {
     "name": "stderr",
     "output_type": "stream",
     "text": [
      "INFO:__main__:Found a maximum of 23 pages\n",
      "ERROR:__main__:Could not load this page\n",
      "ERROR:__main__:Message: element click intercepted: Element <span class=\"taLnk ulBlueLinks\" onclick=\"widgetEvCall('handlers.clickCollapse',event,this);\">...</span> is not clickable at point (188, 592). Other element would receive the click: <div id=\"taplc_hotels_loading_box_rr_resp_0\" class=\"ppr_rup ppr_priv_hotels_loading_box\" data-placement-name=\"hotels_loading_box:rr_resp\" style=\"display: block;\">...</div>\n",
      "  (Session info: headless chrome=89.0.4389.82)\n",
      "\n"
     ]
    },
    {
     "name": "stdout",
     "output_type": "stream",
     "text": [
      "https://www.tripadvisor.com/Restaurant_Review-g60763-d3962352-Reviews-Nica_Trattoria-New_York_City_New_York.html\n"
     ]
    },
    {
     "name": "stderr",
     "output_type": "stream",
     "text": [
      "INFO:__main__:Found a maximum of 5 pages\n",
      "ERROR:__main__:Could not load this page\n",
      "ERROR:__main__:Message: no such element: Unable to locate element: {\"method\":\"xpath\",\"selector\":\".//a[@class=\"nav next ui_button primary\"]\"}\n",
      "  (Session info: headless chrome=89.0.4389.82)\n",
      "\n"
     ]
    },
    {
     "name": "stdout",
     "output_type": "stream",
     "text": [
      "https://www.tripadvisor.com/Restaurant_Review-g60763-d423883-Reviews-Petaluma-New_York_City_New_York.html\n"
     ]
    },
    {
     "name": "stderr",
     "output_type": "stream",
     "text": [
      "INFO:__main__:Found a maximum of 10 pages\n",
      "ERROR:__main__:Could not load this page\n",
      "ERROR:__main__:Message: no such element: Unable to locate element: {\"method\":\"xpath\",\"selector\":\".//a[@class=\"nav next ui_button primary\"]\"}\n",
      "  (Session info: headless chrome=89.0.4389.82)\n",
      "\n"
     ]
    },
    {
     "name": "stdout",
     "output_type": "stream",
     "text": [
      "https://www.tripadvisor.com/Restaurant_Review-g60763-d7751468-Reviews-La_Pizza-New_York_City_New_York.html\n"
     ]
    },
    {
     "name": "stderr",
     "output_type": "stream",
     "text": [
      "INFO:__main__:Found a maximum of 8 pages\n",
      "ERROR:__main__:Could not load this page\n",
      "ERROR:__main__:Message: element click intercepted: Element <span class=\"taLnk ulBlueLinks\" onclick=\"widgetEvCall('handlers.clickExpand',event,this);\">...</span> is not clickable at point (218, 598). Other element would receive the click: <p class=\"partial_entry\">...</p>\n",
      "  (Session info: headless chrome=89.0.4389.82)\n",
      "\n"
     ]
    },
    {
     "name": "stdout",
     "output_type": "stream",
     "text": [
      "https://www.tripadvisor.com/Restaurant_Review-g60763-d7392512-Reviews-Amata-New_York_City_New_York.html\n"
     ]
    },
    {
     "name": "stderr",
     "output_type": "stream",
     "text": [
      "INFO:__main__:Found a maximum of 6 pages\n",
      "ERROR:__main__:Could not load this page\n",
      "ERROR:__main__:Message: no such element: Unable to locate element: {\"method\":\"xpath\",\"selector\":\".//a[@class=\"nav next ui_button primary\"]\"}\n",
      "  (Session info: headless chrome=89.0.4389.82)\n",
      "\n"
     ]
    },
    {
     "name": "stdout",
     "output_type": "stream",
     "text": [
      "https://www.tripadvisor.com/Restaurant_Review-g60763-d7370236-Reviews-Gelso_Grand-New_York_City_New_York.html\n"
     ]
    },
    {
     "name": "stderr",
     "output_type": "stream",
     "text": [
      "INFO:__main__:Found a maximum of 49 pages\n",
      "ERROR:__main__:Could not load this page\n",
      "ERROR:__main__:Message: no such element: Unable to locate element: {\"method\":\"xpath\",\"selector\":\".//a[@class=\"nav next ui_button primary\"]\"}\n",
      "  (Session info: headless chrome=89.0.4389.82)\n",
      "\n"
     ]
    },
    {
     "name": "stdout",
     "output_type": "stream",
     "text": [
      "https://www.tripadvisor.com/Restaurant_Review-g60763-d534450-Reviews-Via_Italia-New_York_City_New_York.html\n"
     ]
    },
    {
     "name": "stderr",
     "output_type": "stream",
     "text": [
      "INFO:__main__:Found a maximum of 21 pages\n",
      "ERROR:__main__:Could not load this page\n",
      "ERROR:__main__:Message: element click intercepted: Element <span class=\"taLnk ulBlueLinks\" onclick=\"widgetEvCall('handlers.clickCollapse',event,this);\">...</span> is not clickable at point (188, 592). Other element would receive the click: <div id=\"taplc_hotels_loading_box_rr_resp_0\" class=\"ppr_rup ppr_priv_hotels_loading_box\" data-placement-name=\"hotels_loading_box:rr_resp\" style=\"display: block;\">...</div>\n",
      "  (Session info: headless chrome=89.0.4389.82)\n",
      "\n"
     ]
    },
    {
     "name": "stdout",
     "output_type": "stream",
     "text": [
      "https://www.tripadvisor.com/Restaurant_Review-g60763-d457896-Reviews-Supper_Restaurant-New_York_City_New_York.html\n"
     ]
    },
    {
     "name": "stderr",
     "output_type": "stream",
     "text": [
      "INFO:__main__:Found a maximum of 23 pages\n",
      "ERROR:__main__:Could not load this page\n",
      "ERROR:__main__:Message: \n",
      "\n"
     ]
    },
    {
     "name": "stdout",
     "output_type": "stream",
     "text": [
      "https://www.tripadvisor.com/Restaurant_Review-g60763-d13393942-Reviews-Laboratorio329-New_York_City_New_York.html\n"
     ]
    },
    {
     "name": "stderr",
     "output_type": "stream",
     "text": [
      "INFO:__main__:Found a maximum of 3 pages\n",
      "ERROR:__main__:Could not load this page\n",
      "ERROR:__main__:Message: no such element: Unable to locate element: {\"method\":\"xpath\",\"selector\":\".//a[@class=\"nav next ui_button primary\"]\"}\n",
      "  (Session info: headless chrome=89.0.4389.82)\n",
      "\n"
     ]
    },
    {
     "name": "stdout",
     "output_type": "stream",
     "text": [
      "https://www.tripadvisor.com/Restaurant_Review-g60763-d423797-Reviews-Scalinatella_Restaurant-New_York_City_New_York.html\n"
     ]
    },
    {
     "name": "stderr",
     "output_type": "stream",
     "text": [
      "INFO:__main__:Found a maximum of 24 pages\n"
     ]
    },
    {
     "name": "stdout",
     "output_type": "stream",
     "text": [
      "https://www.tripadvisor.com/Restaurant_Review-g60763-d12492884-Reviews-Fiaschetteria_Pistoia-New_York_City_New_York.html\n"
     ]
    },
    {
     "name": "stderr",
     "output_type": "stream",
     "text": [
      "INFO:__main__:Found a maximum of 4 pages\n",
      "ERROR:__main__:Could not load this page\n",
      "ERROR:__main__:Message: no such element: Unable to locate element: {\"method\":\"xpath\",\"selector\":\".//a[@class=\"nav next ui_button primary\"]\"}\n",
      "  (Session info: headless chrome=89.0.4389.82)\n",
      "\n"
     ]
    },
    {
     "name": "stdout",
     "output_type": "stream",
     "text": [
      "https://www.tripadvisor.com/Restaurant_Review-g60763-d14358488-Reviews-Joe_and_Pats_Pizzeria-New_York_City_New_York.html\n"
     ]
    },
    {
     "name": "stderr",
     "output_type": "stream",
     "text": [
      "INFO:__main__:Found a maximum of 3 pages\n",
      "ERROR:__main__:Could not load this page\n",
      "ERROR:__main__:Message: no such element: Unable to locate element: {\"method\":\"xpath\",\"selector\":\".//a[@class=\"nav next ui_button primary\"]\"}\n",
      "  (Session info: headless chrome=89.0.4389.82)\n",
      "\n"
     ]
    },
    {
     "name": "stdout",
     "output_type": "stream",
     "text": [
      "https://www.tripadvisor.com/Restaurant_Review-g60763-d459250-Reviews-Le_Zie-New_York_City_New_York.html\n"
     ]
    },
    {
     "name": "stderr",
     "output_type": "stream",
     "text": [
      "INFO:__main__:Found a maximum of 15 pages\n",
      "ERROR:__main__:Could not load this page\n",
      "ERROR:__main__:Message: no such element: Unable to locate element: {\"method\":\"xpath\",\"selector\":\".//a[@class=\"nav next ui_button primary\"]\"}\n",
      "  (Session info: headless chrome=89.0.4389.82)\n",
      "\n"
     ]
    },
    {
     "name": "stdout",
     "output_type": "stream",
     "text": [
      "https://www.tripadvisor.com/Restaurant_Review-g60763-d459109-Reviews-Via_Quadronno-New_York_City_New_York.html\n"
     ]
    },
    {
     "name": "stderr",
     "output_type": "stream",
     "text": [
      "INFO:__main__:Found a maximum of 25 pages\n",
      "ERROR:__main__:Could not load this page\n",
      "ERROR:__main__:Message: element click intercepted: Element <span class=\"taLnk ulBlueLinks\" onclick=\"widgetEvCall('handlers.clickCollapse',event,this);\">...</span> is not clickable at point (189, 593). Other element would receive the click: <div id=\"taplc_hotels_loading_box_rr_resp_0\" class=\"ppr_rup ppr_priv_hotels_loading_box\" data-placement-name=\"hotels_loading_box:rr_resp\" style=\"display: block;\">...</div>\n",
      "  (Session info: headless chrome=89.0.4389.82)\n",
      "\n"
     ]
    },
    {
     "name": "stdout",
     "output_type": "stream",
     "text": [
      "https://www.tripadvisor.com/Restaurant_Review-g60763-d424586-Reviews-Il_Gattopardo-New_York_City_New_York.html\n"
     ]
    },
    {
     "name": "stderr",
     "output_type": "stream",
     "text": [
      "INFO:__main__:Found a maximum of 56 pages\n"
     ]
    },
    {
     "name": "stdout",
     "output_type": "stream",
     "text": [
      "https://www.tripadvisor.com/Restaurant_Review-g60763-d459365-Reviews-V_T_Pizzeria-New_York_City_New_York.html\n"
     ]
    },
    {
     "name": "stderr",
     "output_type": "stream",
     "text": [
      "INFO:__main__:Found a maximum of 13 pages\n",
      "ERROR:__main__:Could not load this page\n",
      "ERROR:__main__:Message: no such element: Unable to locate element: {\"method\":\"xpath\",\"selector\":\".//a[@class=\"nav next ui_button primary\"]\"}\n",
      "  (Session info: headless chrome=89.0.4389.82)\n",
      "\n"
     ]
    },
    {
     "name": "stdout",
     "output_type": "stream",
     "text": [
      "https://www.tripadvisor.com/Restaurant_Review-g60763-d423331-Reviews-Emilio_s_Ballato-New_York_City_New_York.html\n"
     ]
    },
    {
     "name": "stderr",
     "output_type": "stream",
     "text": [
      "INFO:__main__:Found a maximum of 29 pages\n",
      "ERROR:__main__:Could not load this page\n",
      "ERROR:__main__:Message: stale element reference: element is not attached to the page document\n",
      "  (Session info: headless chrome=89.0.4389.82)\n",
      "\n"
     ]
    },
    {
     "name": "stdout",
     "output_type": "stream",
     "text": [
      "https://www.tripadvisor.com/Restaurant_Review-g60763-d459072-Reviews-Cara_Mia-New_York_City_New_York.html\n"
     ]
    },
    {
     "name": "stderr",
     "output_type": "stream",
     "text": [
      "INFO:__main__:Found a maximum of 45 pages\n",
      "ERROR:__main__:Could not load this page\n",
      "ERROR:__main__:Message: element click intercepted: Element <span class=\"taLnk ulBlueLinks\" onclick=\"widgetEvCall('handlers.clickCollapse',event,this);\">...</span> is not clickable at point (188, 593). Other element would receive the click: <div id=\"taplc_hotels_loading_box_rr_resp_0\" class=\"ppr_rup ppr_priv_hotels_loading_box\" data-placement-name=\"hotels_loading_box:rr_resp\" style=\"display: block;\">...</div>\n",
      "  (Session info: headless chrome=89.0.4389.82)\n",
      "\n"
     ]
    },
    {
     "name": "stdout",
     "output_type": "stream",
     "text": [
      "https://www.tripadvisor.com/Restaurant_Review-g60763-d543319-Reviews-Posto-New_York_City_New_York.html\n"
     ]
    },
    {
     "name": "stderr",
     "output_type": "stream",
     "text": [
      "INFO:__main__:Found a maximum of 10 pages\n",
      "ERROR:__main__:Could not load this page\n",
      "ERROR:__main__:Message: element click intercepted: Element <span class=\"taLnk ulBlueLinks\" onclick=\"widgetEvCall('handlers.clickCollapse',event,this);\">...</span> is not clickable at point (188, 592). Other element would receive the click: <div id=\"taplc_hotels_loading_box_rr_resp_0\" class=\"ppr_rup ppr_priv_hotels_loading_box\" data-placement-name=\"hotels_loading_box:rr_resp\" style=\"display: block;\">...</div>\n",
      "  (Session info: headless chrome=89.0.4389.82)\n",
      "\n"
     ]
    },
    {
     "name": "stdout",
     "output_type": "stream",
     "text": [
      "https://www.tripadvisor.com/Restaurant_Review-g60763-d479315-Reviews-Caffe_Buon_Gusto-New_York_City_New_York.html\n"
     ]
    },
    {
     "name": "stderr",
     "output_type": "stream",
     "text": [
      "INFO:__main__:Found a maximum of 8 pages\n",
      "ERROR:__main__:Could not load this page\n",
      "ERROR:__main__:Message: no such element: Unable to locate element: {\"method\":\"xpath\",\"selector\":\".//a[@class=\"nav next ui_button primary\"]\"}\n",
      "  (Session info: headless chrome=89.0.4389.82)\n",
      "\n"
     ]
    },
    {
     "name": "stdout",
     "output_type": "stream",
     "text": [
      "https://www.tripadvisor.com/Restaurant_Review-g60763-d2361016-Reviews-Frankies_Spuntino_570-New_York_City_New_York.html\n"
     ]
    },
    {
     "name": "stderr",
     "output_type": "stream",
     "text": [
      "INFO:__main__:Found a maximum of 14 pages\n",
      "ERROR:__main__:Could not load this page\n",
      "ERROR:__main__:Message: no such element: Unable to locate element: {\"method\":\"xpath\",\"selector\":\".//a[@class=\"nav next ui_button primary\"]\"}\n",
      "  (Session info: headless chrome=89.0.4389.82)\n",
      "\n"
     ]
    },
    {
     "name": "stdout",
     "output_type": "stream",
     "text": [
      "https://www.tripadvisor.com/Restaurant_Review-g60763-d4561725-Reviews-Original_Vincent_s-New_York_City_New_York.html\n"
     ]
    },
    {
     "name": "stderr",
     "output_type": "stream",
     "text": [
      "INFO:__main__:Found a maximum of 8 pages\n",
      "ERROR:__main__:Could not load this page\n",
      "ERROR:__main__:Message: no such element: Unable to locate element: {\"method\":\"xpath\",\"selector\":\".//a[@class=\"nav next ui_button primary\"]\"}\n",
      "  (Session info: headless chrome=89.0.4389.82)\n",
      "\n"
     ]
    },
    {
     "name": "stdout",
     "output_type": "stream",
     "text": [
      "https://www.tripadvisor.com/Restaurant_Review-g60763-d424558-Reviews-Azalea_Ristorante-New_York_City_New_York.html\n"
     ]
    },
    {
     "name": "stderr",
     "output_type": "stream",
     "text": [
      "INFO:__main__:Found a maximum of 72 pages\n",
      "ERROR:__main__:Could not load this page\n",
      "ERROR:__main__:Message: stale element reference: element is not attached to the page document\n",
      "  (Session info: headless chrome=89.0.4389.82)\n",
      "\n"
     ]
    },
    {
     "name": "stdout",
     "output_type": "stream",
     "text": [
      "https://www.tripadvisor.com/Restaurant_Review-g60763-d459628-Reviews-Delmonico_s-New_York_City_New_York.html\n"
     ]
    },
    {
     "name": "stderr",
     "output_type": "stream",
     "text": [
      "INFO:__main__:Found a maximum of 85 pages\n"
     ]
    },
    {
     "ename": "KeyboardInterrupt",
     "evalue": "",
     "output_type": "error",
     "traceback": [
      "\u001b[0;31m---------------------------------------------------------------------------\u001b[0m",
      "\u001b[0;31mKeyboardInterrupt\u001b[0m                         Traceback (most recent call last)",
      "\u001b[0;32m<ipython-input-47-24adaf85f973>\u001b[0m in \u001b[0;36m<module>\u001b[0;34m\u001b[0m\n\u001b[1;32m     19\u001b[0m \u001b[0;34m\u001b[0m\u001b[0m\n\u001b[1;32m     20\u001b[0m     scrape_url(url, csvWriter, restaurant=restaruant_name, debug=False, \n\u001b[0;32m---> 21\u001b[0;31m                driver_args=driver_args)\n\u001b[0m",
      "\u001b[0;32m<ipython-input-40-bc8835031d59>\u001b[0m in \u001b[0;36mscrape_url\u001b[0;34m(url, csvWriter, restaurant, debug, driver_args)\u001b[0m\n\u001b[1;32m     66\u001b[0m             \u001b[0;32mfor\u001b[0m \u001b[0mj\u001b[0m \u001b[0;32min\u001b[0m \u001b[0mrange\u001b[0m\u001b[0;34m(\u001b[0m\u001b[0mlen\u001b[0m\u001b[0;34m(\u001b[0m\u001b[0mcontainer\u001b[0m\u001b[0;34m)\u001b[0m\u001b[0;34m)\u001b[0m\u001b[0;34m:\u001b[0m\u001b[0;34m\u001b[0m\u001b[0;34m\u001b[0m\u001b[0m\n\u001b[1;32m     67\u001b[0m                 title = container[j].find_element_by_xpath(\n\u001b[0;32m---> 68\u001b[0;31m                     \".//span[@class='noQuotes']\").text\n\u001b[0m\u001b[1;32m     69\u001b[0m                 date = container[j].find_element_by_xpath(\n\u001b[1;32m     70\u001b[0m                     \".//span[contains(@class, 'ratingDate')]\").get_attribute(\"title\")\n",
      "\u001b[0;32m~/anaconda3/envs/revs-sum/lib/python3.7/site-packages/selenium/webdriver/remote/webelement.py\u001b[0m in \u001b[0;36mtext\u001b[0;34m(self)\u001b[0m\n\u001b[1;32m     74\u001b[0m     \u001b[0;32mdef\u001b[0m \u001b[0mtext\u001b[0m\u001b[0;34m(\u001b[0m\u001b[0mself\u001b[0m\u001b[0;34m)\u001b[0m\u001b[0;34m:\u001b[0m\u001b[0;34m\u001b[0m\u001b[0;34m\u001b[0m\u001b[0m\n\u001b[1;32m     75\u001b[0m         \u001b[0;34m\"\"\"The text of the element.\"\"\"\u001b[0m\u001b[0;34m\u001b[0m\u001b[0;34m\u001b[0m\u001b[0m\n\u001b[0;32m---> 76\u001b[0;31m         \u001b[0;32mreturn\u001b[0m \u001b[0mself\u001b[0m\u001b[0;34m.\u001b[0m\u001b[0m_execute\u001b[0m\u001b[0;34m(\u001b[0m\u001b[0mCommand\u001b[0m\u001b[0;34m.\u001b[0m\u001b[0mGET_ELEMENT_TEXT\u001b[0m\u001b[0;34m)\u001b[0m\u001b[0;34m[\u001b[0m\u001b[0;34m'value'\u001b[0m\u001b[0;34m]\u001b[0m\u001b[0;34m\u001b[0m\u001b[0;34m\u001b[0m\u001b[0m\n\u001b[0m\u001b[1;32m     77\u001b[0m \u001b[0;34m\u001b[0m\u001b[0m\n\u001b[1;32m     78\u001b[0m     \u001b[0;32mdef\u001b[0m \u001b[0mclick\u001b[0m\u001b[0;34m(\u001b[0m\u001b[0mself\u001b[0m\u001b[0;34m)\u001b[0m\u001b[0;34m:\u001b[0m\u001b[0;34m\u001b[0m\u001b[0;34m\u001b[0m\u001b[0m\n",
      "\u001b[0;32m~/anaconda3/envs/revs-sum/lib/python3.7/site-packages/selenium/webdriver/remote/webelement.py\u001b[0m in \u001b[0;36m_execute\u001b[0;34m(self, command, params)\u001b[0m\n\u001b[1;32m    631\u001b[0m             \u001b[0mparams\u001b[0m \u001b[0;34m=\u001b[0m \u001b[0;34m{\u001b[0m\u001b[0;34m}\u001b[0m\u001b[0;34m\u001b[0m\u001b[0;34m\u001b[0m\u001b[0m\n\u001b[1;32m    632\u001b[0m         \u001b[0mparams\u001b[0m\u001b[0;34m[\u001b[0m\u001b[0;34m'id'\u001b[0m\u001b[0;34m]\u001b[0m \u001b[0;34m=\u001b[0m \u001b[0mself\u001b[0m\u001b[0;34m.\u001b[0m\u001b[0m_id\u001b[0m\u001b[0;34m\u001b[0m\u001b[0;34m\u001b[0m\u001b[0m\n\u001b[0;32m--> 633\u001b[0;31m         \u001b[0;32mreturn\u001b[0m \u001b[0mself\u001b[0m\u001b[0;34m.\u001b[0m\u001b[0m_parent\u001b[0m\u001b[0;34m.\u001b[0m\u001b[0mexecute\u001b[0m\u001b[0;34m(\u001b[0m\u001b[0mcommand\u001b[0m\u001b[0;34m,\u001b[0m \u001b[0mparams\u001b[0m\u001b[0;34m)\u001b[0m\u001b[0;34m\u001b[0m\u001b[0;34m\u001b[0m\u001b[0m\n\u001b[0m\u001b[1;32m    634\u001b[0m \u001b[0;34m\u001b[0m\u001b[0m\n\u001b[1;32m    635\u001b[0m     \u001b[0;32mdef\u001b[0m \u001b[0mfind_element\u001b[0m\u001b[0;34m(\u001b[0m\u001b[0mself\u001b[0m\u001b[0;34m,\u001b[0m \u001b[0mby\u001b[0m\u001b[0;34m=\u001b[0m\u001b[0mBy\u001b[0m\u001b[0;34m.\u001b[0m\u001b[0mID\u001b[0m\u001b[0;34m,\u001b[0m \u001b[0mvalue\u001b[0m\u001b[0;34m=\u001b[0m\u001b[0;32mNone\u001b[0m\u001b[0;34m)\u001b[0m\u001b[0;34m:\u001b[0m\u001b[0;34m\u001b[0m\u001b[0;34m\u001b[0m\u001b[0m\n",
      "\u001b[0;32m~/anaconda3/envs/revs-sum/lib/python3.7/site-packages/selenium/webdriver/remote/webdriver.py\u001b[0m in \u001b[0;36mexecute\u001b[0;34m(self, driver_command, params)\u001b[0m\n\u001b[1;32m    317\u001b[0m \u001b[0;34m\u001b[0m\u001b[0m\n\u001b[1;32m    318\u001b[0m         \u001b[0mparams\u001b[0m \u001b[0;34m=\u001b[0m \u001b[0mself\u001b[0m\u001b[0;34m.\u001b[0m\u001b[0m_wrap_value\u001b[0m\u001b[0;34m(\u001b[0m\u001b[0mparams\u001b[0m\u001b[0;34m)\u001b[0m\u001b[0;34m\u001b[0m\u001b[0;34m\u001b[0m\u001b[0m\n\u001b[0;32m--> 319\u001b[0;31m         \u001b[0mresponse\u001b[0m \u001b[0;34m=\u001b[0m \u001b[0mself\u001b[0m\u001b[0;34m.\u001b[0m\u001b[0mcommand_executor\u001b[0m\u001b[0;34m.\u001b[0m\u001b[0mexecute\u001b[0m\u001b[0;34m(\u001b[0m\u001b[0mdriver_command\u001b[0m\u001b[0;34m,\u001b[0m \u001b[0mparams\u001b[0m\u001b[0;34m)\u001b[0m\u001b[0;34m\u001b[0m\u001b[0;34m\u001b[0m\u001b[0m\n\u001b[0m\u001b[1;32m    320\u001b[0m         \u001b[0;32mif\u001b[0m \u001b[0mresponse\u001b[0m\u001b[0;34m:\u001b[0m\u001b[0;34m\u001b[0m\u001b[0;34m\u001b[0m\u001b[0m\n\u001b[1;32m    321\u001b[0m             \u001b[0mself\u001b[0m\u001b[0;34m.\u001b[0m\u001b[0merror_handler\u001b[0m\u001b[0;34m.\u001b[0m\u001b[0mcheck_response\u001b[0m\u001b[0;34m(\u001b[0m\u001b[0mresponse\u001b[0m\u001b[0;34m)\u001b[0m\u001b[0;34m\u001b[0m\u001b[0;34m\u001b[0m\u001b[0m\n",
      "\u001b[0;32m~/anaconda3/envs/revs-sum/lib/python3.7/site-packages/selenium/webdriver/remote/remote_connection.py\u001b[0m in \u001b[0;36mexecute\u001b[0;34m(self, command, params)\u001b[0m\n\u001b[1;32m    372\u001b[0m         \u001b[0mdata\u001b[0m \u001b[0;34m=\u001b[0m \u001b[0mutils\u001b[0m\u001b[0;34m.\u001b[0m\u001b[0mdump_json\u001b[0m\u001b[0;34m(\u001b[0m\u001b[0mparams\u001b[0m\u001b[0;34m)\u001b[0m\u001b[0;34m\u001b[0m\u001b[0;34m\u001b[0m\u001b[0m\n\u001b[1;32m    373\u001b[0m         \u001b[0murl\u001b[0m \u001b[0;34m=\u001b[0m \u001b[0;34m'%s%s'\u001b[0m \u001b[0;34m%\u001b[0m \u001b[0;34m(\u001b[0m\u001b[0mself\u001b[0m\u001b[0;34m.\u001b[0m\u001b[0m_url\u001b[0m\u001b[0;34m,\u001b[0m \u001b[0mpath\u001b[0m\u001b[0;34m)\u001b[0m\u001b[0;34m\u001b[0m\u001b[0;34m\u001b[0m\u001b[0m\n\u001b[0;32m--> 374\u001b[0;31m         \u001b[0;32mreturn\u001b[0m \u001b[0mself\u001b[0m\u001b[0;34m.\u001b[0m\u001b[0m_request\u001b[0m\u001b[0;34m(\u001b[0m\u001b[0mcommand_info\u001b[0m\u001b[0;34m[\u001b[0m\u001b[0;36m0\u001b[0m\u001b[0;34m]\u001b[0m\u001b[0;34m,\u001b[0m \u001b[0murl\u001b[0m\u001b[0;34m,\u001b[0m \u001b[0mbody\u001b[0m\u001b[0;34m=\u001b[0m\u001b[0mdata\u001b[0m\u001b[0;34m)\u001b[0m\u001b[0;34m\u001b[0m\u001b[0;34m\u001b[0m\u001b[0m\n\u001b[0m\u001b[1;32m    375\u001b[0m \u001b[0;34m\u001b[0m\u001b[0m\n\u001b[1;32m    376\u001b[0m     \u001b[0;32mdef\u001b[0m \u001b[0m_request\u001b[0m\u001b[0;34m(\u001b[0m\u001b[0mself\u001b[0m\u001b[0;34m,\u001b[0m \u001b[0mmethod\u001b[0m\u001b[0;34m,\u001b[0m \u001b[0murl\u001b[0m\u001b[0;34m,\u001b[0m \u001b[0mbody\u001b[0m\u001b[0;34m=\u001b[0m\u001b[0;32mNone\u001b[0m\u001b[0;34m)\u001b[0m\u001b[0;34m:\u001b[0m\u001b[0;34m\u001b[0m\u001b[0;34m\u001b[0m\u001b[0m\n",
      "\u001b[0;32m~/anaconda3/envs/revs-sum/lib/python3.7/site-packages/selenium/webdriver/remote/remote_connection.py\u001b[0m in \u001b[0;36m_request\u001b[0;34m(self, method, url, body)\u001b[0m\n\u001b[1;32m    395\u001b[0m \u001b[0;34m\u001b[0m\u001b[0m\n\u001b[1;32m    396\u001b[0m         \u001b[0;32mif\u001b[0m \u001b[0mself\u001b[0m\u001b[0;34m.\u001b[0m\u001b[0mkeep_alive\u001b[0m\u001b[0;34m:\u001b[0m\u001b[0;34m\u001b[0m\u001b[0;34m\u001b[0m\u001b[0m\n\u001b[0;32m--> 397\u001b[0;31m             \u001b[0mresp\u001b[0m \u001b[0;34m=\u001b[0m \u001b[0mself\u001b[0m\u001b[0;34m.\u001b[0m\u001b[0m_conn\u001b[0m\u001b[0;34m.\u001b[0m\u001b[0mrequest\u001b[0m\u001b[0;34m(\u001b[0m\u001b[0mmethod\u001b[0m\u001b[0;34m,\u001b[0m \u001b[0murl\u001b[0m\u001b[0;34m,\u001b[0m \u001b[0mbody\u001b[0m\u001b[0;34m=\u001b[0m\u001b[0mbody\u001b[0m\u001b[0;34m,\u001b[0m \u001b[0mheaders\u001b[0m\u001b[0;34m=\u001b[0m\u001b[0mheaders\u001b[0m\u001b[0;34m)\u001b[0m\u001b[0;34m\u001b[0m\u001b[0;34m\u001b[0m\u001b[0m\n\u001b[0m\u001b[1;32m    398\u001b[0m \u001b[0;34m\u001b[0m\u001b[0m\n\u001b[1;32m    399\u001b[0m             \u001b[0mstatuscode\u001b[0m \u001b[0;34m=\u001b[0m \u001b[0mresp\u001b[0m\u001b[0;34m.\u001b[0m\u001b[0mstatus\u001b[0m\u001b[0;34m\u001b[0m\u001b[0;34m\u001b[0m\u001b[0m\n",
      "\u001b[0;32m~/anaconda3/envs/revs-sum/lib/python3.7/site-packages/urllib3/request.py\u001b[0m in \u001b[0;36mrequest\u001b[0;34m(self, method, url, fields, headers, **urlopen_kw)\u001b[0m\n\u001b[1;32m     73\u001b[0m         \u001b[0;32mif\u001b[0m \u001b[0mmethod\u001b[0m \u001b[0;32min\u001b[0m \u001b[0mself\u001b[0m\u001b[0;34m.\u001b[0m\u001b[0m_encode_url_methods\u001b[0m\u001b[0;34m:\u001b[0m\u001b[0;34m\u001b[0m\u001b[0;34m\u001b[0m\u001b[0m\n\u001b[1;32m     74\u001b[0m             return self.request_encode_url(\n\u001b[0;32m---> 75\u001b[0;31m                 \u001b[0mmethod\u001b[0m\u001b[0;34m,\u001b[0m \u001b[0murl\u001b[0m\u001b[0;34m,\u001b[0m \u001b[0mfields\u001b[0m\u001b[0;34m=\u001b[0m\u001b[0mfields\u001b[0m\u001b[0;34m,\u001b[0m \u001b[0mheaders\u001b[0m\u001b[0;34m=\u001b[0m\u001b[0mheaders\u001b[0m\u001b[0;34m,\u001b[0m \u001b[0;34m**\u001b[0m\u001b[0murlopen_kw\u001b[0m\u001b[0;34m\u001b[0m\u001b[0;34m\u001b[0m\u001b[0m\n\u001b[0m\u001b[1;32m     76\u001b[0m             )\n\u001b[1;32m     77\u001b[0m         \u001b[0;32melse\u001b[0m\u001b[0;34m:\u001b[0m\u001b[0;34m\u001b[0m\u001b[0;34m\u001b[0m\u001b[0m\n",
      "\u001b[0;32m~/anaconda3/envs/revs-sum/lib/python3.7/site-packages/urllib3/request.py\u001b[0m in \u001b[0;36mrequest_encode_url\u001b[0;34m(self, method, url, fields, headers, **urlopen_kw)\u001b[0m\n\u001b[1;32m     94\u001b[0m             \u001b[0murl\u001b[0m \u001b[0;34m+=\u001b[0m \u001b[0;34m\"?\"\u001b[0m \u001b[0;34m+\u001b[0m \u001b[0murlencode\u001b[0m\u001b[0;34m(\u001b[0m\u001b[0mfields\u001b[0m\u001b[0;34m)\u001b[0m\u001b[0;34m\u001b[0m\u001b[0;34m\u001b[0m\u001b[0m\n\u001b[1;32m     95\u001b[0m \u001b[0;34m\u001b[0m\u001b[0m\n\u001b[0;32m---> 96\u001b[0;31m         \u001b[0;32mreturn\u001b[0m \u001b[0mself\u001b[0m\u001b[0;34m.\u001b[0m\u001b[0murlopen\u001b[0m\u001b[0;34m(\u001b[0m\u001b[0mmethod\u001b[0m\u001b[0;34m,\u001b[0m \u001b[0murl\u001b[0m\u001b[0;34m,\u001b[0m \u001b[0;34m**\u001b[0m\u001b[0mextra_kw\u001b[0m\u001b[0;34m)\u001b[0m\u001b[0;34m\u001b[0m\u001b[0;34m\u001b[0m\u001b[0m\n\u001b[0m\u001b[1;32m     97\u001b[0m \u001b[0;34m\u001b[0m\u001b[0m\n\u001b[1;32m     98\u001b[0m     def request_encode_body(\n",
      "\u001b[0;32m~/anaconda3/envs/revs-sum/lib/python3.7/site-packages/urllib3/poolmanager.py\u001b[0m in \u001b[0;36murlopen\u001b[0;34m(self, method, url, redirect, **kw)\u001b[0m\n\u001b[1;32m    373\u001b[0m             \u001b[0mresponse\u001b[0m \u001b[0;34m=\u001b[0m \u001b[0mconn\u001b[0m\u001b[0;34m.\u001b[0m\u001b[0murlopen\u001b[0m\u001b[0;34m(\u001b[0m\u001b[0mmethod\u001b[0m\u001b[0;34m,\u001b[0m \u001b[0murl\u001b[0m\u001b[0;34m,\u001b[0m \u001b[0;34m**\u001b[0m\u001b[0mkw\u001b[0m\u001b[0;34m)\u001b[0m\u001b[0;34m\u001b[0m\u001b[0;34m\u001b[0m\u001b[0m\n\u001b[1;32m    374\u001b[0m         \u001b[0;32melse\u001b[0m\u001b[0;34m:\u001b[0m\u001b[0;34m\u001b[0m\u001b[0;34m\u001b[0m\u001b[0m\n\u001b[0;32m--> 375\u001b[0;31m             \u001b[0mresponse\u001b[0m \u001b[0;34m=\u001b[0m \u001b[0mconn\u001b[0m\u001b[0;34m.\u001b[0m\u001b[0murlopen\u001b[0m\u001b[0;34m(\u001b[0m\u001b[0mmethod\u001b[0m\u001b[0;34m,\u001b[0m \u001b[0mu\u001b[0m\u001b[0;34m.\u001b[0m\u001b[0mrequest_uri\u001b[0m\u001b[0;34m,\u001b[0m \u001b[0;34m**\u001b[0m\u001b[0mkw\u001b[0m\u001b[0;34m)\u001b[0m\u001b[0;34m\u001b[0m\u001b[0;34m\u001b[0m\u001b[0m\n\u001b[0m\u001b[1;32m    376\u001b[0m \u001b[0;34m\u001b[0m\u001b[0m\n\u001b[1;32m    377\u001b[0m         \u001b[0mredirect_location\u001b[0m \u001b[0;34m=\u001b[0m \u001b[0mredirect\u001b[0m \u001b[0;32mand\u001b[0m \u001b[0mresponse\u001b[0m\u001b[0;34m.\u001b[0m\u001b[0mget_redirect_location\u001b[0m\u001b[0;34m(\u001b[0m\u001b[0;34m)\u001b[0m\u001b[0;34m\u001b[0m\u001b[0;34m\u001b[0m\u001b[0m\n",
      "\u001b[0;32m~/anaconda3/envs/revs-sum/lib/python3.7/site-packages/urllib3/connectionpool.py\u001b[0m in \u001b[0;36murlopen\u001b[0;34m(self, method, url, body, headers, retries, redirect, assert_same_host, timeout, pool_timeout, release_conn, chunked, body_pos, **response_kw)\u001b[0m\n\u001b[1;32m    704\u001b[0m                 \u001b[0mbody\u001b[0m\u001b[0;34m=\u001b[0m\u001b[0mbody\u001b[0m\u001b[0;34m,\u001b[0m\u001b[0;34m\u001b[0m\u001b[0;34m\u001b[0m\u001b[0m\n\u001b[1;32m    705\u001b[0m                 \u001b[0mheaders\u001b[0m\u001b[0;34m=\u001b[0m\u001b[0mheaders\u001b[0m\u001b[0;34m,\u001b[0m\u001b[0;34m\u001b[0m\u001b[0;34m\u001b[0m\u001b[0m\n\u001b[0;32m--> 706\u001b[0;31m                 \u001b[0mchunked\u001b[0m\u001b[0;34m=\u001b[0m\u001b[0mchunked\u001b[0m\u001b[0;34m,\u001b[0m\u001b[0;34m\u001b[0m\u001b[0;34m\u001b[0m\u001b[0m\n\u001b[0m\u001b[1;32m    707\u001b[0m             )\n\u001b[1;32m    708\u001b[0m \u001b[0;34m\u001b[0m\u001b[0m\n",
      "\u001b[0;32m~/anaconda3/envs/revs-sum/lib/python3.7/site-packages/urllib3/connectionpool.py\u001b[0m in \u001b[0;36m_make_request\u001b[0;34m(self, conn, method, url, timeout, chunked, **httplib_request_kw)\u001b[0m\n\u001b[1;32m    443\u001b[0m                     \u001b[0;31m# Python 3 (including for exceptions like SystemExit).\u001b[0m\u001b[0;34m\u001b[0m\u001b[0;34m\u001b[0m\u001b[0;34m\u001b[0m\u001b[0m\n\u001b[1;32m    444\u001b[0m                     \u001b[0;31m# Otherwise it looks like a bug in the code.\u001b[0m\u001b[0;34m\u001b[0m\u001b[0;34m\u001b[0m\u001b[0;34m\u001b[0m\u001b[0m\n\u001b[0;32m--> 445\u001b[0;31m                     \u001b[0msix\u001b[0m\u001b[0;34m.\u001b[0m\u001b[0mraise_from\u001b[0m\u001b[0;34m(\u001b[0m\u001b[0me\u001b[0m\u001b[0;34m,\u001b[0m \u001b[0;32mNone\u001b[0m\u001b[0;34m)\u001b[0m\u001b[0;34m\u001b[0m\u001b[0;34m\u001b[0m\u001b[0m\n\u001b[0m\u001b[1;32m    446\u001b[0m         \u001b[0;32mexcept\u001b[0m \u001b[0;34m(\u001b[0m\u001b[0mSocketTimeout\u001b[0m\u001b[0;34m,\u001b[0m \u001b[0mBaseSSLError\u001b[0m\u001b[0;34m,\u001b[0m \u001b[0mSocketError\u001b[0m\u001b[0;34m)\u001b[0m \u001b[0;32mas\u001b[0m \u001b[0me\u001b[0m\u001b[0;34m:\u001b[0m\u001b[0;34m\u001b[0m\u001b[0;34m\u001b[0m\u001b[0m\n\u001b[1;32m    447\u001b[0m             \u001b[0mself\u001b[0m\u001b[0;34m.\u001b[0m\u001b[0m_raise_timeout\u001b[0m\u001b[0;34m(\u001b[0m\u001b[0merr\u001b[0m\u001b[0;34m=\u001b[0m\u001b[0me\u001b[0m\u001b[0;34m,\u001b[0m \u001b[0murl\u001b[0m\u001b[0;34m=\u001b[0m\u001b[0murl\u001b[0m\u001b[0;34m,\u001b[0m \u001b[0mtimeout_value\u001b[0m\u001b[0;34m=\u001b[0m\u001b[0mread_timeout\u001b[0m\u001b[0;34m)\u001b[0m\u001b[0;34m\u001b[0m\u001b[0;34m\u001b[0m\u001b[0m\n",
      "\u001b[0;32m~/anaconda3/envs/revs-sum/lib/python3.7/site-packages/urllib3/packages/six.py\u001b[0m in \u001b[0;36mraise_from\u001b[0;34m(value, from_value)\u001b[0m\n",
      "\u001b[0;32m~/anaconda3/envs/revs-sum/lib/python3.7/site-packages/urllib3/connectionpool.py\u001b[0m in \u001b[0;36m_make_request\u001b[0;34m(self, conn, method, url, timeout, chunked, **httplib_request_kw)\u001b[0m\n\u001b[1;32m    438\u001b[0m                 \u001b[0;31m# Python 3\u001b[0m\u001b[0;34m\u001b[0m\u001b[0;34m\u001b[0m\u001b[0;34m\u001b[0m\u001b[0m\n\u001b[1;32m    439\u001b[0m                 \u001b[0;32mtry\u001b[0m\u001b[0;34m:\u001b[0m\u001b[0;34m\u001b[0m\u001b[0;34m\u001b[0m\u001b[0m\n\u001b[0;32m--> 440\u001b[0;31m                     \u001b[0mhttplib_response\u001b[0m \u001b[0;34m=\u001b[0m \u001b[0mconn\u001b[0m\u001b[0;34m.\u001b[0m\u001b[0mgetresponse\u001b[0m\u001b[0;34m(\u001b[0m\u001b[0;34m)\u001b[0m\u001b[0;34m\u001b[0m\u001b[0;34m\u001b[0m\u001b[0m\n\u001b[0m\u001b[1;32m    441\u001b[0m                 \u001b[0;32mexcept\u001b[0m \u001b[0mBaseException\u001b[0m \u001b[0;32mas\u001b[0m \u001b[0me\u001b[0m\u001b[0;34m:\u001b[0m\u001b[0;34m\u001b[0m\u001b[0;34m\u001b[0m\u001b[0m\n\u001b[1;32m    442\u001b[0m                     \u001b[0;31m# Remove the TypeError from the exception chain in\u001b[0m\u001b[0;34m\u001b[0m\u001b[0;34m\u001b[0m\u001b[0;34m\u001b[0m\u001b[0m\n",
      "\u001b[0;32m~/anaconda3/envs/revs-sum/lib/python3.7/http/client.py\u001b[0m in \u001b[0;36mgetresponse\u001b[0;34m(self)\u001b[0m\n\u001b[1;32m   1367\u001b[0m         \u001b[0;32mtry\u001b[0m\u001b[0;34m:\u001b[0m\u001b[0;34m\u001b[0m\u001b[0;34m\u001b[0m\u001b[0m\n\u001b[1;32m   1368\u001b[0m             \u001b[0;32mtry\u001b[0m\u001b[0;34m:\u001b[0m\u001b[0;34m\u001b[0m\u001b[0;34m\u001b[0m\u001b[0m\n\u001b[0;32m-> 1369\u001b[0;31m                 \u001b[0mresponse\u001b[0m\u001b[0;34m.\u001b[0m\u001b[0mbegin\u001b[0m\u001b[0;34m(\u001b[0m\u001b[0;34m)\u001b[0m\u001b[0;34m\u001b[0m\u001b[0;34m\u001b[0m\u001b[0m\n\u001b[0m\u001b[1;32m   1370\u001b[0m             \u001b[0;32mexcept\u001b[0m \u001b[0mConnectionError\u001b[0m\u001b[0;34m:\u001b[0m\u001b[0;34m\u001b[0m\u001b[0;34m\u001b[0m\u001b[0m\n\u001b[1;32m   1371\u001b[0m                 \u001b[0mself\u001b[0m\u001b[0;34m.\u001b[0m\u001b[0mclose\u001b[0m\u001b[0;34m(\u001b[0m\u001b[0;34m)\u001b[0m\u001b[0;34m\u001b[0m\u001b[0;34m\u001b[0m\u001b[0m\n",
      "\u001b[0;32m~/anaconda3/envs/revs-sum/lib/python3.7/http/client.py\u001b[0m in \u001b[0;36mbegin\u001b[0;34m(self)\u001b[0m\n\u001b[1;32m    308\u001b[0m         \u001b[0;31m# read until we get a non-100 response\u001b[0m\u001b[0;34m\u001b[0m\u001b[0;34m\u001b[0m\u001b[0;34m\u001b[0m\u001b[0m\n\u001b[1;32m    309\u001b[0m         \u001b[0;32mwhile\u001b[0m \u001b[0;32mTrue\u001b[0m\u001b[0;34m:\u001b[0m\u001b[0;34m\u001b[0m\u001b[0;34m\u001b[0m\u001b[0m\n\u001b[0;32m--> 310\u001b[0;31m             \u001b[0mversion\u001b[0m\u001b[0;34m,\u001b[0m \u001b[0mstatus\u001b[0m\u001b[0;34m,\u001b[0m \u001b[0mreason\u001b[0m \u001b[0;34m=\u001b[0m \u001b[0mself\u001b[0m\u001b[0;34m.\u001b[0m\u001b[0m_read_status\u001b[0m\u001b[0;34m(\u001b[0m\u001b[0;34m)\u001b[0m\u001b[0;34m\u001b[0m\u001b[0;34m\u001b[0m\u001b[0m\n\u001b[0m\u001b[1;32m    311\u001b[0m             \u001b[0;32mif\u001b[0m \u001b[0mstatus\u001b[0m \u001b[0;34m!=\u001b[0m \u001b[0mCONTINUE\u001b[0m\u001b[0;34m:\u001b[0m\u001b[0;34m\u001b[0m\u001b[0;34m\u001b[0m\u001b[0m\n\u001b[1;32m    312\u001b[0m                 \u001b[0;32mbreak\u001b[0m\u001b[0;34m\u001b[0m\u001b[0;34m\u001b[0m\u001b[0m\n",
      "\u001b[0;32m~/anaconda3/envs/revs-sum/lib/python3.7/http/client.py\u001b[0m in \u001b[0;36m_read_status\u001b[0;34m(self)\u001b[0m\n\u001b[1;32m    269\u001b[0m \u001b[0;34m\u001b[0m\u001b[0m\n\u001b[1;32m    270\u001b[0m     \u001b[0;32mdef\u001b[0m \u001b[0m_read_status\u001b[0m\u001b[0;34m(\u001b[0m\u001b[0mself\u001b[0m\u001b[0;34m)\u001b[0m\u001b[0;34m:\u001b[0m\u001b[0;34m\u001b[0m\u001b[0;34m\u001b[0m\u001b[0m\n\u001b[0;32m--> 271\u001b[0;31m         \u001b[0mline\u001b[0m \u001b[0;34m=\u001b[0m \u001b[0mstr\u001b[0m\u001b[0;34m(\u001b[0m\u001b[0mself\u001b[0m\u001b[0;34m.\u001b[0m\u001b[0mfp\u001b[0m\u001b[0;34m.\u001b[0m\u001b[0mreadline\u001b[0m\u001b[0;34m(\u001b[0m\u001b[0m_MAXLINE\u001b[0m \u001b[0;34m+\u001b[0m \u001b[0;36m1\u001b[0m\u001b[0;34m)\u001b[0m\u001b[0;34m,\u001b[0m \u001b[0;34m\"iso-8859-1\"\u001b[0m\u001b[0;34m)\u001b[0m\u001b[0;34m\u001b[0m\u001b[0;34m\u001b[0m\u001b[0m\n\u001b[0m\u001b[1;32m    272\u001b[0m         \u001b[0;32mif\u001b[0m \u001b[0mlen\u001b[0m\u001b[0;34m(\u001b[0m\u001b[0mline\u001b[0m\u001b[0;34m)\u001b[0m \u001b[0;34m>\u001b[0m \u001b[0m_MAXLINE\u001b[0m\u001b[0;34m:\u001b[0m\u001b[0;34m\u001b[0m\u001b[0;34m\u001b[0m\u001b[0m\n\u001b[1;32m    273\u001b[0m             \u001b[0;32mraise\u001b[0m \u001b[0mLineTooLong\u001b[0m\u001b[0;34m(\u001b[0m\u001b[0;34m\"status line\"\u001b[0m\u001b[0;34m)\u001b[0m\u001b[0;34m\u001b[0m\u001b[0;34m\u001b[0m\u001b[0m\n",
      "\u001b[0;32m~/anaconda3/envs/revs-sum/lib/python3.7/socket.py\u001b[0m in \u001b[0;36mreadinto\u001b[0;34m(self, b)\u001b[0m\n\u001b[1;32m    587\u001b[0m         \u001b[0;32mwhile\u001b[0m \u001b[0;32mTrue\u001b[0m\u001b[0;34m:\u001b[0m\u001b[0;34m\u001b[0m\u001b[0;34m\u001b[0m\u001b[0m\n\u001b[1;32m    588\u001b[0m             \u001b[0;32mtry\u001b[0m\u001b[0;34m:\u001b[0m\u001b[0;34m\u001b[0m\u001b[0;34m\u001b[0m\u001b[0m\n\u001b[0;32m--> 589\u001b[0;31m                 \u001b[0;32mreturn\u001b[0m \u001b[0mself\u001b[0m\u001b[0;34m.\u001b[0m\u001b[0m_sock\u001b[0m\u001b[0;34m.\u001b[0m\u001b[0mrecv_into\u001b[0m\u001b[0;34m(\u001b[0m\u001b[0mb\u001b[0m\u001b[0;34m)\u001b[0m\u001b[0;34m\u001b[0m\u001b[0;34m\u001b[0m\u001b[0m\n\u001b[0m\u001b[1;32m    590\u001b[0m             \u001b[0;32mexcept\u001b[0m \u001b[0mtimeout\u001b[0m\u001b[0;34m:\u001b[0m\u001b[0;34m\u001b[0m\u001b[0;34m\u001b[0m\u001b[0m\n\u001b[1;32m    591\u001b[0m                 \u001b[0mself\u001b[0m\u001b[0;34m.\u001b[0m\u001b[0m_timeout_occurred\u001b[0m \u001b[0;34m=\u001b[0m \u001b[0;32mTrue\u001b[0m\u001b[0;34m\u001b[0m\u001b[0;34m\u001b[0m\u001b[0m\n",
      "\u001b[0;31mKeyboardInterrupt\u001b[0m: "
     ]
    }
   ],
   "source": [
    "# default path to file to store data\n",
    "path_to_file = \"../datasets/scraped_final_list_URL_TripAdvisor.csv\"\n",
    "\n",
    "# Open the file to save the review\n",
    "csvFile = open(path_to_file, 'a', encoding=\"utf-8\")\n",
    "csvWriter = csv.writer(csvFile)\n",
    "\n",
    "for i, row in df.iterrows():\n",
    "    \n",
    "    opts = Options()\n",
    "    opts.add_argument('--no-sandbox')\n",
    "    opts.add_argument('--headless')\n",
    "    opts.add_argument('--disable-dev-shm-usage')\n",
    "    driver_args = { \"options\" : opts }\n",
    "\n",
    "    restaruant_name = row[\"NYC_extract.DBA\"]\n",
    "    url = row[\"NYC_extract.TripAdvisor.URL\"]\n",
    "    print(url)\n",
    "    \n",
    "    scrape_url(url, csvWriter, restaurant=restaruant_name, debug=False, \n",
    "               driver_args=driver_args)"
   ]
  }
 ],
 "metadata": {
  "kernelspec": {
   "display_name": "Python 3",
   "language": "python",
   "name": "python3"
  },
  "language_info": {
   "codemirror_mode": {
    "name": "ipython",
    "version": 3
   },
   "file_extension": ".py",
   "mimetype": "text/x-python",
   "name": "python",
   "nbconvert_exporter": "python",
   "pygments_lexer": "ipython3",
   "version": "3.7.10"
  },
  "latex_envs": {
   "LaTeX_envs_menu_present": true,
   "autoclose": false,
   "autocomplete": true,
   "bibliofile": "biblio.bib",
   "cite_by": "apalike",
   "current_citInitial": 1,
   "eqLabelWithNumbers": true,
   "eqNumInitial": 1,
   "hotkeys": {
    "equation": "Ctrl-E",
    "itemize": "Ctrl-I"
   },
   "labels_anchors": false,
   "latex_user_defs": false,
   "report_style_numbering": false,
   "user_envs_cfg": false
  },
  "notify_time": "30",
  "toc": {
   "base_numbering": 1,
   "nav_menu": {},
   "number_sections": true,
   "sideBar": true,
   "skip_h1_title": false,
   "title_cell": "Table of Contents",
   "title_sidebar": "Contents",
   "toc_cell": false,
   "toc_position": {},
   "toc_section_display": true,
   "toc_window_display": false
  }
 },
 "nbformat": 4,
 "nbformat_minor": 4
}
