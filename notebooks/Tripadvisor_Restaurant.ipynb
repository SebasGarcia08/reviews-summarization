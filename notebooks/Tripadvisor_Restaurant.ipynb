{
 "cells": [
  {
   "cell_type": "code",
   "execution_count": 44,
   "metadata": {
    "ExecuteTime": {
     "end_time": "2021-03-14T17:36:14.090824Z",
     "start_time": "2021-03-14T17:36:08.541630Z"
    }
   },
   "outputs": [],
   "source": [
    "import sys\n",
    "import csv\n",
    "from selenium import webdriver\n",
    "import time\n",
    "\n",
    "# default path to file to store data\n",
    "path_to_file = \"/Users/didie/Documents/Research/IGNITION - Hotels Review - Seb/Reviews_Restaurants_85.csv\"\n",
    "\n",
    "# default number of scraped pages\n",
    "num_page = 1000\n",
    "\n",
    "# default tripadvisor website of restaurant\n",
    "url = \"https://www.tripadvisor.com/Restaurant_Review-g55711-d649839-Reviews-Pappas_Bros_Steakhouse-Dallas_Texas.html\"\n",
    "# if you pass the inputs in the command line\n",
    "if (len(sys.argv) == 4):\n",
    "    path_to_file = sys.argv[1]\n",
    "    num_page = int(sys.argv[2])\n",
    "    url = sys.argv[3]\n",
    "\n",
    "PATH = \"/usr/bin/chromedriver\"\n",
    "# Import the webdriver\n",
    "driver = webdriver.Chrome(PATH)\n",
    "driver.get(url)"
   ]
  },
  {
   "cell_type": "code",
   "execution_count": null,
   "metadata": {
    "ExecuteTime": {
     "start_time": "2021-03-14T17:36:20.197Z"
    }
   },
   "outputs": [
    {
     "name": "stdout",
     "output_type": "stream",
     "text": [
      "Num reviews in this page: 10\n",
      "['February 23, 2021', '50', 'The ambiance is low key', 'The ambiance is low key and elegant. My husband got the 16 oz steak which was juicy and well seasoned. The lobster Mac and cheese was decadent and so rich. I also got the crab cakes which were big balls that comes in 2 with like shoestring fries on top-very filling. They came out with with bread appetizer - wasn’t all that great. Pretty penny all together. The lemonade has refills but they have options for frankly squeezed lemonade and fountain, bottled water and tap, and so on. I just don’t like the lights, they’re too dim that I was practically squinting with my contacts. Everyone greeted us coming in and they have self-park and valet.']\n",
      "continue? [y/n]: y\n",
      "['January 8, 2021', '50', 'The Best Steakhouse', 'This is #1 in DFW area in our opinion. And the prices equal the quality - very high. But it was worth every penny to have the most amazing quality steak and lamb chops. And it is kind of cool to pick from a wine list that features lots of bottles more than 9 years old, and many priced over $10,000 a bottle - maybe if we win the lottery we will try one.']\n",
      "continue? [y/n]: y\n",
      "['January 8, 2021', '50', 'Top Dallas steakhouse', 'My favorite steakhouse in the Metroplex. Always top service and environment, and I like that the steaks and sides are always humongous. Will continue to visit when I’m in Dallas area']\n",
      "continue? [y/n]: y\n",
      "['January 6, 2021', '40', 'Amazing as always!', \"Went with another couple for holiday dinner. Not a lot of social distancing but we were not too concerned about it. The filet never disappoints! The wine sommelier helped us with some incredible wine selections. Never had to wait for water in my glass. Very attentive waitress and manager as my husband and our friends NY Strip was not cooked exactly as ordered. We didn't complain but the waitress noticed it wasn't right and the manager came to us and said to put it aside, take it home because there was 2 more steak on the grill for us. And on top of that didn't charge us for any of the NY Strip steaks. I feel they went over and above. But also did exactly what they should have given the situation. Will definitely return. This is one of our favorite places - beats Bob's and Capital Grill hands down!\"]\n",
      "continue? [y/n]: y\n",
      "['December 25, 2020', '40', 'Best steaks ever, but no social distancing', 'This place has consostantly for years, have the nest steak we had, over everywhere in the world. The service is impacable. BUT, if you are trying to stay safe if CV19, this is probably a place to avoid. We were placed in a room with tables full of people all around us. I really hope that this is not the place where we will get it. We probably should have left.']\n",
      "continue? [y/n]: y\n",
      "['November 4, 2020', '20', 'No longer the King of North Texas Steak.', 'I have long considered Pappas Bros. Steakhouse the best steakhouse in Dallas. And although it was pricey, I perceived it as a good value because of the service and quality. I recently had a family dinner there, and was tremendously disappointed. The prices have increased so much as to no longer present a \"value\", and the food has become mediocre. A wedge salad at $16.95 does not include bacon / blue cheese crumbles, which are an add-on at significant price (every wedge salad I have ordered anywhere comes with bacon and blue cheese crumbles at significantly lower cost). My wife\\'s dinner salad looked awful when it came out. The steak prices have increased quite a bit. So much as to turn me away for future dinners. Pappas does make the best Old Fashioned in town - and lobster bisque too. So there is still some good in this restaurant. Just not enough for me to return. Too pricey for what you get. No longer a value add restaurant.']\n",
      "continue? [y/n]: y\n",
      "['October 12, 2020', '30', 'Disappointed with my Ribeye', 'It may have been a bad night for the chef or just a bad cut of beef. Whatever the issue was, my steak was served medium well when I asked for medium rare and the steak itself was tough and had gristle running through it. There were two bright spots to the meal. Great service and delicious asparagus.  I blame myself for not sending the ribeye back. At just under $50.00 it certainly would have been acceptable to do so.']\n",
      "continue? [y/n]: y\n",
      "['October 2, 2020', '50', 'I loved', 'I ate very well, quality and fast service, the meat was tender, very tasty and the cooking was exactly as I wanted, perfect']\n",
      "continue? [y/n]: y\n",
      "['September 15, 2020', '50', 'Best in Dallas!', 'The food is always cooked perfectly! The sine list is impressive, to say the least. You will never leave hungry. Scott is our favorite server. he has a great personality and knows his profession. Guaranteed great meal and worth the expense!']\n",
      "continue? [y/n]: y\n",
      "['July 14, 2020', '50', 'Great Restaurant', 'While we stay at the hotel in Dallas, from the hotel they took us the shuttle there to have a romantic dinner. The first time I loved the restaurant, the environment, the food, the decor, service, etc. Not chip but worth it. We stay at that hotel and go again.']\n",
      "continue? [y/n]: y\n",
      "Num reviews in this page: 10\n",
      "['April 24, 2020', '50', 'The best steakhouse in DFW', 'I love papas and we have been going there for literally years. There isn’t a bad dish on the entire menu and you won’t find a better steak anywhere.']\n",
      "continue? [y/n]: y\n",
      "['March 8, 2020', '50', 'Consistently Great!', 'I’ve visited several renowned steakhouses in the Dallas Metroplex. Papa Bros is the ONLY place that delivers great service and great food EVERY-TIME. It’s worth every penny 😋']\n",
      "continue? [y/n]: y\n",
      "['March 6, 2020', '50', 'Special Celebration Gone Right', 'We are never disappointed when we go to Pappas Steakhouse. It is always a treat and a wonderful experience. The prices are high but well worth the price for food, experience, atmosphere and quality. The only thing I would say it the 40+oz Porterhouse is not as good and the 20+oz. Not saying there was anything wrong with the bigger portion, we are well aware it is more difficult to cook and marinate a larger portion of meat. The 20oz was like butter and the 40oz was amazing as well, just not at to die for as the 20oz. Complements to the chef for everything, Dessert was amazing too, had to take home the giant piece of cheesecake. Highly recommend for all occasions.']\n",
      "continue? [y/n]: y\n",
      "['March 5, 2020', '50', 'Awesome lobster biscuit', \"I don't eat beef but I had one of the best lobster biscuit that I've ever tried. My friends, instead, enjoyed with the special beef menu. Excellent service by the way. Everyone has to go there and try it.\"]\n",
      "continue? [y/n]: y\n",
      "['March 5, 2020', '50', 'Valentines Day', 'I had a wonderful Valentine’s Day at Pappas Bros. Steak house. Even though the place was busy due to the holiday they had no drop off in service. We were very impressed with the waiter and the food.']\n",
      "continue? [y/n]: y\n",
      "['March 1, 2020', '30', 'Food was great. Service was', 'Food was great. Service was extremely slow. Expected a lot better service due to the price. Set reservation and still had to wait 30 minutes past.']\n",
      "continue? [y/n]: y\n",
      "['February 28, 2020', '30', 'French are good at cooking,Greeks are great at shipping .', 'House Merlot excellent, Whole loaf of warm french bread ! Turtle chowder - broth good, meat tasteless , Caesar salad worse than at Cheesecake Factory - flavorless, Fried oysters- no flavor , but breadding crispy and oysters soft and creamy. Very good service , great place for very senior citizens.']\n",
      "continue? [y/n]: y\n",
      "['February 22, 2020', '50', 'Fantastic Steak House', 'The atmosphere was relaxing and attentive by the staff. The steaks were outstanding, the wine list extensive for all price ranges. I will return without a doubt']\n",
      "continue? [y/n]: y\n",
      "['February 19, 2020', '40', \"Good, but not 'the best'.\", \"Service, ambiance, available wine and drinks are all outstanding. The two steaks we had (bone in ribeye, porterhouse) were good, but not outstanding. We had eaten at Town Hearth a few weeks before, and both of us preferred our steak from there. I've also had an on-par steak from Saltgrass, which is substantially cheaper.  Steak is incredibly subjective, and we definitely enjoyed our time there, but if we had to define Papa's with two questions; Was the meal worth $350? - and - Does it deserve to be the #1 rated steak restaurant in Dallas - the answer the both is no.\"]\n"
     ]
    },
    {
     "name": "stdout",
     "output_type": "stream",
     "text": [
      "continue? [y/n]: y\n",
      "['February 18, 2020', '40', 'Good not great', \"Was here last in 2015 (see my review) and had a poor visit. Its been 4 years so gave them another try. This time much better but they can do SO MUCH more! Service was slow (drinks took 20+ min) and very inconsistent. For a $100 steak I'd like someone that appears to have been working a nice restaurant more than a few months. Lobster deviled eggs were one of the best things I have ever tasted. Truly amazing. Sides were decent. Cocktails were reasonably priced. Steak was ordered medium rare and came out dripping blood and mooing. Sent it back with the stern warning that it may be overcooked. Is that really our fault/problem? Steak came back closer to Medium but we ate it. It was very good. I've been to several of the Bob's locations and its got my money from now on.\"]\n",
      "continue? [y/n]: y\n",
      "Num reviews in this page: 10\n",
      "['February 12, 2020', '40', 'Old school steakhouse', 'Pappas Bros is our go-to for out of town guests. It is Dallas old school with an upscale feeling. Great bar and always a good steak. Nice atmosphere, attentive serving staff and lots of choices. Something for everyone. They also make a mean dirty martini!']\n"
     ]
    }
   ],
   "source": [
    "from selenium.webdriver.support.ui import WebDriverWait\n",
    "from selenium.webdriver.support import expected_conditions as EC\n",
    "\n",
    "# Open the file to save the review\n",
    "# csvFile = open(path_to_file, 'a', encoding=\"utf-8\")\n",
    "# csvWriter = csv.writer(csvFile)\n",
    "\n",
    "def expand_reviews():\n",
    "    element = WebDriverWait(driver, timeout=10).until(\n",
    "            EC.presence_of_element_located((By.XPATH, \"//span[@class='taLnk ulBlueLinks']\")) \n",
    "    )\n",
    "    if element is not None:\n",
    "        element.click() \n",
    "    \n",
    "\n",
    "# change the value inside the range to save more or less reviews\n",
    "for i in range(0, 1000):\n",
    "    \n",
    "#     # expand the review \n",
    "    try:\n",
    "        expand_reviews()\n",
    "    except Exception as e:\n",
    "        expand_reviews()\n",
    "\n",
    "#     driver.find_element_by_xpath(\"//span[@class='taLnk ulBlueLinks']\").click()\n",
    "    time.sleep(2)\n",
    "    \n",
    "    container = driver.find_elements_by_xpath(\".//div[@class='review-container']\")\n",
    "    \n",
    "    print(f\"Num reviews in this page: {len(container)}\")\n",
    "#     print(container)\n",
    "    for j in range(len(container)):\n",
    "#         print(container[j].text)\n",
    "        title = container[j].find_element_by_xpath(\".//span[@class='noQuotes']\").text\n",
    "        date = container[j].find_element_by_xpath(\".//span[contains(@class, 'ratingDate')]\").get_attribute(\"title\")\n",
    "        rating = container[j].find_element_by_xpath(\".//span[contains(@class, 'ui_bubble_rating bubble_')]\").get_attribute(\"class\").split(\"_\")[3]\n",
    "        try:\n",
    "            review = container[j].find_element_by_xpath(\".//span[@class='postSnippet']\").text.replace(\"\\n\", \" \")\n",
    "        except:\n",
    "            review = container[j].find_element_by_xpath(\".//p[@class='partial_entry']\").text.replace(\"\\n\", \" \")\n",
    "        \n",
    "        print([date, rating, title, review]) \n",
    "        res = input(\"continue? [y/n]: \")[0]\n",
    "        if res == \"n\":\n",
    "            break\n",
    "            \n",
    "    # change the page\n",
    "    driver.find_element_by_xpath('.//a[@class=\"nav next ui_button primary\"]').click()\n",
    "\n",
    "driver.close()\n"
   ]
  },
  {
   "cell_type": "code",
   "execution_count": 18,
   "metadata": {
    "ExecuteTime": {
     "end_time": "2021-03-14T16:48:29.294984Z",
     "start_time": "2021-03-14T16:48:29.276685Z"
    }
   },
   "outputs": [
    {
     "data": {
      "text/plain": [
       "['__class__',\n",
       " '__delattr__',\n",
       " '__dict__',\n",
       " '__dir__',\n",
       " '__doc__',\n",
       " '__eq__',\n",
       " '__format__',\n",
       " '__ge__',\n",
       " '__getattribute__',\n",
       " '__gt__',\n",
       " '__hash__',\n",
       " '__init__',\n",
       " '__init_subclass__',\n",
       " '__le__',\n",
       " '__lt__',\n",
       " '__module__',\n",
       " '__ne__',\n",
       " '__new__',\n",
       " '__reduce__',\n",
       " '__reduce_ex__',\n",
       " '__repr__',\n",
       " '__setattr__',\n",
       " '__sizeof__',\n",
       " '__str__',\n",
       " '__subclasshook__',\n",
       " '__weakref__',\n",
       " '_execute',\n",
       " '_id',\n",
       " '_parent',\n",
       " '_upload',\n",
       " '_w3c',\n",
       " 'clear',\n",
       " 'click',\n",
       " 'find_element',\n",
       " 'find_element_by_class_name',\n",
       " 'find_element_by_css_selector',\n",
       " 'find_element_by_id',\n",
       " 'find_element_by_link_text',\n",
       " 'find_element_by_name',\n",
       " 'find_element_by_partial_link_text',\n",
       " 'find_element_by_tag_name',\n",
       " 'find_element_by_xpath',\n",
       " 'find_elements',\n",
       " 'find_elements_by_class_name',\n",
       " 'find_elements_by_css_selector',\n",
       " 'find_elements_by_id',\n",
       " 'find_elements_by_link_text',\n",
       " 'find_elements_by_name',\n",
       " 'find_elements_by_partial_link_text',\n",
       " 'find_elements_by_tag_name',\n",
       " 'find_elements_by_xpath',\n",
       " 'get_attribute',\n",
       " 'get_property',\n",
       " 'id',\n",
       " 'is_displayed',\n",
       " 'is_enabled',\n",
       " 'is_selected',\n",
       " 'location',\n",
       " 'location_once_scrolled_into_view',\n",
       " 'parent',\n",
       " 'rect',\n",
       " 'screenshot',\n",
       " 'screenshot_as_base64',\n",
       " 'screenshot_as_png',\n",
       " 'send_keys',\n",
       " 'size',\n",
       " 'submit',\n",
       " 'tag_name',\n",
       " 'text',\n",
       " 'value_of_css_property']"
      ]
     },
     "execution_count": 18,
     "metadata": {},
     "output_type": "execute_result"
    }
   ],
   "source": [
    "dir(review)"
   ]
  },
  {
   "cell_type": "code",
   "execution_count": null,
   "metadata": {},
   "outputs": [],
   "source": []
  }
 ],
 "metadata": {
  "kernelspec": {
   "display_name": "Python 3",
   "language": "python",
   "name": "python3"
  },
  "language_info": {
   "codemirror_mode": {
    "name": "ipython",
    "version": 3
   },
   "file_extension": ".py",
   "mimetype": "text/x-python",
   "name": "python",
   "nbconvert_exporter": "python",
   "pygments_lexer": "ipython3",
   "version": "3.7.10"
  },
  "latex_envs": {
   "LaTeX_envs_menu_present": true,
   "autoclose": false,
   "autocomplete": true,
   "bibliofile": "biblio.bib",
   "cite_by": "apalike",
   "current_citInitial": 1,
   "eqLabelWithNumbers": true,
   "eqNumInitial": 1,
   "hotkeys": {
    "equation": "Ctrl-E",
    "itemize": "Ctrl-I"
   },
   "labels_anchors": false,
   "latex_user_defs": false,
   "report_style_numbering": false,
   "user_envs_cfg": false
  },
  "toc": {
   "base_numbering": 1,
   "nav_menu": {},
   "number_sections": true,
   "sideBar": true,
   "skip_h1_title": false,
   "title_cell": "Table of Contents",
   "title_sidebar": "Contents",
   "toc_cell": false,
   "toc_position": {},
   "toc_section_display": true,
   "toc_window_display": false
  }
 },
 "nbformat": 4,
 "nbformat_minor": 4
}
