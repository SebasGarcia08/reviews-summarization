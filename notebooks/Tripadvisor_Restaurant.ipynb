{
 "cells": [
  {
   "cell_type": "code",
   "execution_count": 1,
   "metadata": {
    "ExecuteTime": {
     "end_time": "2021-03-15T15:53:50.135114Z",
     "start_time": "2021-03-15T15:53:49.537532Z"
    }
   },
   "outputs": [],
   "source": [
    "from selenium import webdriver\n",
    "from selenium.webdriver.support.ui import WebDriverWait\n",
    "from selenium.webdriver.support import expected_conditions as EC\n",
    "from selenium import webdriver\n",
    "from selenium.webdriver.chrome.options import Options\n",
    "from selenium.webdriver.common.by import By\n",
    "\n",
    "import pandas as pd\n",
    "import numpy as np\n",
    "\n",
    "import sys\n",
    "import csv\n",
    "import time\n",
    "import random\n",
    "import logging\n",
    "import traceback\n",
    "import os\n",
    "\n",
    "# default tripadvisor website of restaurant\n",
    "PATH = \"/usr/bin/chromedriver\""
   ]
  },
  {
   "cell_type": "code",
   "execution_count": 2,
   "metadata": {
    "ExecuteTime": {
     "end_time": "2021-03-15T15:53:50.680438Z",
     "start_time": "2021-03-15T15:53:50.676834Z"
    },
    "scrolled": true
   },
   "outputs": [],
   "source": [
    "logging.basicConfig()\n",
    "logger = logging.getLogger(__name__)\n",
    "logger.setLevel(logging.INFO)"
   ]
  },
  {
   "cell_type": "code",
   "execution_count": 3,
   "metadata": {
    "ExecuteTime": {
     "end_time": "2021-03-15T15:53:52.036101Z",
     "start_time": "2021-03-15T15:53:52.021128Z"
    }
   },
   "outputs": [],
   "source": [
    "def expand_reviews(locator, base_element):\n",
    "    element = WebDriverWait(base_element, timeout=10).until(\n",
    "        EC.presence_of_element_located(locator)\n",
    "    )\n",
    "    if element is not None:\n",
    "        element.click()\n",
    "\n",
    "\n",
    "def scrape_url(url, csvWriter, restaurant, debug=False, driver_args = None):\n",
    "\n",
    "    # Import the webdriver\n",
    "    if driver_args is not None:\n",
    "        driver = webdriver.Chrome(PATH, **driver_args)\n",
    "    else:\n",
    "        driver = webdriver.Chrome(PATH)        \n",
    "    driver.get(url)\n",
    "\n",
    "    try:\n",
    "        reviews_div = WebDriverWait(driver, timeout=10).until(\n",
    "            EC.presence_of_element_located((By.ID, \"REVIEWS\"))\n",
    "        )\n",
    "\n",
    "        try:\n",
    "            num_pages_el = WebDriverWait(reviews_div, timeout=10).until(\n",
    "                EC.presence_of_element_located((By.CLASS_NAME, \"pageNum.last\"))\n",
    "            )\n",
    "\n",
    "            num_pages = int(num_pages_el.text)\n",
    "            logger.info(f\"Found a maximum of {num_pages} pages\")\n",
    "        except Exception as e:\n",
    "            logger.error(\n",
    "                \"Could find maximum page. This page may only have one page of reviews\")\n",
    "            logger.error(e)\n",
    "            num_pages = 10\n",
    "\n",
    "        # change the value inside the range to save more or less reviews\n",
    "        for i in range(0, num_pages):\n",
    "\n",
    "            #     # expand the review\n",
    "            more_span = \"//span[@class='taLnk ulBlueLinks']\"\n",
    "            expand_locator = (By.XPATH, more_span)\n",
    "\n",
    "            try:\n",
    "                expand_reviews(expand_locator, base_element=reviews_div)\n",
    "            except Exception as e:\n",
    "                expand_reviews(expand_locator, base_element=reviews_div)\n",
    "\n",
    "        #     # Wait for the expansion to take place\n",
    "\n",
    "            # Make sure that all the reviews are loaded\n",
    "            time.sleep(2)\n",
    "            num_reviews_per_page = 10\n",
    "            container = driver.find_elements_by_xpath(\n",
    "                \".//div[@class='review-container']\")\n",
    "\n",
    "            if len(container) < num_reviews_per_page and i < (num_pages - 1):\n",
    "                max_num_tries = 5\n",
    "                num_tries = 0\n",
    "\n",
    "                while len(container) != num_reviews_per_page and num_tries < max_num_tries:\n",
    "                    time.sleep(1)\n",
    "                    container = driver.find_elements_by_xpath(\n",
    "                        \".//div[@class='review-container']\")\n",
    "                    num_tries += 1\n",
    "\n",
    "            for j in range(len(container)):\n",
    "                title = container[j].find_element_by_xpath(\n",
    "                    \".//span[@class='noQuotes']\").text\n",
    "                date = container[j].find_element_by_xpath(\n",
    "                    \".//span[contains(@class, 'ratingDate')]\").get_attribute(\"title\")\n",
    "                rating = container[j].find_element_by_xpath(\n",
    "                    \".//span[contains(@class, 'ui_bubble_rating bubble_')]\").get_attribute(\"class\").split(\"_\")[3]\n",
    "                try:\n",
    "                    review = container[j].find_element_by_xpath(\n",
    "                        \".//span[@class='postSnippet']\").text.replace(\"\\n\", \" \")\n",
    "                except:\n",
    "                    review = container[j].find_element_by_xpath(\n",
    "                        \".//p[@class='partial_entry']\").text.replace(\"\\n\", \" \")\n",
    "\n",
    "                if debug:\n",
    "                    print([restaurant, date, rating, title, review])\n",
    "\n",
    "                csvWriter.writerow([restaurant, date, rating, title, review, url, str(i+1)])\n",
    "\n",
    "            # change the page\n",
    "            driver.find_element_by_xpath(\n",
    "                './/a[@class=\"nav next ui_button primary\"]').click()\n",
    "            time.sleep(random.randint(1, 4))\n",
    "\n",
    "    except Exception as e:\n",
    "        logger.error(\"Could not load this page\")\n",
    "        logger.error(e)\n",
    "\n",
    "    driver.close()\n",
    "    time.sleep(random.randint(1, 3))"
   ]
  },
  {
   "cell_type": "code",
   "execution_count": 4,
   "metadata": {
    "ExecuteTime": {
     "end_time": "2021-03-15T15:53:52.746278Z",
     "start_time": "2021-03-15T15:53:52.704116Z"
    }
   },
   "outputs": [
    {
     "data": {
      "text/html": [
       "<div>\n",
       "<style scoped>\n",
       "    .dataframe tbody tr th:only-of-type {\n",
       "        vertical-align: middle;\n",
       "    }\n",
       "\n",
       "    .dataframe tbody tr th {\n",
       "        vertical-align: top;\n",
       "    }\n",
       "\n",
       "    .dataframe thead th {\n",
       "        text-align: right;\n",
       "    }\n",
       "</style>\n",
       "<table border=\"1\" class=\"dataframe\">\n",
       "  <thead>\n",
       "    <tr style=\"text-align: right;\">\n",
       "      <th></th>\n",
       "      <th>NYC_extract.DBA</th>\n",
       "      <th>NYC_extract.TripAdvisor.URL</th>\n",
       "      <th>NYC_extract.INSPECTION.DATE</th>\n",
       "      <th>NYC_extract.VIOLATION.DESCRIPTION</th>\n",
       "      <th>NYC_extract.SCORE</th>\n",
       "      <th>NYC_extract.GRADE</th>\n",
       "    </tr>\n",
       "  </thead>\n",
       "  <tbody>\n",
       "    <tr>\n",
       "      <th>946</th>\n",
       "      <td>NOEL'S PIZZA</td>\n",
       "      <td>https://www.tripadvisor.com/Restaurant_Review-...</td>\n",
       "      <td>11/02/2016</td>\n",
       "      <td>Facility not vermin proof. Harborage or condit...</td>\n",
       "      <td>14</td>\n",
       "      <td>NaN</td>\n",
       "    </tr>\n",
       "    <tr>\n",
       "      <th>17922</th>\n",
       "      <td>WEST SIDE STEAKHOUSE</td>\n",
       "      <td>https://www.tripadvisor.com/Restaurant_Review-...</td>\n",
       "      <td>06/06/2017</td>\n",
       "      <td>Food not cooled by an approved method whereby ...</td>\n",
       "      <td>13</td>\n",
       "      <td>A</td>\n",
       "    </tr>\n",
       "    <tr>\n",
       "      <th>19584</th>\n",
       "      <td>BAKER'S PIZZA</td>\n",
       "      <td>https://www.tripadvisor.com/Restaurant_Review-...</td>\n",
       "      <td>03/07/2017</td>\n",
       "      <td>Hot food item not held at or above 140Âº F.</td>\n",
       "      <td>24</td>\n",
       "      <td>NaN</td>\n",
       "    </tr>\n",
       "    <tr>\n",
       "      <th>19648</th>\n",
       "      <td>BAKER'S PIZZA</td>\n",
       "      <td>https://www.tripadvisor.com/Restaurant_Review-...</td>\n",
       "      <td>03/07/2017</td>\n",
       "      <td>Filth flies or food/refuse/sewage-associated (...</td>\n",
       "      <td>24</td>\n",
       "      <td>NaN</td>\n",
       "    </tr>\n",
       "    <tr>\n",
       "      <th>19791</th>\n",
       "      <td>PEE DEE</td>\n",
       "      <td>https://www.tripadvisor.com/Restaurant_Review-...</td>\n",
       "      <td>04/07/2017</td>\n",
       "      <td>Facility not vermin proof. Harborage or condit...</td>\n",
       "      <td>27</td>\n",
       "      <td>NaN</td>\n",
       "    </tr>\n",
       "  </tbody>\n",
       "</table>\n",
       "</div>"
      ],
      "text/plain": [
       "            NYC_extract.DBA  \\\n",
       "946            NOEL'S PIZZA   \n",
       "17922  WEST SIDE STEAKHOUSE   \n",
       "19584         BAKER'S PIZZA   \n",
       "19648         BAKER'S PIZZA   \n",
       "19791               PEE DEE   \n",
       "\n",
       "                             NYC_extract.TripAdvisor.URL  \\\n",
       "946    https://www.tripadvisor.com/Restaurant_Review-...   \n",
       "17922  https://www.tripadvisor.com/Restaurant_Review-...   \n",
       "19584  https://www.tripadvisor.com/Restaurant_Review-...   \n",
       "19648  https://www.tripadvisor.com/Restaurant_Review-...   \n",
       "19791  https://www.tripadvisor.com/Restaurant_Review-...   \n",
       "\n",
       "      NYC_extract.INSPECTION.DATE  \\\n",
       "946                    11/02/2016   \n",
       "17922                  06/06/2017   \n",
       "19584                  03/07/2017   \n",
       "19648                  03/07/2017   \n",
       "19791                  04/07/2017   \n",
       "\n",
       "                       NYC_extract.VIOLATION.DESCRIPTION  NYC_extract.SCORE  \\\n",
       "946    Facility not vermin proof. Harborage or condit...                 14   \n",
       "17922  Food not cooled by an approved method whereby ...                 13   \n",
       "19584        Hot food item not held at or above 140Âº F.                 24   \n",
       "19648  Filth flies or food/refuse/sewage-associated (...                 24   \n",
       "19791  Facility not vermin proof. Harborage or condit...                 27   \n",
       "\n",
       "      NYC_extract.GRADE  \n",
       "946                 NaN  \n",
       "17922                 A  \n",
       "19584               NaN  \n",
       "19648               NaN  \n",
       "19791               NaN  "
      ]
     },
     "execution_count": 4,
     "metadata": {},
     "output_type": "execute_result"
    }
   ],
   "source": [
    "df = pd.read_csv(\"../datasets/final_list_URL_TripAdvisor.csv\", sep=\";\")\n",
    "df.head()"
   ]
  },
  {
   "cell_type": "code",
   "execution_count": 5,
   "metadata": {
    "ExecuteTime": {
     "end_time": "2021-03-15T15:53:56.626806Z",
     "start_time": "2021-03-15T15:53:56.601455Z"
    }
   },
   "outputs": [
    {
     "data": {
      "text/html": [
       "<div>\n",
       "<style scoped>\n",
       "    .dataframe tbody tr th:only-of-type {\n",
       "        vertical-align: middle;\n",
       "    }\n",
       "\n",
       "    .dataframe tbody tr th {\n",
       "        vertical-align: top;\n",
       "    }\n",
       "\n",
       "    .dataframe thead th {\n",
       "        text-align: right;\n",
       "    }\n",
       "</style>\n",
       "<table border=\"1\" class=\"dataframe\">\n",
       "  <thead>\n",
       "    <tr style=\"text-align: right;\">\n",
       "      <th></th>\n",
       "      <th>NYC_extract.TripAdvisor.URL</th>\n",
       "      <th>NYC_extract.DBA</th>\n",
       "    </tr>\n",
       "  </thead>\n",
       "  <tbody>\n",
       "    <tr>\n",
       "      <th>946</th>\n",
       "      <td>https://www.tripadvisor.com/Restaurant_Review-...</td>\n",
       "      <td>NOEL'S PIZZA</td>\n",
       "    </tr>\n",
       "    <tr>\n",
       "      <th>17922</th>\n",
       "      <td>https://www.tripadvisor.com/Restaurant_Review-...</td>\n",
       "      <td>WEST SIDE STEAKHOUSE</td>\n",
       "    </tr>\n",
       "    <tr>\n",
       "      <th>19584</th>\n",
       "      <td>https://www.tripadvisor.com/Restaurant_Review-...</td>\n",
       "      <td>BAKER'S PIZZA</td>\n",
       "    </tr>\n",
       "    <tr>\n",
       "      <th>19791</th>\n",
       "      <td>https://www.tripadvisor.com/Restaurant_Review-...</td>\n",
       "      <td>PEE DEE</td>\n",
       "    </tr>\n",
       "    <tr>\n",
       "      <th>19956</th>\n",
       "      <td>https://www.tripadvisor.com/Restaurant_Review-...</td>\n",
       "      <td>ABITINO'S PIZZA</td>\n",
       "    </tr>\n",
       "    <tr>\n",
       "      <th>...</th>\n",
       "      <td>...</td>\n",
       "      <td>...</td>\n",
       "    </tr>\n",
       "    <tr>\n",
       "      <th>223934</th>\n",
       "      <td>https://www.tripadvisor.com/Restaurant_Review-...</td>\n",
       "      <td>FAMOUS ORIGINAL RAY'S PIZZA</td>\n",
       "    </tr>\n",
       "    <tr>\n",
       "      <th>224460</th>\n",
       "      <td>https://www.tripadvisor.com/Restaurant_Review-...</td>\n",
       "      <td>PRONTO PIZZA</td>\n",
       "    </tr>\n",
       "    <tr>\n",
       "      <th>226121</th>\n",
       "      <td>https://www.tripadvisor.com/Restaurant_Review-...</td>\n",
       "      <td>TWO BOOTS</td>\n",
       "    </tr>\n",
       "    <tr>\n",
       "      <th>227187</th>\n",
       "      <td>https://www.tripadvisor.com/Restaurant_Review-...</td>\n",
       "      <td>NICK &amp; STEF'S STEAKHOUSE</td>\n",
       "    </tr>\n",
       "    <tr>\n",
       "      <th>228132</th>\n",
       "      <td>https://www.tripadvisor.com/Restaurant_Review-...</td>\n",
       "      <td>LA VERA PIZZA</td>\n",
       "    </tr>\n",
       "  </tbody>\n",
       "</table>\n",
       "<p>650 rows × 2 columns</p>\n",
       "</div>"
      ],
      "text/plain": [
       "                              NYC_extract.TripAdvisor.URL  \\\n",
       "946     https://www.tripadvisor.com/Restaurant_Review-...   \n",
       "17922   https://www.tripadvisor.com/Restaurant_Review-...   \n",
       "19584   https://www.tripadvisor.com/Restaurant_Review-...   \n",
       "19791   https://www.tripadvisor.com/Restaurant_Review-...   \n",
       "19956   https://www.tripadvisor.com/Restaurant_Review-...   \n",
       "...                                                   ...   \n",
       "223934  https://www.tripadvisor.com/Restaurant_Review-...   \n",
       "224460  https://www.tripadvisor.com/Restaurant_Review-...   \n",
       "226121  https://www.tripadvisor.com/Restaurant_Review-...   \n",
       "227187  https://www.tripadvisor.com/Restaurant_Review-...   \n",
       "228132  https://www.tripadvisor.com/Restaurant_Review-...   \n",
       "\n",
       "                    NYC_extract.DBA  \n",
       "946                    NOEL'S PIZZA  \n",
       "17922          WEST SIDE STEAKHOUSE  \n",
       "19584                 BAKER'S PIZZA  \n",
       "19791                       PEE DEE  \n",
       "19956               ABITINO'S PIZZA  \n",
       "...                             ...  \n",
       "223934  FAMOUS ORIGINAL RAY'S PIZZA  \n",
       "224460                 PRONTO PIZZA  \n",
       "226121                    TWO BOOTS  \n",
       "227187     NICK & STEF'S STEAKHOUSE  \n",
       "228132                LA VERA PIZZA  \n",
       "\n",
       "[650 rows x 2 columns]"
      ]
     },
     "execution_count": 5,
     "metadata": {},
     "output_type": "execute_result"
    }
   ],
   "source": [
    "idxs = df[['NYC_extract.TripAdvisor.URL']].drop_duplicates().index\n",
    "df = df.loc[idxs, ['NYC_extract.TripAdvisor.URL', \"NYC_extract.DBA\"]]\n",
    "df"
   ]
  },
  {
   "cell_type": "code",
   "execution_count": 48,
   "metadata": {
    "ExecuteTime": {
     "end_time": "2021-03-15T15:46:00.422656Z",
     "start_time": "2021-03-15T15:46:00.403399Z"
    }
   },
   "outputs": [
    {
     "data": {
      "text/html": [
       "<div>\n",
       "<style scoped>\n",
       "    .dataframe tbody tr th:only-of-type {\n",
       "        vertical-align: middle;\n",
       "    }\n",
       "\n",
       "    .dataframe tbody tr th {\n",
       "        vertical-align: top;\n",
       "    }\n",
       "\n",
       "    .dataframe thead th {\n",
       "        text-align: right;\n",
       "    }\n",
       "</style>\n",
       "<table border=\"1\" class=\"dataframe\">\n",
       "  <thead>\n",
       "    <tr style=\"text-align: right;\">\n",
       "      <th></th>\n",
       "      <th>NYC_extract.TripAdvisor.URL</th>\n",
       "      <th>NYC_extract.DBA</th>\n",
       "    </tr>\n",
       "  </thead>\n",
       "  <tbody>\n",
       "    <tr>\n",
       "      <th>77423</th>\n",
       "      <td>https://www.tripadvisor.com/Restaurant_Review-...</td>\n",
       "      <td>FRANK'S TRATTORIA</td>\n",
       "    </tr>\n",
       "    <tr>\n",
       "      <th>77905</th>\n",
       "      <td>https://www.tripadvisor.com/Restaurant_Review-...</td>\n",
       "      <td>CHUCK E. CHEESE'S</td>\n",
       "    </tr>\n",
       "    <tr>\n",
       "      <th>78218</th>\n",
       "      <td>https://www.tripadvisor.com/Restaurant_Review-...</td>\n",
       "      <td>2 BROS PIZZA</td>\n",
       "    </tr>\n",
       "    <tr>\n",
       "      <th>78375</th>\n",
       "      <td>https://www.tripadvisor.com/Restaurant_Review-...</td>\n",
       "      <td>BENVENUTI</td>\n",
       "    </tr>\n",
       "    <tr>\n",
       "      <th>79086</th>\n",
       "      <td>https://www.tripadvisor.com/Restaurant_Review-...</td>\n",
       "      <td>QUICK &amp; PAY PIZZA</td>\n",
       "    </tr>\n",
       "    <tr>\n",
       "      <th>...</th>\n",
       "      <td>...</td>\n",
       "      <td>...</td>\n",
       "    </tr>\n",
       "    <tr>\n",
       "      <th>223934</th>\n",
       "      <td>https://www.tripadvisor.com/Restaurant_Review-...</td>\n",
       "      <td>FAMOUS ORIGINAL RAY'S PIZZA</td>\n",
       "    </tr>\n",
       "    <tr>\n",
       "      <th>224460</th>\n",
       "      <td>https://www.tripadvisor.com/Restaurant_Review-...</td>\n",
       "      <td>PRONTO PIZZA</td>\n",
       "    </tr>\n",
       "    <tr>\n",
       "      <th>226121</th>\n",
       "      <td>https://www.tripadvisor.com/Restaurant_Review-...</td>\n",
       "      <td>TWO BOOTS</td>\n",
       "    </tr>\n",
       "    <tr>\n",
       "      <th>227187</th>\n",
       "      <td>https://www.tripadvisor.com/Restaurant_Review-...</td>\n",
       "      <td>NICK &amp; STEF'S STEAKHOUSE</td>\n",
       "    </tr>\n",
       "    <tr>\n",
       "      <th>228132</th>\n",
       "      <td>https://www.tripadvisor.com/Restaurant_Review-...</td>\n",
       "      <td>LA VERA PIZZA</td>\n",
       "    </tr>\n",
       "  </tbody>\n",
       "</table>\n",
       "<p>442 rows × 2 columns</p>\n",
       "</div>"
      ],
      "text/plain": [
       "                              NYC_extract.TripAdvisor.URL  \\\n",
       "77423   https://www.tripadvisor.com/Restaurant_Review-...   \n",
       "77905   https://www.tripadvisor.com/Restaurant_Review-...   \n",
       "78218   https://www.tripadvisor.com/Restaurant_Review-...   \n",
       "78375   https://www.tripadvisor.com/Restaurant_Review-...   \n",
       "79086   https://www.tripadvisor.com/Restaurant_Review-...   \n",
       "...                                                   ...   \n",
       "223934  https://www.tripadvisor.com/Restaurant_Review-...   \n",
       "224460  https://www.tripadvisor.com/Restaurant_Review-...   \n",
       "226121  https://www.tripadvisor.com/Restaurant_Review-...   \n",
       "227187  https://www.tripadvisor.com/Restaurant_Review-...   \n",
       "228132  https://www.tripadvisor.com/Restaurant_Review-...   \n",
       "\n",
       "                    NYC_extract.DBA  \n",
       "77423             FRANK'S TRATTORIA  \n",
       "77905             CHUCK E. CHEESE'S  \n",
       "78218                  2 BROS PIZZA  \n",
       "78375                     BENVENUTI  \n",
       "79086             QUICK & PAY PIZZA  \n",
       "...                             ...  \n",
       "223934  FAMOUS ORIGINAL RAY'S PIZZA  \n",
       "224460                 PRONTO PIZZA  \n",
       "226121                    TWO BOOTS  \n",
       "227187     NICK & STEF'S STEAKHOUSE  \n",
       "228132                LA VERA PIZZA  \n",
       "\n",
       "[442 rows x 2 columns]"
      ]
     },
     "execution_count": 48,
     "metadata": {},
     "output_type": "execute_result"
    }
   ],
   "source": [
    "logs_lines = []\n",
    "\n",
    "for path in os.listdir(\"./scraping_runs/\"):\n",
    "    logs_lines += open(f\"./scraping_runs/{path}\").readlines()\n",
    "    \n",
    "urls_read = set(l.replace(\"\\n\",\"\") for l in logs_lines if l.startswith(\"http\"))\n",
    "pending_urls = set(df[\"NYC_extract.TripAdvisor.URL\"].values) - urls_read\n",
    "df = df[df[\"NYC_extract.TripAdvisor.URL\"].isin(pending_urls)]\n",
    "df"
   ]
  },
  {
   "cell_type": "code",
   "execution_count": 36,
   "metadata": {
    "ExecuteTime": {
     "end_time": "2021-03-15T10:31:35.080083Z",
     "start_time": "2021-03-15T05:31:00.973510Z"
    }
   },
   "outputs": [
    {
     "name": "stdout",
     "output_type": "stream",
     "text": [
      "https://www.tripadvisor.com/Restaurant_Review-g60763-d12565528-Reviews-Corner_Slice-New_York_City_New_York.html\n"
     ]
    },
    {
     "name": "stderr",
     "output_type": "stream",
     "text": [
      "INFO:__main__:Found a maximum of 3 pages\n",
      "ERROR:__main__:Could not load this page\n",
      "ERROR:__main__:Message: \n",
      "\n"
     ]
    },
    {
     "name": "stdout",
     "output_type": "stream",
     "text": [
      "https://www.tripadvisor.com/Restaurant_Review-g60763-d19114884-Reviews-Marinara_Pizza-New_York_City_New_York.html\n"
     ]
    },
    {
     "name": "stderr",
     "output_type": "stream",
     "text": [
      "ERROR:__main__:Could find maximum page. This page may only have one page of reviews\n",
      "ERROR:__main__:Message: \n",
      "\n",
      "ERROR:__main__:Could not load this page\n",
      "ERROR:__main__:Message: \n",
      "\n"
     ]
    },
    {
     "name": "stdout",
     "output_type": "stream",
     "text": [
      "https://www.tripadvisor.com/Restaurant_Review-g60763-d1018334-Reviews-The_Capital_Grille-New_York_City_New_York.html\n"
     ]
    },
    {
     "name": "stderr",
     "output_type": "stream",
     "text": [
      "INFO:__main__:Found a maximum of 78 pages\n",
      "ERROR:__main__:Could not load this page\n",
      "ERROR:__main__:Message: \n",
      "\n"
     ]
    },
    {
     "name": "stdout",
     "output_type": "stream",
     "text": [
      "https://www.tripadvisor.com/Restaurant_Review-g60763-d12934745-Reviews-Claudio_Pizzeria-New_York_City_New_York.html\n"
     ]
    },
    {
     "name": "stderr",
     "output_type": "stream",
     "text": [
      "INFO:__main__:Found a maximum of 2 pages\n",
      "ERROR:__main__:Could not load this page\n",
      "ERROR:__main__:Message: \n",
      "\n"
     ]
    },
    {
     "name": "stdout",
     "output_type": "stream",
     "text": [
      "https://www.tripadvisor.com/Restaurant_Review-g60763-d459077-Reviews-Pomodoro-New_York_City_New_York.html\n"
     ]
    },
    {
     "name": "stderr",
     "output_type": "stream",
     "text": [
      "INFO:__main__:Found a maximum of 16 pages\n",
      "ERROR:__main__:Could not load this page\n",
      "ERROR:__main__:Message: no such element: Unable to locate element: {\"method\":\"xpath\",\"selector\":\".//a[@class=\"nav next ui_button primary\"]\"}\n",
      "  (Session info: chrome=89.0.4389.82)\n",
      "\n"
     ]
    },
    {
     "name": "stdout",
     "output_type": "stream",
     "text": [
      "https://www.tripadvisor.com/Restaurant_Review-g60763-d3569505-Reviews-Eleven_B-New_York_City_New_York.html\n"
     ]
    },
    {
     "name": "stderr",
     "output_type": "stream",
     "text": [
      "INFO:__main__:Found a maximum of 2 pages\n",
      "ERROR:__main__:Could not load this page\n",
      "ERROR:__main__:Message: no such element: Unable to locate element: {\"method\":\"xpath\",\"selector\":\".//a[@class=\"nav next ui_button primary\"]\"}\n",
      "  (Session info: chrome=89.0.4389.82)\n",
      "\n"
     ]
    },
    {
     "name": "stdout",
     "output_type": "stream",
     "text": [
      "https://www.tripadvisor.com/Restaurant_Review-g60763-d477607-Reviews-Pizza_33-New_York_City_New_York.html\n"
     ]
    },
    {
     "name": "stderr",
     "output_type": "stream",
     "text": [
      "INFO:__main__:Found a maximum of 4 pages\n",
      "ERROR:__main__:Could not load this page\n",
      "ERROR:__main__:Message: no such element: Unable to locate element: {\"method\":\"xpath\",\"selector\":\".//a[@class=\"nav next ui_button primary\"]\"}\n",
      "  (Session info: chrome=89.0.4389.82)\n",
      "\n"
     ]
    },
    {
     "name": "stdout",
     "output_type": "stream",
     "text": [
      "https://www.tripadvisor.com/Restaurant_Review-g60763-d10694759-Reviews-4_Charles_Prime_Rib-New_York_City_New_York.html\n"
     ]
    },
    {
     "name": "stderr",
     "output_type": "stream",
     "text": [
      "INFO:__main__:Found a maximum of 4 pages\n",
      "ERROR:__main__:Could not load this page\n",
      "ERROR:__main__:Message: no such element: Unable to locate element: {\"method\":\"xpath\",\"selector\":\".//a[@class=\"nav next ui_button primary\"]\"}\n",
      "  (Session info: chrome=89.0.4389.82)\n",
      "\n"
     ]
    },
    {
     "name": "stdout",
     "output_type": "stream",
     "text": [
      "https://www.tripadvisor.com/Restaurant_Review-g60763-d19272993-Reviews-Sauce_Pizzeria-New_York_City_New_York.html\n"
     ]
    },
    {
     "name": "stderr",
     "output_type": "stream",
     "text": [
      "ERROR:__main__:Could find maximum page. This page may only have one page of reviews\n",
      "ERROR:__main__:Message: \n",
      "\n",
      "ERROR:__main__:Could not load this page\n",
      "ERROR:__main__:Message: \n",
      "\n"
     ]
    },
    {
     "name": "stdout",
     "output_type": "stream",
     "text": [
      "https://www.tripadvisor.com/Restaurant_Review-g60763-d1902953-Reviews-Capizzi-New_York_City_New_York.html\n"
     ]
    },
    {
     "name": "stderr",
     "output_type": "stream",
     "text": [
      "INFO:__main__:Found a maximum of 127 pages\n",
      "ERROR:__main__:Could not load this page\n",
      "ERROR:__main__:Message: element click intercepted: Element <span class=\"taLnk ulBlueLinks\" onclick=\"widgetEvCall('handlers.clickExpand',event,this);\">...</span> is not clickable at point (479, 900). Other element would receive the click: <p class=\"partial_entry\">...</p>\n",
      "  (Session info: chrome=89.0.4389.82)\n",
      "\n"
     ]
    },
    {
     "name": "stdout",
     "output_type": "stream",
     "text": [
      "https://www.tripadvisor.com/Restaurant_Review-g60763-d12849399-Reviews-Champion_Pizza-New_York_City_New_York.html\n"
     ]
    },
    {
     "name": "stderr",
     "output_type": "stream",
     "text": [
      "ERROR:__main__:Could find maximum page. This page may only have one page of reviews\n",
      "ERROR:__main__:Message: \n",
      "\n",
      "ERROR:__main__:Could not load this page\n",
      "ERROR:__main__:Message: no such element: Unable to locate element: {\"method\":\"xpath\",\"selector\":\".//a[@class=\"nav next ui_button primary\"]\"}\n",
      "  (Session info: chrome=89.0.4389.82)\n",
      "\n"
     ]
    },
    {
     "name": "stdout",
     "output_type": "stream",
     "text": [
      "https://www.tripadvisor.com/Restaurant_Review-g60763-d15756923-Reviews-Lombardi_s_Chelsea-New_York_City_New_York.html\n"
     ]
    },
    {
     "name": "stderr",
     "output_type": "stream",
     "text": [
      "INFO:__main__:Found a maximum of 2 pages\n",
      "ERROR:__main__:Could not load this page\n",
      "ERROR:__main__:Message: no such element: Unable to locate element: {\"method\":\"xpath\",\"selector\":\".//a[@class=\"nav next ui_button primary\"]\"}\n",
      "  (Session info: chrome=89.0.4389.82)\n",
      "\n"
     ]
    },
    {
     "name": "stdout",
     "output_type": "stream",
     "text": [
      "https://www.tripadvisor.com/Restaurant_Review-g60763-d4254536-Reviews-Little_Caesars-New_York_City_New_York.html\n"
     ]
    },
    {
     "name": "stderr",
     "output_type": "stream",
     "text": [
      "ERROR:__main__:Could find maximum page. This page may only have one page of reviews\n",
      "ERROR:__main__:Message: \n",
      "\n",
      "ERROR:__main__:Could not load this page\n",
      "ERROR:__main__:Message: \n",
      "\n"
     ]
    },
    {
     "name": "stdout",
     "output_type": "stream",
     "text": [
      "https://www.tripadvisor.com/Restaurant_Review-g60763-d19274140-Reviews-LaRustica_Pizza_Pasta-New_York_City_New_York.html\n"
     ]
    },
    {
     "name": "stderr",
     "output_type": "stream",
     "text": [
      "ERROR:__main__:Could find maximum page. This page may only have one page of reviews\n",
      "ERROR:__main__:Message: \n",
      "\n",
      "ERROR:__main__:Could not load this page\n",
      "ERROR:__main__:Message: \n",
      "\n"
     ]
    },
    {
     "name": "stdout",
     "output_type": "stream",
     "text": [
      "https://www.tripadvisor.com/Restaurant_Review-g60763-d459283-Reviews-Pizza_Mercato-New_York_City_New_York.html\n"
     ]
    },
    {
     "name": "stderr",
     "output_type": "stream",
     "text": [
      "INFO:__main__:Found a maximum of 2 pages\n",
      "ERROR:__main__:Could not load this page\n",
      "ERROR:__main__:Message: no such element: Unable to locate element: {\"method\":\"xpath\",\"selector\":\".//a[@class=\"nav next ui_button primary\"]\"}\n",
      "  (Session info: chrome=89.0.4389.82)\n",
      "\n"
     ]
    },
    {
     "name": "stdout",
     "output_type": "stream",
     "text": [
      "https://www.tripadvisor.com/Restaurant_Review-g60763-d15162035-Reviews-Artichoke_Basille_s_Pizza-New_York_City_New_York.html\n"
     ]
    },
    {
     "name": "stderr",
     "output_type": "stream",
     "text": [
      "INFO:__main__:Found a maximum of 49 pages\n",
      "ERROR:__main__:Could not load this page\n",
      "ERROR:__main__:Message: \n",
      "\n"
     ]
    },
    {
     "name": "stdout",
     "output_type": "stream",
     "text": [
      "https://www.tripadvisor.com/Restaurant_Review-g60763-d15175288-Reviews-Vinnie_s_Pizzeria-New_York_City_New_York.html\n"
     ]
    },
    {
     "name": "stderr",
     "output_type": "stream",
     "text": [
      "ERROR:__main__:Could find maximum page. This page may only have one page of reviews\n",
      "ERROR:__main__:Message: \n",
      "\n",
      "ERROR:__main__:Could not load this page\n",
      "ERROR:__main__:Message: \n",
      "\n"
     ]
    },
    {
     "name": "stdout",
     "output_type": "stream",
     "text": [
      "https://www.tripadvisor.com/Restaurant_Review-g60763-d5889936-Reviews-Domino_s_Pizza-New_York_City_New_York.html\n"
     ]
    },
    {
     "name": "stderr",
     "output_type": "stream",
     "text": [
      "ERROR:__main__:Could find maximum page. This page may only have one page of reviews\n",
      "ERROR:__main__:Message: \n",
      "\n",
      "ERROR:__main__:Could not load this page\n",
      "ERROR:__main__:Message: no such element: Unable to locate element: {\"method\":\"xpath\",\"selector\":\".//a[@class=\"nav next ui_button primary\"]\"}\n",
      "  (Session info: chrome=89.0.4389.82)\n",
      "\n"
     ]
    },
    {
     "name": "stdout",
     "output_type": "stream",
     "text": [
      "https://www.tripadvisor.com/Restaurant_Review-g60763-d424527-Reviews-Lazzara_s_Pizza_Cafe-New_York_City_New_York.html\n"
     ]
    },
    {
     "name": "stderr",
     "output_type": "stream",
     "text": [
      "INFO:__main__:Found a maximum of 19 pages\n",
      "ERROR:__main__:Could not load this page\n",
      "ERROR:__main__:Message: no such element: Unable to locate element: {\"method\":\"xpath\",\"selector\":\".//a[@class=\"nav next ui_button primary\"]\"}\n",
      "  (Session info: chrome=89.0.4389.82)\n",
      "\n"
     ]
    },
    {
     "name": "stdout",
     "output_type": "stream",
     "text": [
      "https://www.tripadvisor.com/Restaurant_Review-g60763-d19298179-Reviews-Lower_East_Side_Pizza-New_York_City_New_York.html\n"
     ]
    },
    {
     "name": "stderr",
     "output_type": "stream",
     "text": [
      "ERROR:__main__:Could find maximum page. This page may only have one page of reviews\n",
      "ERROR:__main__:Message: \n",
      "\n",
      "ERROR:__main__:Could not load this page\n",
      "ERROR:__main__:Message: no such element: Unable to locate element: {\"method\":\"xpath\",\"selector\":\".//a[@class=\"nav next ui_button primary\"]\"}\n",
      "  (Session info: chrome=89.0.4389.82)\n",
      "\n"
     ]
    },
    {
     "name": "stdout",
     "output_type": "stream",
     "text": [
      "https://www.tripadvisor.com/Restaurant_Review-g60763-d7078660-Reviews-B_Side_Pizzeria-New_York_City_New_York.html\n"
     ]
    },
    {
     "name": "stderr",
     "output_type": "stream",
     "text": [
      "INFO:__main__:Found a maximum of 37 pages\n",
      "ERROR:__main__:Could not load this page\n",
      "ERROR:__main__:Message: no such element: Unable to locate element: {\"method\":\"xpath\",\"selector\":\".//a[@class=\"nav next ui_button primary\"]\"}\n",
      "  (Session info: chrome=89.0.4389.82)\n",
      "\n"
     ]
    },
    {
     "name": "stdout",
     "output_type": "stream",
     "text": [
      "https://www.tripadvisor.com/Restaurant_Review-g60763-d15169318-Reviews-Little_Gio_s_Pizza-New_York_City_New_York.html\n"
     ]
    },
    {
     "name": "stderr",
     "output_type": "stream",
     "text": [
      "ERROR:__main__:Could find maximum page. This page may only have one page of reviews\n",
      "ERROR:__main__:Message: \n",
      "\n",
      "ERROR:__main__:Could not load this page\n",
      "ERROR:__main__:Message: \n",
      "\n"
     ]
    },
    {
     "name": "stdout",
     "output_type": "stream",
     "text": [
      "https://www.tripadvisor.com/Restaurant_Review-g60763-d4764729-Reviews-New_York_Sal_s_Pizza-New_York_City_New_York.html\n"
     ]
    },
    {
     "name": "stderr",
     "output_type": "stream",
     "text": [
      "INFO:__main__:Found a maximum of 3 pages\n",
      "ERROR:__main__:Could not load this page\n",
      "ERROR:__main__:Message: no such element: Unable to locate element: {\"method\":\"xpath\",\"selector\":\".//a[@class=\"nav next ui_button primary\"]\"}\n",
      "  (Session info: chrome=89.0.4389.82)\n",
      "\n"
     ]
    },
    {
     "name": "stdout",
     "output_type": "stream",
     "text": [
      "https://www.tripadvisor.com/Restaurant_Review-g60763-d4941278-Reviews-Pizza_Pete_s-New_York_City_New_York.html\n"
     ]
    },
    {
     "name": "stderr",
     "output_type": "stream",
     "text": [
      "INFO:__main__:Found a maximum of 2 pages\n",
      "ERROR:__main__:Could not load this page\n",
      "ERROR:__main__:Message: no such element: Unable to locate element: {\"method\":\"xpath\",\"selector\":\".//a[@class=\"nav next ui_button primary\"]\"}\n",
      "  (Session info: chrome=89.0.4389.82)\n",
      "\n"
     ]
    },
    {
     "name": "stdout",
     "output_type": "stream",
     "text": [
      "https://www.tripadvisor.com/Restaurant_Review-g60763-d426052-Reviews-Muzzarella_Pizza-New_York_City_New_York.html\n"
     ]
    },
    {
     "name": "stderr",
     "output_type": "stream",
     "text": [
      "ERROR:__main__:Could find maximum page. This page may only have one page of reviews\n",
      "ERROR:__main__:Message: \n",
      "\n",
      "ERROR:__main__:Could not load this page\n",
      "ERROR:__main__:Message: no such element: Unable to locate element: {\"method\":\"xpath\",\"selector\":\".//a[@class=\"nav next ui_button primary\"]\"}\n",
      "  (Session info: chrome=89.0.4389.82)\n",
      "\n"
     ]
    },
    {
     "name": "stdout",
     "output_type": "stream",
     "text": [
      "https://www.tripadvisor.com/Restaurant_Review-g60763-d10090967-Reviews-Harlem_Pizza_Co-New_York_City_New_York.html\n"
     ]
    },
    {
     "name": "stderr",
     "output_type": "stream",
     "text": [
      "ERROR:__main__:Could find maximum page. This page may only have one page of reviews\n",
      "ERROR:__main__:Message: \n",
      "\n",
      "ERROR:__main__:Could not load this page\n",
      "ERROR:__main__:Message: no such element: Unable to locate element: {\"method\":\"xpath\",\"selector\":\".//a[@class=\"nav next ui_button primary\"]\"}\n",
      "  (Session info: chrome=89.0.4389.82)\n",
      "\n"
     ]
    },
    {
     "name": "stdout",
     "output_type": "stream",
     "text": [
      "https://www.tripadvisor.com/Restaurant_Review-g60763-d1022525-Reviews-Two_Boots_WV-New_York_City_New_York.html\n"
     ]
    },
    {
     "name": "stderr",
     "output_type": "stream",
     "text": [
      "INFO:__main__:Found a maximum of 7 pages\n",
      "ERROR:__main__:Could not load this page\n",
      "ERROR:__main__:Message: no such element: Unable to locate element: {\"method\":\"xpath\",\"selector\":\".//a[@class=\"nav next ui_button primary\"]\"}\n",
      "  (Session info: chrome=89.0.4389.82)\n",
      "\n"
     ]
    },
    {
     "name": "stdout",
     "output_type": "stream",
     "text": [
      "https://www.tripadvisor.com/Restaurant_Review-g60763-d10403240-Reviews-Papi_s_Pizza-New_York_City_New_York.html#REVIEWS\n"
     ]
    },
    {
     "name": "stderr",
     "output_type": "stream",
     "text": [
      "ERROR:__main__:Could find maximum page. This page may only have one page of reviews\n",
      "ERROR:__main__:Message: \n",
      "\n",
      "ERROR:__main__:Could not load this page\n",
      "ERROR:__main__:Message: no such element: Unable to locate element: {\"method\":\"xpath\",\"selector\":\".//a[@class=\"nav next ui_button primary\"]\"}\n",
      "  (Session info: chrome=89.0.4389.82)\n",
      "\n"
     ]
    },
    {
     "name": "stdout",
     "output_type": "stream",
     "text": [
      "https://www.tripadvisor.com/Restaurant_Review-g60763-d458338-Reviews-Perfecto_Ristorante-New_York_City_New_York.html\n"
     ]
    },
    {
     "name": "stderr",
     "output_type": "stream",
     "text": [
      "ERROR:__main__:Could find maximum page. This page may only have one page of reviews\n",
      "ERROR:__main__:Message: \n",
      "\n",
      "ERROR:__main__:Could not load this page\n",
      "ERROR:__main__:Message: no such element: Unable to locate element: {\"method\":\"xpath\",\"selector\":\".//a[@class=\"nav next ui_button primary\"]\"}\n",
      "  (Session info: chrome=89.0.4389.82)\n",
      "\n"
     ]
    },
    {
     "name": "stdout",
     "output_type": "stream",
     "text": [
      "https://www.tripadvisor.com/Restaurant_Review-g60763-d4718796-Reviews-Pizza_Nova-New_York_City_New_York.html\n"
     ]
    },
    {
     "name": "stderr",
     "output_type": "stream",
     "text": [
      "ERROR:__main__:Could find maximum page. This page may only have one page of reviews\n",
      "ERROR:__main__:Message: \n",
      "\n",
      "ERROR:__main__:Could not load this page\n",
      "ERROR:__main__:Message: no such element: Unable to locate element: {\"method\":\"xpath\",\"selector\":\".//a[@class=\"nav next ui_button primary\"]\"}\n",
      "  (Session info: chrome=89.0.4389.82)\n",
      "\n"
     ]
    },
    {
     "name": "stdout",
     "output_type": "stream",
     "text": [
      "https://www.tripadvisor.com/Search?q=SHESHE%20PIZZERIA&searchSessionId=392D57127DD5A3842DC9B99C6AD6AF3B1614565831049ssid&searchNearby=false&geo=60763&sid=53BC2B5D109F420EADD7BFB76507E6711614565853856&blockRedirect=true\n"
     ]
    },
    {
     "name": "stderr",
     "output_type": "stream",
     "text": [
      "ERROR:__main__:Could not load this page\n",
      "ERROR:__main__:Message: \n",
      "\n"
     ]
    },
    {
     "name": "stdout",
     "output_type": "stream",
     "text": [
      "https://www.tripadvisor.com/Restaurant_Review-g60763-d3786278-Reviews-99_Cent_Express_Pizza-New_York_City_New_York.html\n"
     ]
    },
    {
     "name": "stderr",
     "output_type": "stream",
     "text": [
      "INFO:__main__:Found a maximum of 6 pages\n",
      "ERROR:__main__:Could not load this page\n",
      "ERROR:__main__:Message: no such element: Unable to locate element: {\"method\":\"xpath\",\"selector\":\".//a[@class=\"nav next ui_button primary\"]\"}\n",
      "  (Session info: chrome=89.0.4389.82)\n",
      "\n"
     ]
    },
    {
     "name": "stdout",
     "output_type": "stream",
     "text": [
      "https://www.tripadvisor.com/Restaurant_Review-g60763-d3609300-Reviews-Little_Italy_Pizza-New_York_City_New_York.html\n"
     ]
    },
    {
     "name": "stderr",
     "output_type": "stream",
     "text": [
      "INFO:__main__:Found a maximum of 5 pages\n",
      "ERROR:__main__:Could not load this page\n",
      "ERROR:__main__:Message: no such element: Unable to locate element: {\"method\":\"xpath\",\"selector\":\".//a[@class=\"nav next ui_button primary\"]\"}\n",
      "  (Session info: chrome=89.0.4389.82)\n",
      "\n"
     ]
    },
    {
     "name": "stdout",
     "output_type": "stream",
     "text": [
      "https://www.tripadvisor.com/Restaurant_Review-g60763-d425818-Reviews-Gruppo-New_York_City_New_York.html\n"
     ]
    },
    {
     "name": "stderr",
     "output_type": "stream",
     "text": [
      "INFO:__main__:Found a maximum of 7 pages\n",
      "ERROR:__main__:Could not load this page\n",
      "ERROR:__main__:Message: no such element: Unable to locate element: {\"method\":\"xpath\",\"selector\":\".//a[@class=\"nav next ui_button primary\"]\"}\n",
      "  (Session info: chrome=89.0.4389.82)\n",
      "\n"
     ]
    },
    {
     "name": "stdout",
     "output_type": "stream",
     "text": [
      "https://www.tripadvisor.com/Restaurant_Review-g60763-d6720955-Reviews-Mike_s_Pizza-New_York_City_New_York.html\n"
     ]
    },
    {
     "name": "stderr",
     "output_type": "stream",
     "text": [
      "ERROR:__main__:Could find maximum page. This page may only have one page of reviews\n",
      "ERROR:__main__:Message: \n",
      "\n",
      "ERROR:__main__:Could not load this page\n",
      "ERROR:__main__:Message: no such element: Unable to locate element: {\"method\":\"xpath\",\"selector\":\".//a[@class=\"nav next ui_button primary\"]\"}\n",
      "  (Session info: chrome=89.0.4389.82)\n",
      "\n"
     ]
    },
    {
     "name": "stdout",
     "output_type": "stream",
     "text": [
      "https://www.tripadvisor.com/Restaurant_Review-g60763-d19079215-Reviews-Catch_Steak-New_York_City_New_York.html\n"
     ]
    },
    {
     "name": "stderr",
     "output_type": "stream",
     "text": [
      "INFO:__main__:Found a maximum of 3 pages\n",
      "ERROR:__main__:Could not load this page\n",
      "ERROR:__main__:Message: \n",
      "\n"
     ]
    },
    {
     "name": "stdout",
     "output_type": "stream",
     "text": [
      "https://www.tripadvisor.com/Restaurant_Review-g60763-d18955386-Reviews-NY_99_Cents_Pizza-New_York_City_New_York.html\n"
     ]
    },
    {
     "name": "stderr",
     "output_type": "stream",
     "text": [
      "ERROR:__main__:Could find maximum page. This page may only have one page of reviews\n",
      "ERROR:__main__:Message: \n",
      "\n",
      "ERROR:__main__:Could not load this page\n",
      "ERROR:__main__:Message: no such element: Unable to locate element: {\"method\":\"xpath\",\"selector\":\".//a[@class=\"nav next ui_button primary\"]\"}\n",
      "  (Session info: chrome=89.0.4389.82)\n",
      "\n"
     ]
    },
    {
     "name": "stdout",
     "output_type": "stream",
     "text": [
      "https://www.tripadvisor.com/Restaurant_Review-g60763-d4966743-Reviews-Pizza_Haven-New_York_City_New_York.html\n"
     ]
    },
    {
     "name": "stderr",
     "output_type": "stream",
     "text": [
      "ERROR:__main__:Could find maximum page. This page may only have one page of reviews\n",
      "ERROR:__main__:Message: \n",
      "\n",
      "ERROR:__main__:Could not load this page\n",
      "ERROR:__main__:Message: no such element: Unable to locate element: {\"method\":\"xpath\",\"selector\":\".//a[@class=\"nav next ui_button primary\"]\"}\n",
      "  (Session info: chrome=89.0.4389.82)\n",
      "\n"
     ]
    },
    {
     "name": "stdout",
     "output_type": "stream",
     "text": [
      "https://www.tripadvisor.com/Restaurant_Review-g60763-d4248827-Reviews-Sbarro-New_York_City_New_York.html\n"
     ]
    },
    {
     "name": "stderr",
     "output_type": "stream",
     "text": [
      "INFO:__main__:Found a maximum of 7 pages\n",
      "ERROR:__main__:Could not load this page\n",
      "ERROR:__main__:Message: no such element: Unable to locate element: {\"method\":\"xpath\",\"selector\":\".//a[@class=\"nav next ui_button primary\"]\"}\n",
      "  (Session info: chrome=89.0.4389.82)\n",
      "\n"
     ]
    },
    {
     "name": "stdout",
     "output_type": "stream",
     "text": [
      "https://www.tripadvisor.com/Restaurant_Review-g60763-d14995627-Reviews-Mama_s_Too-New_York_City_New_York.html\n"
     ]
    },
    {
     "name": "stderr",
     "output_type": "stream",
     "text": [
      "INFO:__main__:Found a maximum of 3 pages\n",
      "ERROR:__main__:Could not load this page\n",
      "ERROR:__main__:Message: no such element: Unable to locate element: {\"method\":\"xpath\",\"selector\":\".//a[@class=\"nav next ui_button primary\"]\"}\n",
      "  (Session info: chrome=89.0.4389.82)\n",
      "\n"
     ]
    },
    {
     "name": "stdout",
     "output_type": "stream",
     "text": [
      "https://www.tripadvisor.com/Restaurant_Review-g60763-d1239725-Reviews-TBar-New_York_City_New_York.html\n"
     ]
    },
    {
     "name": "stderr",
     "output_type": "stream",
     "text": [
      "INFO:__main__:Found a maximum of 13 pages\n",
      "ERROR:__main__:Could not load this page\n",
      "ERROR:__main__:Message: no such element: Unable to locate element: {\"method\":\"xpath\",\"selector\":\".//a[@class=\"nav next ui_button primary\"]\"}\n",
      "  (Session info: chrome=89.0.4389.82)\n",
      "\n"
     ]
    },
    {
     "name": "stdout",
     "output_type": "stream",
     "text": [
      "https://www.tripadvisor.com/Restaurant_Review-g60763-d2693035-Reviews-Previti_Pizza-New_York_City_New_York.html\n"
     ]
    },
    {
     "name": "stderr",
     "output_type": "stream",
     "text": [
      "INFO:__main__:Found a maximum of 8 pages\n",
      "ERROR:__main__:Could not load this page\n",
      "ERROR:__main__:Message: no such element: Unable to locate element: {\"method\":\"xpath\",\"selector\":\".//a[@class=\"nav next ui_button primary\"]\"}\n",
      "  (Session info: chrome=89.0.4389.82)\n",
      "\n"
     ]
    },
    {
     "name": "stdout",
     "output_type": "stream",
     "text": [
      "https://www.tripadvisor.com/Restaurant_Review-g60763-d1236281-Reviews-Club_A_Steakhouse-New_York_City_New_York.html\n"
     ]
    },
    {
     "name": "stderr",
     "output_type": "stream",
     "text": [
      "INFO:__main__:Found a maximum of 300 pages\n"
     ]
    },
    {
     "name": "stdout",
     "output_type": "stream",
     "text": [
      "https://www.tripadvisor.com/Restaurant_Review-g60763-d15168191-Reviews-Joe_s_Pizza-New_York_City_New_York.html\n"
     ]
    },
    {
     "name": "stderr",
     "output_type": "stream",
     "text": [
      "ERROR:__main__:Could find maximum page. This page may only have one page of reviews\n",
      "ERROR:__main__:Message: \n",
      "\n",
      "ERROR:__main__:Could not load this page\n",
      "ERROR:__main__:Message: no such element: Unable to locate element: {\"method\":\"xpath\",\"selector\":\".//a[@class=\"nav next ui_button primary\"]\"}\n",
      "  (Session info: chrome=89.0.4389.82)\n",
      "\n"
     ]
    },
    {
     "name": "stdout",
     "output_type": "stream",
     "text": [
      "https://www.tripadvisor.com/Restaurant_Review-g60763-d7231880-Reviews-Mastro_s_Steakhouse-New_York_City_New_York.html\n"
     ]
    },
    {
     "name": "stderr",
     "output_type": "stream",
     "text": [
      "INFO:__main__:Found a maximum of 55 pages\n"
     ]
    },
    {
     "name": "stdout",
     "output_type": "stream",
     "text": [
      "https://www.tripadvisor.com/Restaurant_Review-g60763-d4247992-Reviews-Vinny_Vincenz_Pizza-New_York_City_New_York.html\n"
     ]
    },
    {
     "name": "stderr",
     "output_type": "stream",
     "text": [
      "ERROR:__main__:Could find maximum page. This page may only have one page of reviews\n",
      "ERROR:__main__:Message: \n",
      "\n",
      "ERROR:__main__:Could not load this page\n",
      "ERROR:__main__:Message: no such element: Unable to locate element: {\"method\":\"xpath\",\"selector\":\".//a[@class=\"nav next ui_button primary\"]\"}\n",
      "  (Session info: chrome=89.0.4389.82)\n",
      "\n"
     ]
    },
    {
     "name": "stdout",
     "output_type": "stream",
     "text": [
      "https://www.tripadvisor.com/Restaurant_Review-g60763-d4231514-Reviews-Domino_s_Pizza-New_York_City_New_York.html\n"
     ]
    },
    {
     "name": "stderr",
     "output_type": "stream",
     "text": [
      "ERROR:__main__:Could find maximum page. This page may only have one page of reviews\n",
      "ERROR:__main__:Message: \n",
      "\n",
      "ERROR:__main__:Could not load this page\n",
      "ERROR:__main__:Message: no such element: Unable to locate element: {\"method\":\"xpath\",\"selector\":\".//a[@class=\"nav next ui_button primary\"]\"}\n",
      "  (Session info: chrome=89.0.4389.82)\n",
      "\n"
     ]
    },
    {
     "name": "stdout",
     "output_type": "stream",
     "text": [
      "https://www.tripadvisor.com/Restaurant_Review-g60763-d15167761-Reviews-Il_Mattone_West_Village-New_York_City_New_York.html\n"
     ]
    },
    {
     "name": "stderr",
     "output_type": "stream",
     "text": [
      "ERROR:__main__:Could find maximum page. This page may only have one page of reviews\n",
      "ERROR:__main__:Message: \n",
      "\n",
      "ERROR:__main__:Could not load this page\n",
      "ERROR:__main__:Message: no such element: Unable to locate element: {\"method\":\"xpath\",\"selector\":\".//a[@class=\"nav next ui_button primary\"]\"}\n",
      "  (Session info: chrome=89.0.4389.82)\n",
      "\n"
     ]
    },
    {
     "name": "stdout",
     "output_type": "stream",
     "text": [
      "https://www.tripadvisor.com/Search?q=ELEVEN%20B&searchSessionId=795F7E16143F00B7A82B08CA05E9515C1614611710716ssid&searchNearby=false&geo=60763&sid=4E283C5622584644802EA231D184C1B41614611805632&blockRedirect=true\n"
     ]
    },
    {
     "name": "stderr",
     "output_type": "stream",
     "text": [
      "ERROR:__main__:Could not load this page\n",
      "ERROR:__main__:Message: \n",
      "\n"
     ]
    },
    {
     "name": "stdout",
     "output_type": "stream",
     "text": [
      "https://www.tripadvisor.com/Restaurant_Review-g60763-d865182-Reviews-Vezzo-New_York_City_New_York.html\n"
     ]
    },
    {
     "name": "stderr",
     "output_type": "stream",
     "text": [
      "INFO:__main__:Found a maximum of 80 pages\n",
      "ERROR:__main__:Could not load this page\n",
      "ERROR:__main__:Message: no such element: Unable to locate element: {\"method\":\"xpath\",\"selector\":\".//a[@class=\"nav next ui_button primary\"]\"}\n",
      "  (Session info: chrome=89.0.4389.82)\n",
      "\n"
     ]
    },
    {
     "name": "stdout",
     "output_type": "stream",
     "text": [
      "https://www.tripadvisor.com/Restaurant_Review-g60763-d953192-Reviews-Angelo_s_Pizza-New_York_City_New_York.html\n"
     ]
    },
    {
     "name": "stderr",
     "output_type": "stream",
     "text": [
      "INFO:__main__:Found a maximum of 49 pages\n",
      "ERROR:__main__:Could not load this page\n",
      "ERROR:__main__:Message: no such element: Unable to locate element: {\"method\":\"xpath\",\"selector\":\".//a[@class=\"nav next ui_button primary\"]\"}\n",
      "  (Session info: chrome=89.0.4389.82)\n",
      "\n"
     ]
    },
    {
     "name": "stdout",
     "output_type": "stream",
     "text": [
      "https://www.tripadvisor.com/Restaurant_Review-g60763-d12437174-Reviews-Bardolino_Pizza-New_York_City_New_York.html\n"
     ]
    },
    {
     "name": "stderr",
     "output_type": "stream",
     "text": [
      "ERROR:__main__:Could find maximum page. This page may only have one page of reviews\n",
      "ERROR:__main__:Message: \n",
      "\n",
      "ERROR:__main__:Could not load this page\n",
      "ERROR:__main__:Message: no such element: Unable to locate element: {\"method\":\"xpath\",\"selector\":\".//a[@class=\"nav next ui_button primary\"]\"}\n",
      "  (Session info: chrome=89.0.4389.82)\n",
      "\n"
     ]
    },
    {
     "name": "stdout",
     "output_type": "stream",
     "text": [
      "https://www.tripadvisor.com/Search?q=TAPPO&searchSessionId=3913D39E7A4AF7ED52228543BF3DAACB1614610631029ssid&geo=60763&sid=4E283C5622584644802EA231D184C1B41614611156528&blockRedirect=true&ssrc=a\n"
     ]
    },
    {
     "name": "stderr",
     "output_type": "stream",
     "text": [
      "ERROR:__main__:Could not load this page\n",
      "ERROR:__main__:Message: \n",
      "\n"
     ]
    },
    {
     "name": "stdout",
     "output_type": "stream",
     "text": [
      "https://www.tripadvisor.com/Restaurant_Review-g60763-d13796659-Reviews-Sauce_Pizzeria-New_York_City_New_York.html\n"
     ]
    },
    {
     "name": "stderr",
     "output_type": "stream",
     "text": [
      "INFO:__main__:Found a maximum of 2 pages\n",
      "ERROR:__main__:Could not load this page\n",
      "ERROR:__main__:Message: no such element: Unable to locate element: {\"method\":\"xpath\",\"selector\":\".//a[@class=\"nav next ui_button primary\"]\"}\n",
      "  (Session info: chrome=89.0.4389.82)\n",
      "\n"
     ]
    },
    {
     "name": "stdout",
     "output_type": "stream",
     "text": [
      "https://www.tripadvisor.com/Restaurant_Review-g60763-d778986-Reviews-Patzeria_Perfect_Pizza-New_York_City_New_York.html\n"
     ]
    },
    {
     "name": "stderr",
     "output_type": "stream",
     "text": [
      "INFO:__main__:Found a maximum of 103 pages\n"
     ]
    },
    {
     "name": "stdout",
     "output_type": "stream",
     "text": [
      "https://www.tripadvisor.com/Restaurant_Review-g60763-d457151-Reviews-Del_Frisco_s_Double_Eagle_Steakhouse-New_York_City_New_York.html\n"
     ]
    },
    {
     "name": "stderr",
     "output_type": "stream",
     "text": [
      "INFO:__main__:Found a maximum of 267 pages\n"
     ]
    },
    {
     "name": "stdout",
     "output_type": "stream",
     "text": [
      "https://www.tripadvisor.com/Restaurant_Review-g60763-d4478420-Reviews-Cafe_Daniello_s_Pizzeria_Restaurant-New_York_City_New_York.html\n"
     ]
    },
    {
     "name": "stderr",
     "output_type": "stream",
     "text": [
      "INFO:__main__:Found a maximum of 3 pages\n",
      "ERROR:__main__:Could not load this page\n",
      "ERROR:__main__:Message: no such element: Unable to locate element: {\"method\":\"xpath\",\"selector\":\".//a[@class=\"nav next ui_button primary\"]\"}\n",
      "  (Session info: chrome=89.0.4389.82)\n",
      "\n"
     ]
    },
    {
     "name": "stdout",
     "output_type": "stream",
     "text": [
      "https://www.tripadvisor.com/Search?q=FREDDIE%20%26%20PEPPER%27S%20PIZZA&searchSessionId=028B5140A331F22EB1A85F36F933E1861614358917737ssid&searchNearby=false&geo=60763&sid=1C0BE104BD7D4591915E19A69B51F9591614358996402&blockRedirect=true\n"
     ]
    },
    {
     "name": "stderr",
     "output_type": "stream",
     "text": [
      "ERROR:__main__:Could not load this page\n",
      "ERROR:__main__:Message: \n",
      "\n"
     ]
    },
    {
     "name": "stdout",
     "output_type": "stream",
     "text": [
      "https://www.tripadvisor.com/Restaurant_Review-g60763-d7992789-Reviews-Little_Italy_Pizza-New_York_City_New_York.html\n"
     ]
    },
    {
     "name": "stderr",
     "output_type": "stream",
     "text": [
      "ERROR:__main__:Could find maximum page. This page may only have one page of reviews\n",
      "ERROR:__main__:Message: \n",
      "\n",
      "ERROR:__main__:Could not load this page\n",
      "ERROR:__main__:Message: no such element: Unable to locate element: {\"method\":\"xpath\",\"selector\":\".//a[@class=\"nav next ui_button primary\"]\"}\n",
      "  (Session info: chrome=89.0.4389.82)\n",
      "\n"
     ]
    },
    {
     "name": "stdout",
     "output_type": "stream",
     "text": [
      "https://www.tripadvisor.com/Restaurant_Review-g60763-d3733387-Reviews-Farinella_Italian_Bakery_Pizza-New_York_City_New_York.html\n"
     ]
    },
    {
     "name": "stderr",
     "output_type": "stream",
     "text": [
      "INFO:__main__:Found a maximum of 6 pages\n",
      "ERROR:__main__:Could not load this page\n",
      "ERROR:__main__:Message: no such element: Unable to locate element: {\"method\":\"xpath\",\"selector\":\".//a[@class=\"nav next ui_button primary\"]\"}\n",
      "  (Session info: chrome=89.0.4389.82)\n",
      "\n"
     ]
    },
    {
     "name": "stdout",
     "output_type": "stream",
     "text": [
      "https://www.tripadvisor.com/Restaurant_Review-g60763-d482186-Reviews-MarkJoseph_Steakhouse-New_York_City_New_York.html\n"
     ]
    },
    {
     "name": "stderr",
     "output_type": "stream",
     "text": [
      "INFO:__main__:Found a maximum of 17 pages\n",
      "ERROR:__main__:Could not load this page\n",
      "ERROR:__main__:Message: no such element: Unable to locate element: {\"method\":\"xpath\",\"selector\":\".//a[@class=\"nav next ui_button primary\"]\"}\n",
      "  (Session info: chrome=89.0.4389.82)\n",
      "\n"
     ]
    },
    {
     "name": "stdout",
     "output_type": "stream",
     "text": [
      "https://www.tripadvisor.com/Restaurant_Review-g60763-d14124878-Reviews-Lions_Tigers_Squares_Detroit_Pizza-New_York_City_New_York.html\n"
     ]
    },
    {
     "name": "stderr",
     "output_type": "stream",
     "text": [
      "INFO:__main__:Found a maximum of 3 pages\n",
      "ERROR:__main__:Could not load this page\n",
      "ERROR:__main__:Message: no such element: Unable to locate element: {\"method\":\"xpath\",\"selector\":\".//a[@class=\"nav next ui_button primary\"]\"}\n",
      "  (Session info: chrome=89.0.4389.82)\n",
      "\n"
     ]
    },
    {
     "name": "stdout",
     "output_type": "stream",
     "text": [
      "https://www.tripadvisor.com/Restaurant_Review-g60763-d3717231-Reviews-Domino_s_Pizza-New_York_City_New_York.html\n"
     ]
    },
    {
     "name": "stderr",
     "output_type": "stream",
     "text": [
      "ERROR:__main__:Could find maximum page. This page may only have one page of reviews\n",
      "ERROR:__main__:Message: \n",
      "\n",
      "ERROR:__main__:Could not load this page\n",
      "ERROR:__main__:Message: no such element: Unable to locate element: {\"method\":\"xpath\",\"selector\":\".//a[@class=\"nav next ui_button primary\"]\"}\n",
      "  (Session info: chrome=89.0.4389.82)\n",
      "\n"
     ]
    },
    {
     "name": "stdout",
     "output_type": "stream",
     "text": [
      "https://www.tripadvisor.com/Restaurant_Review-g60763-d4811705-Reviews-Rivoli_Pizza-New_York_City_New_York.html\n"
     ]
    },
    {
     "name": "stderr",
     "output_type": "stream",
     "text": [
      "ERROR:__main__:Could find maximum page. This page may only have one page of reviews\n",
      "ERROR:__main__:Message: \n",
      "\n",
      "ERROR:__main__:Could not load this page\n",
      "ERROR:__main__:Message: \n",
      "\n"
     ]
    },
    {
     "name": "stdout",
     "output_type": "stream",
     "text": [
      "https://www.tripadvisor.com/Restaurant_Review-g60763-d6996163-Reviews-Rocky_s_Bar_and_Restaurant-New_York_City_New_York.html\n"
     ]
    },
    {
     "name": "stderr",
     "output_type": "stream",
     "text": [
      "INFO:__main__:Found a maximum of 4 pages\n",
      "ERROR:__main__:Could not load this page\n",
      "ERROR:__main__:Message: no such element: Unable to locate element: {\"method\":\"xpath\",\"selector\":\".//a[@class=\"nav next ui_button primary\"]\"}\n",
      "  (Session info: chrome=89.0.4389.82)\n",
      "\n"
     ]
    },
    {
     "name": "stdout",
     "output_type": "stream",
     "text": [
      "https://www.tripadvisor.com/Restaurant_Review-g60763-d459126-Reviews-Famous_Original_Ray_s_Pizza-New_York_City_New_York.html\n"
     ]
    },
    {
     "name": "stderr",
     "output_type": "stream",
     "text": [
      "INFO:__main__:Found a maximum of 81 pages\n",
      "ERROR:__main__:Could not load this page\n",
      "ERROR:__main__:Message: no such element: Unable to locate element: {\"method\":\"xpath\",\"selector\":\".//a[@class=\"nav next ui_button primary\"]\"}\n",
      "  (Session info: chrome=89.0.4389.82)\n",
      "\n"
     ]
    },
    {
     "name": "stdout",
     "output_type": "stream",
     "text": [
      "https://www.tripadvisor.com/Restaurant_Review-g60763-d10539122-Reviews-Victorio_s_Pizza_Plus-New_York_City_New_York.html\n"
     ]
    },
    {
     "name": "stderr",
     "output_type": "stream",
     "text": [
      "ERROR:__main__:Could find maximum page. This page may only have one page of reviews\n",
      "ERROR:__main__:Message: \n",
      "\n",
      "ERROR:__main__:Could not load this page\n",
      "ERROR:__main__:Message: no such element: Unable to locate element: {\"method\":\"xpath\",\"selector\":\".//a[@class=\"nav next ui_button primary\"]\"}\n",
      "  (Session info: chrome=89.0.4389.82)\n",
      "\n"
     ]
    },
    {
     "name": "stdout",
     "output_type": "stream",
     "text": [
      "https://www.tripadvisor.com/Restaurant_Review-g60763-d17522229-Reviews-Marinara_Pizza-New_York_City_New_York.html\n"
     ]
    },
    {
     "name": "stderr",
     "output_type": "stream",
     "text": [
      "ERROR:__main__:Could find maximum page. This page may only have one page of reviews\n",
      "ERROR:__main__:Message: \n",
      "\n",
      "ERROR:__main__:Could not load this page\n",
      "ERROR:__main__:Message: no such element: Unable to locate element: {\"method\":\"xpath\",\"selector\":\".//a[@class=\"nav next ui_button primary\"]\"}\n",
      "  (Session info: chrome=89.0.4389.82)\n",
      "\n"
     ]
    },
    {
     "name": "stdout",
     "output_type": "stream",
     "text": [
      "https://www.tripadvisor.com/Restaurant_Review-g60763-d10736997-Reviews-Denino_s_Greenwich_Village-New_York_City_New_York.html\n"
     ]
    },
    {
     "name": "stderr",
     "output_type": "stream",
     "text": [
      "INFO:__main__:Found a maximum of 6 pages\n",
      "ERROR:__main__:Could not load this page\n",
      "ERROR:__main__:Message: no such element: Unable to locate element: {\"method\":\"xpath\",\"selector\":\".//a[@class=\"nav next ui_button primary\"]\"}\n",
      "  (Session info: chrome=89.0.4389.82)\n",
      "\n"
     ]
    },
    {
     "name": "stdout",
     "output_type": "stream",
     "text": [
      "https://www.tripadvisor.com/Restaurant_Review-g60763-d17600967-Reviews-Pizza_by_Lucille_s-New_York_City_New_York.html\n"
     ]
    },
    {
     "name": "stderr",
     "output_type": "stream",
     "text": [
      "ERROR:__main__:Could find maximum page. This page may only have one page of reviews\n",
      "ERROR:__main__:Message: \n",
      "\n",
      "ERROR:__main__:Could not load this page\n",
      "ERROR:__main__:Message: \n",
      "\n"
     ]
    },
    {
     "name": "stdout",
     "output_type": "stream",
     "text": [
      "https://www.tripadvisor.com/Restaurant_Review-g60763-d3734926-Reviews-Underground_Pizza-New_York_City_New_York.html\n"
     ]
    },
    {
     "name": "stderr",
     "output_type": "stream",
     "text": [
      "INFO:__main__:Found a maximum of 4 pages\n",
      "ERROR:__main__:Could not load this page\n",
      "ERROR:__main__:Message: no such element: Unable to locate element: {\"method\":\"xpath\",\"selector\":\".//a[@class=\"nav next ui_button primary\"]\"}\n",
      "  (Session info: chrome=89.0.4389.82)\n",
      "\n"
     ]
    },
    {
     "name": "stdout",
     "output_type": "stream",
     "text": [
      "https://www.tripadvisor.com/Restaurant_Review-g60763-d457778-Reviews-John_s_of_Times_Square-New_York_City_New_York.html\n"
     ]
    },
    {
     "name": "stderr",
     "output_type": "stream",
     "text": [
      "INFO:__main__:Found a maximum of 503 pages\n",
      "ERROR:__main__:Could not load this page\n",
      "ERROR:__main__:Message: element click intercepted: Element <span class=\"taLnk ulBlueLinks\" onclick=\"widgetEvCall('handlers.clickExpand',event,this);\">...</span> is not clickable at point (520, 7). Other element would receive the click: <div class=\"_3Y89Wkhd\">...</div>\n",
      "  (Session info: chrome=89.0.4389.82)\n",
      "\n"
     ]
    },
    {
     "name": "stdout",
     "output_type": "stream",
     "text": [
      "https://www.tripadvisor.com/Restaurant_Review-g60763-d3191946-Reviews-Pronto_Pizza-New_York_City_New_York.html\n"
     ]
    },
    {
     "name": "stderr",
     "output_type": "stream",
     "text": [
      "INFO:__main__:Found a maximum of 2 pages\n",
      "ERROR:__main__:Could not load this page\n",
      "ERROR:__main__:Message: \n",
      "\n"
     ]
    },
    {
     "name": "stdout",
     "output_type": "stream",
     "text": [
      "https://www.tripadvisor.com/Restaurant_Review-g60763-d4416799-Reviews-A_1_Pizza_Shop-New_York_City_New_York.html\n"
     ]
    },
    {
     "name": "stderr",
     "output_type": "stream",
     "text": [
      "ERROR:__main__:Could find maximum page. This page may only have one page of reviews\n",
      "ERROR:__main__:Message: \n",
      "\n",
      "ERROR:__main__:Could not load this page\n",
      "ERROR:__main__:Message: no such element: Unable to locate element: {\"method\":\"xpath\",\"selector\":\".//a[@class=\"nav next ui_button primary\"]\"}\n",
      "  (Session info: chrome=89.0.4389.82)\n",
      "\n"
     ]
    },
    {
     "name": "stdout",
     "output_type": "stream",
     "text": [
      "https://www.tripadvisor.com/Restaurant_Review-g60763-d4473898-Reviews-Joey_Pepperoni_Pizza-New_York_City_New_York.html\n"
     ]
    },
    {
     "name": "stderr",
     "output_type": "stream",
     "text": [
      "INFO:__main__:Found a maximum of 4 pages\n",
      "ERROR:__main__:Could not load this page\n",
      "ERROR:__main__:Message: \n",
      "\n"
     ]
    },
    {
     "name": "stdout",
     "output_type": "stream",
     "text": [
      "https://www.tripadvisor.com/Restaurant_Review-g60763-d6918411-Reviews-Skinny_Pizza-New_York_City_New_York.html\n"
     ]
    },
    {
     "name": "stderr",
     "output_type": "stream",
     "text": [
      "INFO:__main__:Found a maximum of 5 pages\n",
      "ERROR:__main__:Could not load this page\n",
      "ERROR:__main__:Message: no such element: Unable to locate element: {\"method\":\"xpath\",\"selector\":\".//a[@class=\"nav next ui_button primary\"]\"}\n",
      "  (Session info: chrome=89.0.4389.82)\n",
      "\n"
     ]
    },
    {
     "name": "stdout",
     "output_type": "stream",
     "text": [
      "https://www.tripadvisor.com/Restaurant_Review-g60763-d4255652-Reviews-Village_Pizza-New_York_City_New_York.html\n"
     ]
    },
    {
     "name": "stderr",
     "output_type": "stream",
     "text": [
      "INFO:__main__:Found a maximum of 2 pages\n",
      "ERROR:__main__:Could not load this page\n",
      "ERROR:__main__:Message: \n",
      "\n"
     ]
    },
    {
     "name": "stdout",
     "output_type": "stream",
     "text": [
      "https://www.tripadvisor.com/Restaurant_Review-g60763-d3800560-Reviews-D_Napoli_Pizza-New_York_City_New_York.html\n"
     ]
    },
    {
     "name": "stderr",
     "output_type": "stream",
     "text": [
      "ERROR:__main__:Could find maximum page. This page may only have one page of reviews\n",
      "ERROR:__main__:Message: \n",
      "\n",
      "ERROR:__main__:Could not load this page\n",
      "ERROR:__main__:Message: no such element: Unable to locate element: {\"method\":\"xpath\",\"selector\":\".//a[@class=\"nav next ui_button primary\"]\"}\n",
      "  (Session info: chrome=89.0.4389.82)\n",
      "\n"
     ]
    },
    {
     "name": "stdout",
     "output_type": "stream",
     "text": [
      "https://www.tripadvisor.com/Restaurant_Review-g60763-d4420772-Reviews-Lexington_pizza_parlor-New_York_City_New_York.html\n"
     ]
    },
    {
     "name": "stderr",
     "output_type": "stream",
     "text": [
      "INFO:__main__:Found a maximum of 8 pages\n",
      "ERROR:__main__:Could not load this page\n",
      "ERROR:__main__:Message: no such element: Unable to locate element: {\"method\":\"xpath\",\"selector\":\".//a[@class=\"nav next ui_button primary\"]\"}\n",
      "  (Session info: chrome=89.0.4389.82)\n",
      "\n"
     ]
    },
    {
     "name": "stdout",
     "output_type": "stream",
     "text": [
      "https://www.tripadvisor.com/Restaurant_Review-g60763-d1804880-Reviews-Angelo_s_on_55th_Street-New_York_City_New_York.html\n"
     ]
    },
    {
     "name": "stderr",
     "output_type": "stream",
     "text": [
      "INFO:__main__:Found a maximum of 10 pages\n",
      "ERROR:__main__:Could not load this page\n",
      "ERROR:__main__:Message: no such element: Unable to locate element: {\"method\":\"xpath\",\"selector\":\".//a[@class=\"nav next ui_button primary\"]\"}\n",
      "  (Session info: chrome=89.0.4389.82)\n",
      "\n"
     ]
    },
    {
     "name": "stdout",
     "output_type": "stream",
     "text": [
      "https://www.tripadvisor.com/Restaurant_Review-g60763-d457836-Reviews-Bella_Napoli-New_York_City_New_York.html\n"
     ]
    },
    {
     "name": "stderr",
     "output_type": "stream",
     "text": [
      "INFO:__main__:Found a maximum of 25 pages\n"
     ]
    },
    {
     "name": "stdout",
     "output_type": "stream",
     "text": [
      "https://www.tripadvisor.com/Restaurant_Review-g60763-d19818307-Reviews-Keste_Fulton-New_York_City_New_York.html\n"
     ]
    },
    {
     "name": "stderr",
     "output_type": "stream",
     "text": [
      "ERROR:__main__:Could find maximum page. This page may only have one page of reviews\n",
      "ERROR:__main__:Message: \n",
      "\n",
      "ERROR:__main__:Could not load this page\n",
      "ERROR:__main__:Message: no such element: Unable to locate element: {\"method\":\"xpath\",\"selector\":\".//a[@class=\"nav next ui_button primary\"]\"}\n",
      "  (Session info: chrome=89.0.4389.82)\n",
      "\n"
     ]
    },
    {
     "name": "stdout",
     "output_type": "stream",
     "text": [
      "https://www.tripadvisor.com/Restaurant_Review-g60763-d3782320-Reviews-Big_Slice_of_NYC-New_York_City_New_York.html\n"
     ]
    },
    {
     "name": "stderr",
     "output_type": "stream",
     "text": [
      "INFO:__main__:Found a maximum of 3 pages\n",
      "ERROR:__main__:Could not load this page\n",
      "ERROR:__main__:Message: no such element: Unable to locate element: {\"method\":\"xpath\",\"selector\":\".//a[@class=\"nav next ui_button primary\"]\"}\n",
      "  (Session info: chrome=89.0.4389.82)\n",
      "\n"
     ]
    },
    {
     "name": "stdout",
     "output_type": "stream",
     "text": [
      "https://www.tripadvisor.com/Restaurant_Review-g60763-d425446-Reviews-Pastafina_Restaurant-New_York_City_New_York.html\n"
     ]
    },
    {
     "name": "stderr",
     "output_type": "stream",
     "text": [
      "ERROR:__main__:Could find maximum page. This page may only have one page of reviews\n",
      "ERROR:__main__:Message: \n",
      "\n",
      "ERROR:__main__:Could not load this page\n",
      "ERROR:__main__:Message: no such element: Unable to locate element: {\"method\":\"xpath\",\"selector\":\".//a[@class=\"nav next ui_button primary\"]\"}\n",
      "  (Session info: chrome=89.0.4389.82)\n",
      "\n"
     ]
    },
    {
     "name": "stdout",
     "output_type": "stream",
     "text": [
      "https://www.tripadvisor.com/Restaurant_Review-g60763-d426021-Reviews-Koronet_Pizzeria-New_York_City_New_York.html\n"
     ]
    },
    {
     "name": "stderr",
     "output_type": "stream",
     "text": [
      "INFO:__main__:Found a maximum of 8 pages\n",
      "ERROR:__main__:Could not load this page\n",
      "ERROR:__main__:Message: \n",
      "\n"
     ]
    },
    {
     "name": "stdout",
     "output_type": "stream",
     "text": [
      "https://www.tripadvisor.com/Restaurant_Review-g60763-d3782305-Reviews-Little_Italy_Pizza-New_York_City_New_York.html\n"
     ]
    },
    {
     "name": "stderr",
     "output_type": "stream",
     "text": [
      "INFO:__main__:Found a maximum of 4 pages\n",
      "ERROR:__main__:Could not load this page\n",
      "ERROR:__main__:Message: no such element: Unable to locate element: {\"method\":\"xpath\",\"selector\":\".//a[@class=\"nav next ui_button primary\"]\"}\n",
      "  (Session info: chrome=89.0.4389.82)\n",
      "\n"
     ]
    },
    {
     "name": "stdout",
     "output_type": "stream",
     "text": [
      "https://www.tripadvisor.com/Restaurant_Review-g60763-d10396910-Reviews-Filaga_Pizzeria_Siciliana-New_York_City_New_York.html\n"
     ]
    },
    {
     "name": "stderr",
     "output_type": "stream",
     "text": [
      "INFO:__main__:Found a maximum of 8 pages\n",
      "ERROR:__main__:Could not load this page\n",
      "ERROR:__main__:Message: no such element: Unable to locate element: {\"method\":\"xpath\",\"selector\":\".//a[@class=\"nav next ui_button primary\"]\"}\n",
      "  (Session info: chrome=89.0.4389.82)\n",
      "\n"
     ]
    },
    {
     "name": "stdout",
     "output_type": "stream",
     "text": [
      "https://www.tripadvisor.com/Restaurant_Review-g60763-d17735265-Reviews-Nolita_Pizza-New_York_City_New_York.html\n"
     ]
    },
    {
     "name": "stderr",
     "output_type": "stream",
     "text": [
      "INFO:__main__:Found a maximum of 2 pages\n",
      "ERROR:__main__:Could not load this page\n",
      "ERROR:__main__:Message: no such element: Unable to locate element: {\"method\":\"xpath\",\"selector\":\".//a[@class=\"nav next ui_button primary\"]\"}\n",
      "  (Session info: chrome=89.0.4389.82)\n",
      "\n"
     ]
    },
    {
     "name": "stdout",
     "output_type": "stream",
     "text": [
      "https://www.tripadvisor.com/Restaurant_Review-g60763-d19274095-Reviews-Il_Mattone-New_York_City_New_York.html\n"
     ]
    },
    {
     "name": "stderr",
     "output_type": "stream",
     "text": [
      "ERROR:__main__:Could find maximum page. This page may only have one page of reviews\n",
      "ERROR:__main__:Message: \n",
      "\n",
      "ERROR:__main__:Could not load this page\n",
      "ERROR:__main__:Message: no such element: Unable to locate element: {\"method\":\"xpath\",\"selector\":\".//a[@class=\"nav next ui_button primary\"]\"}\n",
      "  (Session info: chrome=89.0.4389.82)\n",
      "\n"
     ]
    },
    {
     "name": "stdout",
     "output_type": "stream",
     "text": [
      "https://www.tripadvisor.com/Restaurant_Review-g60763-d423350-Reviews-Ben_s_Pizzeria-New_York_City_New_York.html\n"
     ]
    },
    {
     "name": "stderr",
     "output_type": "stream",
     "text": [
      "INFO:__main__:Found a maximum of 6 pages\n",
      "ERROR:__main__:Could not load this page\n",
      "ERROR:__main__:Message: no such element: Unable to locate element: {\"method\":\"xpath\",\"selector\":\".//a[@class=\"nav next ui_button primary\"]\"}\n",
      "  (Session info: chrome=89.0.4389.82)\n",
      "\n"
     ]
    },
    {
     "name": "stdout",
     "output_type": "stream",
     "text": [
      "https://www.tripadvisor.com/Restaurant_Review-g60763-d15169464-Reviews-Loverboy-New_York_City_New_York.html\n"
     ]
    },
    {
     "name": "stderr",
     "output_type": "stream",
     "text": [
      "ERROR:__main__:Could find maximum page. This page may only have one page of reviews\n",
      "ERROR:__main__:Message: \n",
      "\n",
      "ERROR:__main__:Could not load this page\n",
      "ERROR:__main__:Message: \n",
      "\n"
     ]
    },
    {
     "name": "stdout",
     "output_type": "stream",
     "text": [
      "https://www.tripadvisor.com/Restaurant_Review-g60763-d15175810-Reviews-Zesty_Pizzeria_Salumeria-New_York_City_New_York.html\n"
     ]
    },
    {
     "name": "stderr",
     "output_type": "stream",
     "text": [
      "ERROR:__main__:Could find maximum page. This page may only have one page of reviews\n",
      "ERROR:__main__:Message: \n",
      "\n",
      "ERROR:__main__:Could not load this page\n",
      "ERROR:__main__:Message: \n",
      "\n"
     ]
    },
    {
     "name": "stdout",
     "output_type": "stream",
     "text": [
      "https://www.tripadvisor.com/Restaurant_Review-g60763-d5485365-Reviews-Daniello_s_Pizzeria-New_York_City_New_York.html\n"
     ]
    },
    {
     "name": "stderr",
     "output_type": "stream",
     "text": [
      "ERROR:__main__:Could find maximum page. This page may only have one page of reviews\n",
      "ERROR:__main__:Message: \n",
      "\n",
      "ERROR:__main__:Could not load this page\n",
      "ERROR:__main__:Message: no such element: Unable to locate element: {\"method\":\"xpath\",\"selector\":\".//a[@class=\"nav next ui_button primary\"]\"}\n",
      "  (Session info: chrome=89.0.4389.82)\n",
      "\n"
     ]
    },
    {
     "name": "stdout",
     "output_type": "stream",
     "text": [
      "https://www.tripadvisor.com/Restaurant_Review-g60763-d5065998-Reviews-Connolly_s_Pub_Restaurant-New_York_City_New_York.html\n"
     ]
    },
    {
     "name": "stderr",
     "output_type": "stream",
     "text": [
      "INFO:__main__:Found a maximum of 13 pages\n",
      "ERROR:__main__:Could not load this page\n",
      "ERROR:__main__:Message: no such element: Unable to locate element: {\"method\":\"xpath\",\"selector\":\".//a[@class=\"nav next ui_button primary\"]\"}\n",
      "  (Session info: chrome=89.0.4389.82)\n",
      "\n"
     ]
    },
    {
     "name": "stdout",
     "output_type": "stream",
     "text": [
      "https://www.tripadvisor.com/Restaurant_Review-g60763-d15166330-Reviews-Famous_Calabria_Pizza-New_York_City_New_York.html\n"
     ]
    },
    {
     "name": "stderr",
     "output_type": "stream",
     "text": [
      "ERROR:__main__:Could find maximum page. This page may only have one page of reviews\n",
      "ERROR:__main__:Message: \n",
      "\n",
      "ERROR:__main__:Could not load this page\n",
      "ERROR:__main__:Message: no such element: Unable to locate element: {\"method\":\"xpath\",\"selector\":\".//a[@class=\"nav next ui_button primary\"]\"}\n",
      "  (Session info: chrome=89.0.4389.82)\n",
      "\n"
     ]
    },
    {
     "name": "stdout",
     "output_type": "stream",
     "text": [
      "https://www.tripadvisor.com/Restaurant_Review-g60763-d1466912-Reviews-Frankie_Johnnie_s_Steakhouse-New_York_City_New_York.html\n"
     ]
    },
    {
     "name": "stderr",
     "output_type": "stream",
     "text": [
      "INFO:__main__:Found a maximum of 54 pages\n"
     ]
    },
    {
     "name": "stdout",
     "output_type": "stream",
     "text": [
      "https://www.tripadvisor.com/Search?q=THE%20BIG%20SLICE&searchSessionId=3121F710227F71EBBCD4E8C356325A181614364747024ssid&searchNearby=false&geo=60763&sid=1C0BE104BD7D4591915E19A69B51F9591614364770171&blockRedirect=true\n"
     ]
    },
    {
     "name": "stderr",
     "output_type": "stream",
     "text": [
      "ERROR:__main__:Could not load this page\n",
      "ERROR:__main__:Message: \n",
      "\n"
     ]
    },
    {
     "name": "stdout",
     "output_type": "stream",
     "text": [
      "https://www.tripadvisor.com/Restaurant_Review-g60763-d5066586-Reviews-Broadway_Pizza_and_Restaurant-New_York_City_New_York.html\n"
     ]
    },
    {
     "name": "stderr",
     "output_type": "stream",
     "text": [
      "INFO:__main__:Found a maximum of 2 pages\n",
      "ERROR:__main__:Could not load this page\n",
      "ERROR:__main__:Message: \n",
      "\n"
     ]
    },
    {
     "name": "stdout",
     "output_type": "stream",
     "text": [
      "https://www.tripadvisor.com/Restaurant_Review-g60763-d2285056-Reviews-La_Crosta_Restaurant_Gourmet_Pizzeria-New_York_City_New_York.html\n"
     ]
    },
    {
     "name": "stderr",
     "output_type": "stream",
     "text": [
      "ERROR:__main__:Could find maximum page. This page may only have one page of reviews\n",
      "ERROR:__main__:Message: \n",
      "\n",
      "ERROR:__main__:Could not load this page\n",
      "ERROR:__main__:Message: no such element: Unable to locate element: {\"method\":\"xpath\",\"selector\":\".//a[@class=\"nav next ui_button primary\"]\"}\n",
      "  (Session info: chrome=89.0.4389.82)\n",
      "\n"
     ]
    },
    {
     "name": "stdout",
     "output_type": "stream",
     "text": [
      "https://www.tripadvisor.com/Restaurant_Review-g60763-d3367188-Reviews-Iggy_s_Pizzera-New_York_City_New_York.html\n"
     ]
    },
    {
     "name": "stderr",
     "output_type": "stream",
     "text": [
      "ERROR:__main__:Could find maximum page. This page may only have one page of reviews\n",
      "ERROR:__main__:Message: \n",
      "\n",
      "ERROR:__main__:Could not load this page\n",
      "ERROR:__main__:Message: no such element: Unable to locate element: {\"method\":\"xpath\",\"selector\":\".//a[@class=\"nav next ui_button primary\"]\"}\n",
      "  (Session info: chrome=89.0.4389.82)\n",
      "\n"
     ]
    },
    {
     "name": "stdout",
     "output_type": "stream",
     "text": [
      "https://www.tripadvisor.com/Restaurant_Review-g60763-d4609847-Reviews-Patsy_s_Pizzeria-New_York_City_New_York.html\n"
     ]
    },
    {
     "name": "stderr",
     "output_type": "stream",
     "text": [
      "INFO:__main__:Found a maximum of 20 pages\n",
      "ERROR:__main__:Could not load this page\n",
      "ERROR:__main__:Message: no such element: Unable to locate element: {\"method\":\"xpath\",\"selector\":\".//a[@class=\"nav next ui_button primary\"]\"}\n",
      "  (Session info: chrome=89.0.4389.82)\n",
      "\n"
     ]
    },
    {
     "name": "stdout",
     "output_type": "stream",
     "text": [
      "https://www.tripadvisor.com/Restaurant_Review-g60763-d4826592-Reviews-La_Margarita_Pizza-New_York_City_New_York.html\n"
     ]
    },
    {
     "name": "stderr",
     "output_type": "stream",
     "text": [
      "INFO:__main__:Found a maximum of 3 pages\n",
      "ERROR:__main__:Could not load this page\n",
      "ERROR:__main__:Message: no such element: Unable to locate element: {\"method\":\"xpath\",\"selector\":\".//a[@class=\"nav next ui_button primary\"]\"}\n",
      "  (Session info: chrome=89.0.4389.82)\n",
      "\n"
     ]
    },
    {
     "name": "stdout",
     "output_type": "stream",
     "text": [
      "https://www.tripadvisor.com/Restaurant_Review-g60763-d1368259-Reviews-Wolfgang_s_Steakhouse_Tribeca-New_York_City_New_York.html\n"
     ]
    },
    {
     "name": "stderr",
     "output_type": "stream",
     "text": [
      "INFO:__main__:Found a maximum of 24 pages\n",
      "ERROR:__main__:Could not load this page\n",
      "ERROR:__main__:Message: no such element: Unable to locate element: {\"method\":\"xpath\",\"selector\":\".//a[@class=\"nav next ui_button primary\"]\"}\n",
      "  (Session info: chrome=89.0.4389.82)\n",
      "\n"
     ]
    },
    {
     "name": "stdout",
     "output_type": "stream",
     "text": [
      "https://www.tripadvisor.com/Restaurant_Review-g60763-d12722586-Reviews-Williamsburg_Pizza-New_York_City_New_York.html\n"
     ]
    },
    {
     "name": "stderr",
     "output_type": "stream",
     "text": [
      "INFO:__main__:Found a maximum of 2 pages\n",
      "ERROR:__main__:Could not load this page\n",
      "ERROR:__main__:Message: \n",
      "\n"
     ]
    },
    {
     "name": "stdout",
     "output_type": "stream",
     "text": [
      "https://www.tripadvisor.com/Restaurant_Review-g60763-d21280402-Reviews-Baker_s_Pizza-New_York_City_New_York.html\n"
     ]
    },
    {
     "name": "stderr",
     "output_type": "stream",
     "text": [
      "ERROR:__main__:Could find maximum page. This page may only have one page of reviews\n",
      "ERROR:__main__:Message: \n",
      "\n",
      "ERROR:__main__:Could not load this page\n",
      "ERROR:__main__:Message: \n",
      "\n"
     ]
    },
    {
     "name": "stdout",
     "output_type": "stream",
     "text": [
      "https://www.tripadvisor.com/Restaurant_Review-g60763-d1984386-Reviews-Numero_28_Pizzeria_Napoletana-New_York_City_New_York.html\n"
     ]
    },
    {
     "name": "stderr",
     "output_type": "stream",
     "text": [
      "INFO:__main__:Found a maximum of 13 pages\n",
      "ERROR:__main__:Could not load this page\n",
      "ERROR:__main__:Message: no such element: Unable to locate element: {\"method\":\"xpath\",\"selector\":\".//a[@class=\"nav next ui_button primary\"]\"}\n",
      "  (Session info: chrome=89.0.4389.82)\n",
      "\n"
     ]
    },
    {
     "name": "stdout",
     "output_type": "stream",
     "text": [
      "https://www.tripadvisor.com/Restaurant_Review-g60763-d3716891-Reviews-Domino_s_Pizza-New_York_City_New_York.html\n"
     ]
    },
    {
     "name": "stderr",
     "output_type": "stream",
     "text": [
      "ERROR:__main__:Could find maximum page. This page may only have one page of reviews\n",
      "ERROR:__main__:Message: \n",
      "\n",
      "ERROR:__main__:Could not load this page\n",
      "ERROR:__main__:Message: \n",
      "\n"
     ]
    },
    {
     "name": "stdout",
     "output_type": "stream",
     "text": [
      "https://www.tripadvisor.com/Restaurant_Review-g60763-d8319243-Reviews-Fiore_s_Pizza-New_York_City_New_York.html\n"
     ]
    },
    {
     "name": "stderr",
     "output_type": "stream",
     "text": [
      "INFO:__main__:Found a maximum of 3 pages\n",
      "ERROR:__main__:Could not load this page\n",
      "ERROR:__main__:Message: no such element: Unable to locate element: {\"method\":\"xpath\",\"selector\":\".//a[@class=\"nav next ui_button primary\"]\"}\n",
      "  (Session info: chrome=89.0.4389.82)\n",
      "\n"
     ]
    },
    {
     "name": "stdout",
     "output_type": "stream",
     "text": [
      "https://www.tripadvisor.com/Restaurant_Review-g60763-d10531793-Reviews-Saba_s_Pizza-New_York_City_New_York.html\n"
     ]
    },
    {
     "name": "stderr",
     "output_type": "stream",
     "text": [
      "INFO:__main__:Found a maximum of 3 pages\n",
      "ERROR:__main__:Could not load this page\n",
      "ERROR:__main__:Message: \n",
      "\n"
     ]
    },
    {
     "name": "stdout",
     "output_type": "stream",
     "text": [
      "https://www.tripadvisor.com/Restaurant_Review-g60763-d11678193-Reviews-Cut_by_Wolfgang_Puck-New_York_City_New_York.html\n"
     ]
    },
    {
     "name": "stderr",
     "output_type": "stream",
     "text": [
      "INFO:__main__:Found a maximum of 12 pages\n",
      "ERROR:__main__:Could not load this page\n",
      "ERROR:__main__:Message: no such element: Unable to locate element: {\"method\":\"xpath\",\"selector\":\".//a[@class=\"nav next ui_button primary\"]\"}\n",
      "  (Session info: chrome=89.0.4389.82)\n",
      "\n"
     ]
    },
    {
     "name": "stdout",
     "output_type": "stream",
     "text": [
      "https://www.tripadvisor.com/Restaurant_Review-g60763-d479377-Reviews-Arturo_s_Pizza-New_York_City_New_York.html\n"
     ]
    },
    {
     "name": "stderr",
     "output_type": "stream",
     "text": [
      "INFO:__main__:Found a maximum of 4 pages\n",
      "ERROR:__main__:Could not load this page\n",
      "ERROR:__main__:Message: no such element: Unable to locate element: {\"method\":\"xpath\",\"selector\":\".//a[@class=\"nav next ui_button primary\"]\"}\n",
      "  (Session info: chrome=89.0.4389.82)\n",
      "\n"
     ]
    },
    {
     "name": "stdout",
     "output_type": "stream",
     "text": [
      "https://www.tripadvisor.com/Restaurant_Review-g60763-d11832948-Reviews-Motorino-New_York_City_New_York.html\n"
     ]
    },
    {
     "name": "stderr",
     "output_type": "stream",
     "text": [
      "INFO:__main__:Found a maximum of 4 pages\n",
      "ERROR:__main__:Could not load this page\n",
      "ERROR:__main__:Message: no such element: Unable to locate element: {\"method\":\"xpath\",\"selector\":\".//a[@class=\"nav next ui_button primary\"]\"}\n",
      "  (Session info: chrome=89.0.4389.82)\n",
      "\n"
     ]
    },
    {
     "name": "stdout",
     "output_type": "stream",
     "text": [
      "https://www.tripadvisor.com/Restaurant_Review-g60763-d13214506-Reviews-Gino_Sorbillo_Pizzeria-New_York_City_New_York.html#REVIEWS\n"
     ]
    },
    {
     "name": "stderr",
     "output_type": "stream",
     "text": [
      "INFO:__main__:Found a maximum of 6 pages\n",
      "ERROR:__main__:Could not load this page\n",
      "ERROR:__main__:Message: no such element: Unable to locate element: {\"method\":\"xpath\",\"selector\":\".//a[@class=\"nav next ui_button primary\"]\"}\n",
      "  (Session info: chrome=89.0.4389.82)\n",
      "\n"
     ]
    },
    {
     "name": "stdout",
     "output_type": "stream",
     "text": [
      "https://www.tripadvisor.com/Restaurant_Review-g60763-d4790269-Reviews-Famous_Famiglia_Pizzeria-New_York_City_New_York.html\n"
     ]
    },
    {
     "name": "stderr",
     "output_type": "stream",
     "text": [
      "ERROR:__main__:Could find maximum page. This page may only have one page of reviews\n",
      "ERROR:__main__:Message: \n",
      "\n",
      "ERROR:__main__:Could not load this page\n",
      "ERROR:__main__:Message: no such element: Unable to locate element: {\"method\":\"xpath\",\"selector\":\".//a[@class=\"nav next ui_button primary\"]\"}\n",
      "  (Session info: chrome=89.0.4389.82)\n",
      "\n"
     ]
    },
    {
     "name": "stdout",
     "output_type": "stream",
     "text": [
      "https://www.tripadvisor.com/Restaurant_Review-g60763-d14077337-Reviews-Codino_Wine_Bar-New_York_City_New_York.html\n"
     ]
    },
    {
     "name": "stderr",
     "output_type": "stream",
     "text": [
      "ERROR:__main__:Could find maximum page. This page may only have one page of reviews\n",
      "ERROR:__main__:Message: \n",
      "\n",
      "ERROR:__main__:Could not load this page\n",
      "ERROR:__main__:Message: no such element: Unable to locate element: {\"method\":\"xpath\",\"selector\":\".//a[@class=\"nav next ui_button primary\"]\"}\n",
      "  (Session info: chrome=89.0.4389.82)\n",
      "\n"
     ]
    },
    {
     "name": "stdout",
     "output_type": "stream",
     "text": [
      "https://www.tripadvisor.com/Restaurant_Review-g60763-d4658443-Reviews-Tappo-New_York_City_New_York.html\n"
     ]
    },
    {
     "name": "stderr",
     "output_type": "stream",
     "text": [
      "INFO:__main__:Found a maximum of 23 pages\n",
      "ERROR:__main__:Could not load this page\n",
      "ERROR:__main__:Message: no such element: Unable to locate element: {\"method\":\"xpath\",\"selector\":\".//a[@class=\"nav next ui_button primary\"]\"}\n",
      "  (Session info: chrome=89.0.4389.82)\n",
      "\n"
     ]
    },
    {
     "name": "stdout",
     "output_type": "stream",
     "text": [
      "https://www.tripadvisor.com/Restaurant_Review-g60763-d4758699-Reviews-Little_Luzzo_s-New_York_City_New_York.html\n"
     ]
    },
    {
     "name": "stderr",
     "output_type": "stream",
     "text": [
      "INFO:__main__:Found a maximum of 2 pages\n",
      "ERROR:__main__:Could not load this page\n",
      "ERROR:__main__:Message: no such element: Unable to locate element: {\"method\":\"xpath\",\"selector\":\".//a[@class=\"nav next ui_button primary\"]\"}\n",
      "  (Session info: chrome=89.0.4389.82)\n",
      "\n"
     ]
    },
    {
     "name": "stdout",
     "output_type": "stream",
     "text": [
      "https://www.tripadvisor.com/Restaurant_Review-g60763-d8743404-Reviews-Justino_s_Pizzeria-New_York_City_New_York.html#REVIEWS\n"
     ]
    },
    {
     "name": "stderr",
     "output_type": "stream",
     "text": [
      "INFO:__main__:Found a maximum of 5 pages\n",
      "ERROR:__main__:Could not load this page\n",
      "ERROR:__main__:Message: no such element: Unable to locate element: {\"method\":\"xpath\",\"selector\":\".//a[@class=\"nav next ui_button primary\"]\"}\n",
      "  (Session info: chrome=89.0.4389.82)\n",
      "\n"
     ]
    },
    {
     "name": "stdout",
     "output_type": "stream",
     "text": [
      "https://www.tripadvisor.com/Restaurant_Review-g60763-d5327176-Reviews-American_Cut_Steakhouse_Tribeca-New_York_City_New_York.html\n"
     ]
    },
    {
     "name": "stderr",
     "output_type": "stream",
     "text": [
      "INFO:__main__:Found a maximum of 20 pages\n",
      "ERROR:__main__:Could not load this page\n",
      "ERROR:__main__:Message: no such element: Unable to locate element: {\"method\":\"xpath\",\"selector\":\".//a[@class=\"nav next ui_button primary\"]\"}\n",
      "  (Session info: chrome=89.0.4389.82)\n",
      "\n"
     ]
    },
    {
     "name": "stdout",
     "output_type": "stream",
     "text": [
      "https://www.tripadvisor.com/Restaurant_Review-g60763-d12729297-Reviews-Pizza_Beach-New_York_City_New_York.html\n"
     ]
    },
    {
     "name": "stderr",
     "output_type": "stream",
     "text": [
      "INFO:__main__:Found a maximum of 3 pages\n",
      "ERROR:__main__:Could not load this page\n",
      "ERROR:__main__:Message: no such element: Unable to locate element: {\"method\":\"xpath\",\"selector\":\".//a[@class=\"nav next ui_button primary\"]\"}\n",
      "  (Session info: chrome=89.0.4389.82)\n",
      "\n"
     ]
    },
    {
     "name": "stdout",
     "output_type": "stream",
     "text": [
      "https://www.tripadvisor.com/Restaurant_Review-g60763-d5090175-Reviews-Rizzo_s_Fine_Pizza-New_York_City_New_York.html\n"
     ]
    },
    {
     "name": "stderr",
     "output_type": "stream",
     "text": [
      "INFO:__main__:Found a maximum of 4 pages\n",
      "ERROR:__main__:Could not load this page\n",
      "ERROR:__main__:Message: no such element: Unable to locate element: {\"method\":\"xpath\",\"selector\":\".//a[@class=\"nav next ui_button primary\"]\"}\n",
      "  (Session info: chrome=89.0.4389.82)\n",
      "\n"
     ]
    },
    {
     "name": "stdout",
     "output_type": "stream",
     "text": [
      "https://www.tripadvisor.com/Restaurant_Review-g60763-d479344-Reviews-Big_Al_s_Chicago_Style_Pizza-New_York_City_New_York.html\n"
     ]
    },
    {
     "name": "stderr",
     "output_type": "stream",
     "text": [
      "INFO:__main__:Found a maximum of 4 pages\n",
      "ERROR:__main__:Could not load this page\n",
      "ERROR:__main__:Message: no such element: Unable to locate element: {\"method\":\"xpath\",\"selector\":\".//a[@class=\"nav next ui_button primary\"]\"}\n",
      "  (Session info: chrome=89.0.4389.82)\n",
      "\n"
     ]
    },
    {
     "name": "stdout",
     "output_type": "stream",
     "text": [
      "https://www.tripadvisor.com/Restaurant_Review-g60763-d8099295-Reviews-My_Pie_Pizzeria_Romana-New_York_City_New_York.html\n"
     ]
    },
    {
     "name": "stderr",
     "output_type": "stream",
     "text": [
      "INFO:__main__:Found a maximum of 13 pages\n",
      "ERROR:__main__:Could not load this page\n",
      "ERROR:__main__:Message: no such element: Unable to locate element: {\"method\":\"xpath\",\"selector\":\".//a[@class=\"nav next ui_button primary\"]\"}\n",
      "  (Session info: chrome=89.0.4389.82)\n",
      "\n"
     ]
    },
    {
     "name": "stdout",
     "output_type": "stream",
     "text": [
      "https://www.tripadvisor.com/Restaurant_Review-g60763-d7715977-Reviews-Artichoke_Basille_s_Pizza-New_York_City_New_York.html\n"
     ]
    },
    {
     "name": "stderr",
     "output_type": "stream",
     "text": [
      "INFO:__main__:Found a maximum of 11 pages\n",
      "ERROR:__main__:Could not load this page\n",
      "ERROR:__main__:Message: no such element: Unable to locate element: {\"method\":\"xpath\",\"selector\":\".//a[@class=\"nav next ui_button primary\"]\"}\n",
      "  (Session info: chrome=89.0.4389.82)\n",
      "\n"
     ]
    },
    {
     "name": "stdout",
     "output_type": "stream",
     "text": [
      "https://www.tripadvisor.com/Restaurant_Review-g60763-d13235240-Reviews-Joe_s_Pizza-New_York_City_New_York.html\n"
     ]
    },
    {
     "name": "stderr",
     "output_type": "stream",
     "text": [
      "INFO:__main__:Found a maximum of 32 pages\n",
      "ERROR:__main__:Could not load this page\n",
      "ERROR:__main__:Message: \n",
      "\n"
     ]
    },
    {
     "name": "stdout",
     "output_type": "stream",
     "text": [
      "https://www.tripadvisor.com/Restaurant_Review-g60763-d3782321-Reviews-Bravo_Pizza-New_York_City_New_York.html\n"
     ]
    },
    {
     "name": "stderr",
     "output_type": "stream",
     "text": [
      "INFO:__main__:Found a maximum of 2 pages\n",
      "ERROR:__main__:Could not load this page\n",
      "ERROR:__main__:Message: no such element: Unable to locate element: {\"method\":\"xpath\",\"selector\":\".//a[@class=\"nav next ui_button primary\"]\"}\n",
      "  (Session info: chrome=89.0.4389.82)\n",
      "\n"
     ]
    },
    {
     "name": "stdout",
     "output_type": "stream",
     "text": [
      "https://www.tripadvisor.com/Restaurant_Review-g60763-d425634-Reviews-Casabianca-New_York_City_New_York.html\n"
     ]
    },
    {
     "name": "stderr",
     "output_type": "stream",
     "text": [
      "ERROR:__main__:Could find maximum page. This page may only have one page of reviews\n",
      "ERROR:__main__:Message: \n",
      "\n",
      "ERROR:__main__:Could not load this page\n",
      "ERROR:__main__:Message: no such element: Unable to locate element: {\"method\":\"xpath\",\"selector\":\".//a[@class=\"nav next ui_button primary\"]\"}\n",
      "  (Session info: chrome=89.0.4389.82)\n",
      "\n"
     ]
    },
    {
     "name": "stdout",
     "output_type": "stream",
     "text": [
      "https://www.tripadvisor.com/Restaurant_Review-g60763-d4558437-Reviews-F_F_99_Cent_Slice_Pizza-New_York_City_New_York.html\n"
     ]
    },
    {
     "name": "stderr",
     "output_type": "stream",
     "text": [
      "ERROR:__main__:Could find maximum page. This page may only have one page of reviews\n",
      "ERROR:__main__:Message: \n",
      "\n",
      "ERROR:__main__:Could not load this page\n",
      "ERROR:__main__:Message: no such element: Unable to locate element: {\"method\":\"xpath\",\"selector\":\".//a[@class=\"nav next ui_button primary\"]\"}\n",
      "  (Session info: chrome=89.0.4389.82)\n",
      "\n"
     ]
    },
    {
     "name": "stdout",
     "output_type": "stream",
     "text": [
      "https://www.tripadvisor.com/Restaurant_Review-g60763-d8284977-Reviews-Champion_Pizza_Ludlow-New_York_City_New_York.html\n"
     ]
    },
    {
     "name": "stderr",
     "output_type": "stream",
     "text": [
      "INFO:__main__:Found a maximum of 3 pages\n",
      "ERROR:__main__:Could not load this page\n",
      "ERROR:__main__:Message: no such element: Unable to locate element: {\"method\":\"xpath\",\"selector\":\".//a[@class=\"nav next ui_button primary\"]\"}\n",
      "  (Session info: chrome=89.0.4389.82)\n",
      "\n"
     ]
    },
    {
     "name": "stdout",
     "output_type": "stream",
     "text": [
      "https://www.tripadvisor.com/Restaurant_Review-g60763-d4250201-Reviews-Sal_s_Little_Italy-New_York_City_New_York.html\n"
     ]
    },
    {
     "name": "stderr",
     "output_type": "stream",
     "text": [
      "INFO:__main__:Found a maximum of 22 pages\n",
      "ERROR:__main__:Could not load this page\n",
      "ERROR:__main__:Message: no such element: Unable to locate element: {\"method\":\"xpath\",\"selector\":\".//a[@class=\"nav next ui_button primary\"]\"}\n",
      "  (Session info: chrome=89.0.4389.82)\n",
      "\n"
     ]
    },
    {
     "name": "stdout",
     "output_type": "stream",
     "text": [
      "https://www.tripadvisor.com/Restaurant_Review-g60763-d15180107-Reviews-Roberta_s_Pizza-New_York_City_New_York.html\n"
     ]
    },
    {
     "name": "stderr",
     "output_type": "stream",
     "text": [
      "ERROR:__main__:Could find maximum page. This page may only have one page of reviews\n",
      "ERROR:__main__:Message: \n",
      "\n",
      "ERROR:__main__:Could not load this page\n",
      "ERROR:__main__:Message: no such element: Unable to locate element: {\"method\":\"xpath\",\"selector\":\".//a[@class=\"nav next ui_button primary\"]\"}\n",
      "  (Session info: chrome=89.0.4389.82)\n",
      "\n"
     ]
    },
    {
     "name": "stdout",
     "output_type": "stream",
     "text": [
      "https://www.tripadvisor.com/Restaurant_Review-g60763-d3716744-Reviews-Pronto_Pizza-New_York_City_New_York.html\n"
     ]
    },
    {
     "name": "stderr",
     "output_type": "stream",
     "text": [
      "INFO:__main__:Found a maximum of 15 pages\n",
      "ERROR:__main__:Could not load this page\n",
      "ERROR:__main__:Message: no such element: Unable to locate element: {\"method\":\"xpath\",\"selector\":\".//a[@class=\"nav next ui_button primary\"]\"}\n",
      "  (Session info: chrome=89.0.4389.82)\n",
      "\n"
     ]
    },
    {
     "name": "stdout",
     "output_type": "stream",
     "text": [
      "https://www.tripadvisor.com/Restaurant_Review-g60763-d459068-Reviews-Stromboli_Pizza_INC-New_York_City_New_York.html\n"
     ]
    },
    {
     "name": "stderr",
     "output_type": "stream",
     "text": [
      "INFO:__main__:Found a maximum of 4 pages\n",
      "ERROR:__main__:Could not load this page\n",
      "ERROR:__main__:Message: no such element: Unable to locate element: {\"method\":\"xpath\",\"selector\":\".//a[@class=\"nav next ui_button primary\"]\"}\n",
      "  (Session info: chrome=89.0.4389.82)\n",
      "\n"
     ]
    },
    {
     "name": "stdout",
     "output_type": "stream",
     "text": [
      "https://www.tripadvisor.com/Restaurant_Review-g60763-d2658794-Reviews-Garlic_New_York_Pizza_Bar-New_York_City_New_York.html\n"
     ]
    },
    {
     "name": "stderr",
     "output_type": "stream",
     "text": [
      "INFO:__main__:Found a maximum of 5 pages\n",
      "ERROR:__main__:Could not load this page\n",
      "ERROR:__main__:Message: no such element: Unable to locate element: {\"method\":\"xpath\",\"selector\":\".//a[@class=\"nav next ui_button primary\"]\"}\n",
      "  (Session info: chrome=89.0.4389.82)\n",
      "\n"
     ]
    },
    {
     "name": "stdout",
     "output_type": "stream",
     "text": [
      "https://www.tripadvisor.com/Restaurant_Review-g60763-d15166627-Reviews-Fresco_s_Pizzeria-New_York_City_New_York.html\n"
     ]
    },
    {
     "name": "stderr",
     "output_type": "stream",
     "text": [
      "ERROR:__main__:Could find maximum page. This page may only have one page of reviews\n",
      "ERROR:__main__:Message: \n",
      "\n",
      "ERROR:__main__:Could not load this page\n",
      "ERROR:__main__:Message: \n",
      "\n"
     ]
    },
    {
     "name": "stdout",
     "output_type": "stream",
     "text": [
      "https://www.tripadvisor.com/Restaurant_Review-g60763-d11837684-Reviews-Mediterraneo_Pizza-New_York_City_New_York.html\n"
     ]
    },
    {
     "name": "stderr",
     "output_type": "stream",
     "text": [
      "ERROR:__main__:Could find maximum page. This page may only have one page of reviews\n",
      "ERROR:__main__:Message: \n",
      "\n",
      "ERROR:__main__:Could not load this page\n",
      "ERROR:__main__:Message: \n",
      "\n"
     ]
    },
    {
     "name": "stdout",
     "output_type": "stream",
     "text": [
      "https://www.tripadvisor.com/Restaurant_Review-g60763-d4479332-Reviews-Luna_Pizza-New_York_City_New_York.html\n"
     ]
    },
    {
     "name": "stderr",
     "output_type": "stream",
     "text": [
      "INFO:__main__:Found a maximum of 2 pages\n",
      "ERROR:__main__:Could not load this page\n",
      "ERROR:__main__:Message: no such element: Unable to locate element: {\"method\":\"xpath\",\"selector\":\".//a[@class=\"nav next ui_button primary\"]\"}\n",
      "  (Session info: chrome=89.0.4389.82)\n",
      "\n"
     ]
    },
    {
     "name": "stdout",
     "output_type": "stream",
     "text": [
      "https://www.tripadvisor.com/Restaurant_Review-g60763-d5541569-Reviews-Lake_Como_Pizza-New_York_City_New_York.html\n"
     ]
    },
    {
     "name": "stderr",
     "output_type": "stream",
     "text": [
      "ERROR:__main__:Could find maximum page. This page may only have one page of reviews\n",
      "ERROR:__main__:Message: \n",
      "\n",
      "ERROR:__main__:Could not load this page\n",
      "ERROR:__main__:Message: no such element: Unable to locate element: {\"method\":\"xpath\",\"selector\":\".//a[@class=\"nav next ui_button primary\"]\"}\n",
      "  (Session info: chrome=89.0.4389.82)\n",
      "\n"
     ]
    },
    {
     "name": "stdout",
     "output_type": "stream",
     "text": [
      "https://www.tripadvisor.com/Restaurant_Review-g60763-d1963649-Reviews-Pizza_by_Cer_te-New_York_City_New_York.html\n"
     ]
    },
    {
     "name": "stderr",
     "output_type": "stream",
     "text": [
      "INFO:__main__:Found a maximum of 5 pages\n",
      "ERROR:__main__:Could not load this page\n",
      "ERROR:__main__:Message: no such element: Unable to locate element: {\"method\":\"xpath\",\"selector\":\".//a[@class=\"nav next ui_button primary\"]\"}\n",
      "  (Session info: chrome=89.0.4389.82)\n",
      "\n"
     ]
    },
    {
     "name": "stdout",
     "output_type": "stream",
     "text": [
      "https://www.tripadvisor.com/Restaurant_Review-g60763-d3318799-Reviews-Uncle_Paul_s_Pizza-New_York_City_New_York.html\n"
     ]
    },
    {
     "name": "stderr",
     "output_type": "stream",
     "text": [
      "INFO:__main__:Found a maximum of 62 pages\n"
     ]
    },
    {
     "name": "stdout",
     "output_type": "stream",
     "text": [
      "https://www.tripadvisor.com/Restaurant_Review-g60763-d4948188-Reviews-Highline_Pizzeria-New_York_City_New_York.html\n"
     ]
    },
    {
     "name": "stderr",
     "output_type": "stream",
     "text": [
      "INFO:__main__:Found a maximum of 3 pages\n",
      "ERROR:__main__:Could not load this page\n",
      "ERROR:__main__:Message: no such element: Unable to locate element: {\"method\":\"xpath\",\"selector\":\".//a[@class=\"nav next ui_button primary\"]\"}\n",
      "  (Session info: chrome=89.0.4389.82)\n",
      "\n"
     ]
    },
    {
     "name": "stdout",
     "output_type": "stream",
     "text": [
      "https://www.tripadvisor.com/Restaurant_Review-g60763-d10331964-Reviews-Little_Italy_Pizza-New_York_City_New_York.html\n"
     ]
    },
    {
     "name": "stderr",
     "output_type": "stream",
     "text": [
      "INFO:__main__:Found a maximum of 5 pages\n",
      "ERROR:__main__:Could not load this page\n",
      "ERROR:__main__:Message: no such element: Unable to locate element: {\"method\":\"xpath\",\"selector\":\".//a[@class=\"nav next ui_button primary\"]\"}\n",
      "  (Session info: chrome=89.0.4389.82)\n",
      "\n"
     ]
    },
    {
     "name": "stdout",
     "output_type": "stream",
     "text": [
      "https://www.tripadvisor.com/Restaurant_Review-g60763-d479380-Reviews-Angelo_s_Pizza-New_York_City_New_York.html\n"
     ]
    },
    {
     "name": "stderr",
     "output_type": "stream",
     "text": [
      "INFO:__main__:Found a maximum of 133 pages\n",
      "ERROR:__main__:Could not load this page\n",
      "ERROR:__main__:Message: \n",
      "\n"
     ]
    },
    {
     "name": "stdout",
     "output_type": "stream",
     "text": [
      "https://www.tripadvisor.com/Restaurant_Review-g60763-d3699316-Reviews-Strip_House-New_York_City_New_York.html\n"
     ]
    },
    {
     "name": "stderr",
     "output_type": "stream",
     "text": [
      "INFO:__main__:Found a maximum of 56 pages\n",
      "ERROR:__main__:Could not load this page\n",
      "ERROR:__main__:Message: no such element: Unable to locate element: {\"method\":\"xpath\",\"selector\":\".//a[@class=\"nav next ui_button primary\"]\"}\n",
      "  (Session info: chrome=89.0.4389.82)\n",
      "\n"
     ]
    },
    {
     "name": "stdout",
     "output_type": "stream",
     "text": [
      "https://www.tripadvisor.com/Restaurant_Review-g60763-d1917218-Reviews-Pizza_Italia-New_York_City_New_York.html\n"
     ]
    },
    {
     "name": "stderr",
     "output_type": "stream",
     "text": [
      "INFO:__main__:Found a maximum of 3 pages\n",
      "ERROR:__main__:Could not load this page\n",
      "ERROR:__main__:Message: no such element: Unable to locate element: {\"method\":\"xpath\",\"selector\":\".//a[@class=\"nav next ui_button primary\"]\"}\n",
      "  (Session info: chrome=89.0.4389.82)\n",
      "\n"
     ]
    },
    {
     "name": "stdout",
     "output_type": "stream",
     "text": [
      "https://www.tripadvisor.com/Restaurant_Review-g60763-d3346707-Reviews-Outback_Steakhouse-New_York_City_New_York.html\n"
     ]
    },
    {
     "name": "stderr",
     "output_type": "stream",
     "text": [
      "INFO:__main__:Found a maximum of 28 pages\n",
      "ERROR:__main__:Could not load this page\n",
      "ERROR:__main__:Message: no such element: Unable to locate element: {\"method\":\"xpath\",\"selector\":\".//a[@class=\"nav next ui_button primary\"]\"}\n",
      "  (Session info: chrome=89.0.4389.82)\n",
      "\n"
     ]
    },
    {
     "name": "stdout",
     "output_type": "stream",
     "text": [
      "https://www.tripadvisor.com/Restaurant_Review-g60763-d423910-Reviews-Delizia_92-New_York_City_New_York.html\n"
     ]
    },
    {
     "name": "stderr",
     "output_type": "stream",
     "text": [
      "INFO:__main__:Found a maximum of 6 pages\n",
      "ERROR:__main__:Could not load this page\n",
      "ERROR:__main__:Message: no such element: Unable to locate element: {\"method\":\"xpath\",\"selector\":\".//a[@class=\"nav next ui_button primary\"]\"}\n",
      "  (Session info: chrome=89.0.4389.82)\n",
      "\n"
     ]
    },
    {
     "name": "stdout",
     "output_type": "stream",
     "text": [
      "https://www.tripadvisor.com/Restaurant_Review-g60763-d15172694-Reviews-San_Matteo_Takeaway-New_York_City_New_York.html\n"
     ]
    },
    {
     "name": "stderr",
     "output_type": "stream",
     "text": [
      "ERROR:__main__:Could find maximum page. This page may only have one page of reviews\n",
      "ERROR:__main__:Message: \n",
      "\n",
      "ERROR:__main__:Could not load this page\n",
      "ERROR:__main__:Message: \n",
      "\n"
     ]
    },
    {
     "name": "stdout",
     "output_type": "stream",
     "text": [
      "https://www.tripadvisor.com/Restaurant_Review-g60763-d7596842-Reviews-Pizza_Rollio-New_York_City_New_York.html\n"
     ]
    },
    {
     "name": "stderr",
     "output_type": "stream",
     "text": [
      "INFO:__main__:Found a maximum of 9 pages\n",
      "ERROR:__main__:Could not load this page\n",
      "ERROR:__main__:Message: no such element: Unable to locate element: {\"method\":\"xpath\",\"selector\":\".//a[@class=\"nav next ui_button primary\"]\"}\n",
      "  (Session info: chrome=89.0.4389.82)\n",
      "\n"
     ]
    },
    {
     "name": "stdout",
     "output_type": "stream",
     "text": [
      "https://www.tripadvisor.com/Restaurant_Review-g60763-d459355-Reviews-Luigi_s_Pizzeria-New_York_City_New_York.html\n"
     ]
    },
    {
     "name": "stderr",
     "output_type": "stream",
     "text": [
      "INFO:__main__:Found a maximum of 3 pages\n",
      "ERROR:__main__:Could not load this page\n",
      "ERROR:__main__:Message: no such element: Unable to locate element: {\"method\":\"xpath\",\"selector\":\".//a[@class=\"nav next ui_button primary\"]\"}\n",
      "  (Session info: chrome=89.0.4389.82)\n",
      "\n"
     ]
    },
    {
     "name": "stdout",
     "output_type": "stream",
     "text": [
      "https://www.tripadvisor.com/Restaurant_Review-g60763-d3800389-Reviews-Gotham_Pizza-New_York_City_New_York.html\n"
     ]
    },
    {
     "name": "stderr",
     "output_type": "stream",
     "text": [
      "INFO:__main__:Found a maximum of 2 pages\n",
      "ERROR:__main__:Could not load this page\n",
      "ERROR:__main__:Message: \n",
      "\n"
     ]
    },
    {
     "name": "stdout",
     "output_type": "stream",
     "text": [
      "https://www.tripadvisor.com/Restaurant_Review-g60763-d533219-Reviews-Frank_s_Trattoria-New_York_City_New_York.html\n"
     ]
    },
    {
     "ename": "WebDriverException",
     "evalue": "Message: unknown error: Chrome failed to start: exited abnormally.\n  (unknown error: DevToolsActivePort file doesn't exist)\n  (The process started from chrome location /usr/bin/google-chrome is no longer running, so ChromeDriver is assuming that Chrome has crashed.)\n",
     "output_type": "error",
     "traceback": [
      "\u001b[0;31m---------------------------------------------------------------------------\u001b[0m",
      "\u001b[0;31mWebDriverException\u001b[0m                        Traceback (most recent call last)",
      "\u001b[0;32m<ipython-input-36-df9e33c5bad6>\u001b[0m in \u001b[0;36m<module>\u001b[0;34m\u001b[0m\n\u001b[1;32m     10\u001b[0m     \u001b[0murl\u001b[0m \u001b[0;34m=\u001b[0m \u001b[0mrow\u001b[0m\u001b[0;34m[\u001b[0m\u001b[0;34m\"NYC_extract.TripAdvisor.URL\"\u001b[0m\u001b[0;34m]\u001b[0m\u001b[0;34m\u001b[0m\u001b[0;34m\u001b[0m\u001b[0m\n\u001b[1;32m     11\u001b[0m     \u001b[0mprint\u001b[0m\u001b[0;34m(\u001b[0m\u001b[0murl\u001b[0m\u001b[0;34m)\u001b[0m\u001b[0;34m\u001b[0m\u001b[0;34m\u001b[0m\u001b[0m\n\u001b[0;32m---> 12\u001b[0;31m     \u001b[0mscrape_url\u001b[0m\u001b[0;34m(\u001b[0m\u001b[0murl\u001b[0m\u001b[0;34m,\u001b[0m \u001b[0mcsvWriter\u001b[0m\u001b[0;34m,\u001b[0m \u001b[0mrestaurant\u001b[0m\u001b[0;34m=\u001b[0m\u001b[0mrestaruant_name\u001b[0m\u001b[0;34m,\u001b[0m \u001b[0mdebug\u001b[0m\u001b[0;34m=\u001b[0m\u001b[0;32mFalse\u001b[0m\u001b[0;34m)\u001b[0m\u001b[0;34m\u001b[0m\u001b[0;34m\u001b[0m\u001b[0m\n\u001b[0m",
      "\u001b[0;32m<ipython-input-32-a962f718eafa>\u001b[0m in \u001b[0;36mscrape_url\u001b[0;34m(url, csvWriter, restaurant, debug)\u001b[0m\n\u001b[1;32m     10\u001b[0m \u001b[0;34m\u001b[0m\u001b[0m\n\u001b[1;32m     11\u001b[0m     \u001b[0;31m# Import the webdriver\u001b[0m\u001b[0;34m\u001b[0m\u001b[0;34m\u001b[0m\u001b[0;34m\u001b[0m\u001b[0m\n\u001b[0;32m---> 12\u001b[0;31m     \u001b[0mdriver\u001b[0m \u001b[0;34m=\u001b[0m \u001b[0mwebdriver\u001b[0m\u001b[0;34m.\u001b[0m\u001b[0mChrome\u001b[0m\u001b[0;34m(\u001b[0m\u001b[0mPATH\u001b[0m\u001b[0;34m)\u001b[0m\u001b[0;34m\u001b[0m\u001b[0;34m\u001b[0m\u001b[0m\n\u001b[0m\u001b[1;32m     13\u001b[0m     \u001b[0mdriver\u001b[0m\u001b[0;34m.\u001b[0m\u001b[0mget\u001b[0m\u001b[0;34m(\u001b[0m\u001b[0murl\u001b[0m\u001b[0;34m)\u001b[0m\u001b[0;34m\u001b[0m\u001b[0;34m\u001b[0m\u001b[0m\n\u001b[1;32m     14\u001b[0m \u001b[0;34m\u001b[0m\u001b[0m\n",
      "\u001b[0;32m~/anaconda3/envs/revs-sum/lib/python3.7/site-packages/selenium/webdriver/chrome/webdriver.py\u001b[0m in \u001b[0;36m__init__\u001b[0;34m(self, executable_path, port, options, service_args, desired_capabilities, service_log_path, chrome_options, keep_alive)\u001b[0m\n\u001b[1;32m     79\u001b[0m                     \u001b[0mremote_server_addr\u001b[0m\u001b[0;34m=\u001b[0m\u001b[0mself\u001b[0m\u001b[0;34m.\u001b[0m\u001b[0mservice\u001b[0m\u001b[0;34m.\u001b[0m\u001b[0mservice_url\u001b[0m\u001b[0;34m,\u001b[0m\u001b[0;34m\u001b[0m\u001b[0;34m\u001b[0m\u001b[0m\n\u001b[1;32m     80\u001b[0m                     keep_alive=keep_alive),\n\u001b[0;32m---> 81\u001b[0;31m                 desired_capabilities=desired_capabilities)\n\u001b[0m\u001b[1;32m     82\u001b[0m         \u001b[0;32mexcept\u001b[0m \u001b[0mException\u001b[0m\u001b[0;34m:\u001b[0m\u001b[0;34m\u001b[0m\u001b[0;34m\u001b[0m\u001b[0m\n\u001b[1;32m     83\u001b[0m             \u001b[0mself\u001b[0m\u001b[0;34m.\u001b[0m\u001b[0mquit\u001b[0m\u001b[0;34m(\u001b[0m\u001b[0;34m)\u001b[0m\u001b[0;34m\u001b[0m\u001b[0;34m\u001b[0m\u001b[0m\n",
      "\u001b[0;32m~/anaconda3/envs/revs-sum/lib/python3.7/site-packages/selenium/webdriver/remote/webdriver.py\u001b[0m in \u001b[0;36m__init__\u001b[0;34m(self, command_executor, desired_capabilities, browser_profile, proxy, keep_alive, file_detector, options)\u001b[0m\n\u001b[1;32m    155\u001b[0m             warnings.warn(\"Please use FirefoxOptions to set browser profile\",\n\u001b[1;32m    156\u001b[0m                           DeprecationWarning, stacklevel=2)\n\u001b[0;32m--> 157\u001b[0;31m         \u001b[0mself\u001b[0m\u001b[0;34m.\u001b[0m\u001b[0mstart_session\u001b[0m\u001b[0;34m(\u001b[0m\u001b[0mcapabilities\u001b[0m\u001b[0;34m,\u001b[0m \u001b[0mbrowser_profile\u001b[0m\u001b[0;34m)\u001b[0m\u001b[0;34m\u001b[0m\u001b[0;34m\u001b[0m\u001b[0m\n\u001b[0m\u001b[1;32m    158\u001b[0m         \u001b[0mself\u001b[0m\u001b[0;34m.\u001b[0m\u001b[0m_switch_to\u001b[0m \u001b[0;34m=\u001b[0m \u001b[0mSwitchTo\u001b[0m\u001b[0;34m(\u001b[0m\u001b[0mself\u001b[0m\u001b[0;34m)\u001b[0m\u001b[0;34m\u001b[0m\u001b[0;34m\u001b[0m\u001b[0m\n\u001b[1;32m    159\u001b[0m         \u001b[0mself\u001b[0m\u001b[0;34m.\u001b[0m\u001b[0m_mobile\u001b[0m \u001b[0;34m=\u001b[0m \u001b[0mMobile\u001b[0m\u001b[0;34m(\u001b[0m\u001b[0mself\u001b[0m\u001b[0;34m)\u001b[0m\u001b[0;34m\u001b[0m\u001b[0;34m\u001b[0m\u001b[0m\n",
      "\u001b[0;32m~/anaconda3/envs/revs-sum/lib/python3.7/site-packages/selenium/webdriver/remote/webdriver.py\u001b[0m in \u001b[0;36mstart_session\u001b[0;34m(self, capabilities, browser_profile)\u001b[0m\n\u001b[1;32m    250\u001b[0m         parameters = {\"capabilities\": w3c_caps,\n\u001b[1;32m    251\u001b[0m                       \"desiredCapabilities\": capabilities}\n\u001b[0;32m--> 252\u001b[0;31m         \u001b[0mresponse\u001b[0m \u001b[0;34m=\u001b[0m \u001b[0mself\u001b[0m\u001b[0;34m.\u001b[0m\u001b[0mexecute\u001b[0m\u001b[0;34m(\u001b[0m\u001b[0mCommand\u001b[0m\u001b[0;34m.\u001b[0m\u001b[0mNEW_SESSION\u001b[0m\u001b[0;34m,\u001b[0m \u001b[0mparameters\u001b[0m\u001b[0;34m)\u001b[0m\u001b[0;34m\u001b[0m\u001b[0;34m\u001b[0m\u001b[0m\n\u001b[0m\u001b[1;32m    253\u001b[0m         \u001b[0;32mif\u001b[0m \u001b[0;34m'sessionId'\u001b[0m \u001b[0;32mnot\u001b[0m \u001b[0;32min\u001b[0m \u001b[0mresponse\u001b[0m\u001b[0;34m:\u001b[0m\u001b[0;34m\u001b[0m\u001b[0;34m\u001b[0m\u001b[0m\n\u001b[1;32m    254\u001b[0m             \u001b[0mresponse\u001b[0m \u001b[0;34m=\u001b[0m \u001b[0mresponse\u001b[0m\u001b[0;34m[\u001b[0m\u001b[0;34m'value'\u001b[0m\u001b[0;34m]\u001b[0m\u001b[0;34m\u001b[0m\u001b[0;34m\u001b[0m\u001b[0m\n",
      "\u001b[0;32m~/anaconda3/envs/revs-sum/lib/python3.7/site-packages/selenium/webdriver/remote/webdriver.py\u001b[0m in \u001b[0;36mexecute\u001b[0;34m(self, driver_command, params)\u001b[0m\n\u001b[1;32m    319\u001b[0m         \u001b[0mresponse\u001b[0m \u001b[0;34m=\u001b[0m \u001b[0mself\u001b[0m\u001b[0;34m.\u001b[0m\u001b[0mcommand_executor\u001b[0m\u001b[0;34m.\u001b[0m\u001b[0mexecute\u001b[0m\u001b[0;34m(\u001b[0m\u001b[0mdriver_command\u001b[0m\u001b[0;34m,\u001b[0m \u001b[0mparams\u001b[0m\u001b[0;34m)\u001b[0m\u001b[0;34m\u001b[0m\u001b[0;34m\u001b[0m\u001b[0m\n\u001b[1;32m    320\u001b[0m         \u001b[0;32mif\u001b[0m \u001b[0mresponse\u001b[0m\u001b[0;34m:\u001b[0m\u001b[0;34m\u001b[0m\u001b[0;34m\u001b[0m\u001b[0m\n\u001b[0;32m--> 321\u001b[0;31m             \u001b[0mself\u001b[0m\u001b[0;34m.\u001b[0m\u001b[0merror_handler\u001b[0m\u001b[0;34m.\u001b[0m\u001b[0mcheck_response\u001b[0m\u001b[0;34m(\u001b[0m\u001b[0mresponse\u001b[0m\u001b[0;34m)\u001b[0m\u001b[0;34m\u001b[0m\u001b[0;34m\u001b[0m\u001b[0m\n\u001b[0m\u001b[1;32m    322\u001b[0m             response['value'] = self._unwrap_value(\n\u001b[1;32m    323\u001b[0m                 response.get('value', None))\n",
      "\u001b[0;32m~/anaconda3/envs/revs-sum/lib/python3.7/site-packages/selenium/webdriver/remote/errorhandler.py\u001b[0m in \u001b[0;36mcheck_response\u001b[0;34m(self, response)\u001b[0m\n\u001b[1;32m    240\u001b[0m                 \u001b[0malert_text\u001b[0m \u001b[0;34m=\u001b[0m \u001b[0mvalue\u001b[0m\u001b[0;34m[\u001b[0m\u001b[0;34m'alert'\u001b[0m\u001b[0;34m]\u001b[0m\u001b[0;34m.\u001b[0m\u001b[0mget\u001b[0m\u001b[0;34m(\u001b[0m\u001b[0;34m'text'\u001b[0m\u001b[0;34m)\u001b[0m\u001b[0;34m\u001b[0m\u001b[0;34m\u001b[0m\u001b[0m\n\u001b[1;32m    241\u001b[0m             \u001b[0;32mraise\u001b[0m \u001b[0mexception_class\u001b[0m\u001b[0;34m(\u001b[0m\u001b[0mmessage\u001b[0m\u001b[0;34m,\u001b[0m \u001b[0mscreen\u001b[0m\u001b[0;34m,\u001b[0m \u001b[0mstacktrace\u001b[0m\u001b[0;34m,\u001b[0m \u001b[0malert_text\u001b[0m\u001b[0;34m)\u001b[0m\u001b[0;34m\u001b[0m\u001b[0;34m\u001b[0m\u001b[0m\n\u001b[0;32m--> 242\u001b[0;31m         \u001b[0;32mraise\u001b[0m \u001b[0mexception_class\u001b[0m\u001b[0;34m(\u001b[0m\u001b[0mmessage\u001b[0m\u001b[0;34m,\u001b[0m \u001b[0mscreen\u001b[0m\u001b[0;34m,\u001b[0m \u001b[0mstacktrace\u001b[0m\u001b[0;34m)\u001b[0m\u001b[0;34m\u001b[0m\u001b[0;34m\u001b[0m\u001b[0m\n\u001b[0m\u001b[1;32m    243\u001b[0m \u001b[0;34m\u001b[0m\u001b[0m\n\u001b[1;32m    244\u001b[0m     \u001b[0;32mdef\u001b[0m \u001b[0m_value_or_default\u001b[0m\u001b[0;34m(\u001b[0m\u001b[0mself\u001b[0m\u001b[0;34m,\u001b[0m \u001b[0mobj\u001b[0m\u001b[0;34m,\u001b[0m \u001b[0mkey\u001b[0m\u001b[0;34m,\u001b[0m \u001b[0mdefault\u001b[0m\u001b[0;34m)\u001b[0m\u001b[0;34m:\u001b[0m\u001b[0;34m\u001b[0m\u001b[0;34m\u001b[0m\u001b[0m\n",
      "\u001b[0;31mWebDriverException\u001b[0m: Message: unknown error: Chrome failed to start: exited abnormally.\n  (unknown error: DevToolsActivePort file doesn't exist)\n  (The process started from chrome location /usr/bin/google-chrome is no longer running, so ChromeDriver is assuming that Chrome has crashed.)\n"
     ]
    }
   ],
   "source": [
    "# default path to file to store data\n",
    "path_to_file = \"../datasets/scraped_final_list_URL_TripAdvisor.csv\"\n",
    "\n",
    "# Open the file to save the review\n",
    "csvFile = open(path_to_file, 'a', encoding=\"utf-8\")\n",
    "csvWriter = csv.writer(csvFile)\n",
    "\n",
    "for i, row in df.iterrows():\n",
    "    restaruant_name = row[\"NYC_extract.DBA\"]\n",
    "    url = row[\"NYC_extract.TripAdvisor.URL\"]\n",
    "    print(url)\n",
    "    \n",
    "    chrome_options = Options()\n",
    "    chrome_options.add_argument('--no-sandbox')\n",
    "    chrome_options.add_argument('--headless')\n",
    "    chrome_options.add_argument('--disable-dev-shm-usage')\n",
    "    \n",
    "    driver_args = { \"chrome_options\" : chrome_options }\n",
    "    \n",
    "    scrape_url(url, csvWriter, restaurant=restaruant_name, debug=False, driver_args=driver_args)"
   ]
  }
 ],
 "metadata": {
  "kernelspec": {
   "display_name": "Python 3",
   "language": "python",
   "name": "python3"
  },
  "language_info": {
   "codemirror_mode": {
    "name": "ipython",
    "version": 3
   },
   "file_extension": ".py",
   "mimetype": "text/x-python",
   "name": "python",
   "nbconvert_exporter": "python",
   "pygments_lexer": "ipython3",
   "version": "3.7.10"
  },
  "latex_envs": {
   "LaTeX_envs_menu_present": true,
   "autoclose": false,
   "autocomplete": true,
   "bibliofile": "biblio.bib",
   "cite_by": "apalike",
   "current_citInitial": 1,
   "eqLabelWithNumbers": true,
   "eqNumInitial": 1,
   "hotkeys": {
    "equation": "Ctrl-E",
    "itemize": "Ctrl-I"
   },
   "labels_anchors": false,
   "latex_user_defs": false,
   "report_style_numbering": false,
   "user_envs_cfg": false
  },
  "notify_time": "30",
  "toc": {
   "base_numbering": 1,
   "nav_menu": {},
   "number_sections": true,
   "sideBar": true,
   "skip_h1_title": false,
   "title_cell": "Table of Contents",
   "title_sidebar": "Contents",
   "toc_cell": false,
   "toc_position": {},
   "toc_section_display": true,
   "toc_window_display": false
  }
 },
 "nbformat": 4,
 "nbformat_minor": 4
}
